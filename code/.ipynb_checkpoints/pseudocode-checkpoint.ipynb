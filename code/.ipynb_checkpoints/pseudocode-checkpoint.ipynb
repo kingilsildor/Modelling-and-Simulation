{
 "cells": [
  {
   "cell_type": "markdown",
   "metadata": {},
   "source": [
    "1. Pick an arbitrary state $s \\in \\sum$, and call it the quiescent state $s_q$\n",
    "2. Count the number of rules in $\\Delta$ that produce this particular quiescent state, and call it $n$\n",
    "3. The other $k^{N}-n$ transitions must produce the non-quiescent states of $\\sum - s_q$, but may otherwise be\n",
    "chosen at random.\n",
    "$$ \\lambda(\\Delta) = \\frac{k^N - n}{k^N}$$"
   ]
  },
  {
   "cell_type": "markdown",
   "metadata": {},
   "source": [
    "Define $\\lambda(\\Delta)$ as the fraction of entries in $\\Delta$ that\n",
    "map to a non-zero value, i.e., $s_q = 0$ \n",
    "\n",
    "$N_0(\\Delta)$ = number neighbour configurations = 0\n",
    "\n",
    "$$ \\lambda(\\Delta) = 1 - \\frac{N_0(\\Delta)}{k^N}$$"
   ]
  },
  {
   "cell_type": "markdown",
   "metadata": {},
   "source": [
    "If $n = k^N$, all rules lead to $s_q,\\lambda = 0 $\n",
    "\n",
    "If $n = 0$, no rules lead to $s_q, \\lambda = 0 $\n",
    "$$ \\lambda(\\Delta) = \\frac{k^N - n}{k^N}$$\n",
    "\n",
    "All states represented equally: \n",
    "$$ n = \\frac{k^N}{k}, \\lambda = 1 - \\frac{1}{k} $$"
   ]
  },
  {
   "cell_type": "markdown",
   "metadata": {},
   "source": [
    "Two methods to build rule table for a particular value of $\\lambda$\n",
    "- Random table: $\\lambda$ is a bias on the random selection of states from $\\sum$.\n",
    "- Table walkthrough: start wih table entirely set to $s_q$ and change some to random according to $\\lambda$"
   ]
  },
  {
   "cell_type": "markdown",
   "metadata": {},
   "source": [
    "all possible rules = $ k^N $"
   ]
  },
  {
   "cell_type": "code",
   "execution_count": 48,
   "metadata": {},
   "outputs": [
    {
     "data": {
      "text/html": [
       "<div>\n",
       "<style scoped>\n",
       "    .dataframe tbody tr th:only-of-type {\n",
       "        vertical-align: middle;\n",
       "    }\n",
       "\n",
       "    .dataframe tbody tr th {\n",
       "        vertical-align: top;\n",
       "    }\n",
       "\n",
       "    .dataframe thead th {\n",
       "        text-align: right;\n",
       "    }\n",
       "</style>\n",
       "<table border=\"1\" class=\"dataframe\">\n",
       "  <thead>\n",
       "    <tr style=\"text-align: right;\">\n",
       "      <th></th>\n",
       "      <th>0</th>\n",
       "      <th>complexity</th>\n",
       "    </tr>\n",
       "  </thead>\n",
       "  <tbody>\n",
       "    <tr>\n",
       "      <th>0</th>\n",
       "      <td>NaN</td>\n",
       "      <td>1</td>\n",
       "    </tr>\n",
       "    <tr>\n",
       "      <th>1</th>\n",
       "      <td>1.0</td>\n",
       "      <td>2</td>\n",
       "    </tr>\n",
       "    <tr>\n",
       "      <th>2</th>\n",
       "      <td>2.0</td>\n",
       "      <td>2</td>\n",
       "    </tr>\n",
       "    <tr>\n",
       "      <th>3</th>\n",
       "      <td>3.0</td>\n",
       "      <td>2</td>\n",
       "    </tr>\n",
       "    <tr>\n",
       "      <th>4</th>\n",
       "      <td>4.0</td>\n",
       "      <td>2</td>\n",
       "    </tr>\n",
       "    <tr>\n",
       "      <th>...</th>\n",
       "      <td>...</td>\n",
       "      <td>...</td>\n",
       "    </tr>\n",
       "    <tr>\n",
       "      <th>251</th>\n",
       "      <td>251.0</td>\n",
       "      <td>1</td>\n",
       "    </tr>\n",
       "    <tr>\n",
       "      <th>252</th>\n",
       "      <td>252.0</td>\n",
       "      <td>1</td>\n",
       "    </tr>\n",
       "    <tr>\n",
       "      <th>253</th>\n",
       "      <td>253.0</td>\n",
       "      <td>1</td>\n",
       "    </tr>\n",
       "    <tr>\n",
       "      <th>254</th>\n",
       "      <td>254.0</td>\n",
       "      <td>1</td>\n",
       "    </tr>\n",
       "    <tr>\n",
       "      <th>255</th>\n",
       "      <td>255.0</td>\n",
       "      <td>1</td>\n",
       "    </tr>\n",
       "  </tbody>\n",
       "</table>\n",
       "<p>256 rows × 2 columns</p>\n",
       "</div>"
      ],
      "text/plain": [
       "         0  complexity\n",
       "0      NaN           1\n",
       "1      1.0           2\n",
       "2      2.0           2\n",
       "3      3.0           2\n",
       "4      4.0           2\n",
       "..     ...         ...\n",
       "251  251.0           1\n",
       "252  252.0           1\n",
       "253  253.0           1\n",
       "254  254.0           1\n",
       "255  255.0           1\n",
       "\n",
       "[256 rows x 2 columns]"
      ]
     },
     "execution_count": 48,
     "metadata": {},
     "output_type": "execute_result"
    }
   ],
   "source": [
    "df = pd.read_csv(\"rule_class_wolfram.csv\")\n",
    "df.rename(columns={'1': 'complexity'}, inplace=True)\n",
    "df.drop(['0'], axis=1)\n",
    "\n",
    "# New row data\n",
    "new_row = {'rules': 0, 'complexity': 1}\n",
    "\n",
    "# Insert the new row at the beginning\n",
    "df.loc[-1] = new_row\n",
    "df.index = df.index + 1\n",
    "df = df.sort_index()\n",
    "df"
   ]
  },
  {
   "cell_type": "code",
   "execution_count": null,
   "metadata": {},
   "outputs": [],
   "source": []
  }
 ],
 "metadata": {
  "kernelspec": {
   "display_name": "Python 3 (ipykernel)",
   "language": "python",
   "name": "python3"
  },
  "language_info": {
   "codemirror_mode": {
    "name": "ipython",
    "version": 3
   },
   "file_extension": ".py",
   "mimetype": "text/x-python",
   "name": "python",
   "nbconvert_exporter": "python",
   "pygments_lexer": "ipython3",
   "version": "3.11.4"
  }
 },
 "nbformat": 4,
 "nbformat_minor": 2
}
