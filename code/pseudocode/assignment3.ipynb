{
 "cells": [
  {
   "cell_type": "markdown",
   "metadata": {},
   "source": [
    "**ECA / Wolfram rule 184 is known as the ’traffic rule’. Implement it; use periodic boundary\n",
    "conditions. Explain in what way it models bottleneck-free congestion by looking at its state\n",
    "transition table.**"
   ]
  },
  {
   "cell_type": "markdown",
   "metadata": {},
   "source": [
    " "
   ]
  },
  {
   "cell_type": "markdown",
   "metadata": {},
   "source": [
    "**Show the evolution of a CA of size N = 50 cells for 50 time steps for the ’car’ densities 0.4\n",
    "and 0.9. Describe briefly what you see.**"
   ]
  },
  {
   "cell_type": "markdown",
   "metadata": {},
   "source": [
    "How are we gonna start with the densities?\n",
    "> We can make the initial state as the car density where 40% are cars (k = 1) and 60% are empty (k = 0)\n"
   ]
  },
  {
   "cell_type": "markdown",
   "metadata": {},
   "source": []
  }
 ],
 "metadata": {
  "language_info": {
   "name": "python"
  }
 },
 "nbformat": 4,
 "nbformat_minor": 2
}
