{
 "cells": [
  {
   "cell_type": "markdown",
   "metadata": {},
   "source": [
    "**ECA / Wolfram rule 184 is known as the ’traffic rule’. Implement it; use periodic boundary\n",
    "conditions. Explain in what way it models bottleneck-free congestion by looking at its state\n",
    "transition table.**"
   ]
  },
  {
   "cell_type": "markdown",
   "metadata": {},
   "source": [
    " "
   ]
  },
  {
   "cell_type": "markdown",
   "metadata": {},
   "source": [
    "**Show the evolution of a CA of size N = 50 cells for 50 time steps for the ’car’ densities 0.4\n",
    "and 0.9. Describe briefly what you see.**"
   ]
  },
  {
   "cell_type": "markdown",
   "metadata": {},
   "source": [
    "How are we gonna start with the densities?\n",
    "> We can make the initial state as the car density where 40% are cars (k = 1) and 60% are empty (k = 0)\n"
   ]
  },
  {
   "cell_type": "markdown",
   "metadata": {},
   "source": [
    "Write a function which calculates a ’car flow’ value for a given initial state for the CA. We\n",
    "will define it as the number of 1s (’cars’) that cross your system boundary on the right-hand\n",
    "side, per unit time. This represents a measurement that we can compute on a (simulated)\n",
    "experiment. Use a sufficiently large number of time steps, denoted T , to measure this\n",
    "reliably, e.g., T ≥ 1000. Pick any N ≥ 50.\n",
    "\n",
    "Plot this car flow as function of the initial density of cars, using at least 20 density values in\n",
    "the range [0.0, 1.0]. For each density value you should generate multiple initial states and\n",
    "plot average the car flow for each initial state. Let us denote the number of initial states that\n",
    "you sample and average over by R. Is there a clear phase transition, and if so, at which\n",
    "density value?"
   ]
  },
  {
   "cell_type": "markdown",
   "metadata": {},
   "source": []
  }
 ],
 "metadata": {
  "language_info": {
   "name": "python"
  }
 },
 "nbformat": 4,
 "nbformat_minor": 2
}
