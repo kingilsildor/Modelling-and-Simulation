{
 "cells": [
  {
   "cell_type": "code",
   "execution_count": 1,
   "metadata": {},
   "outputs": [],
   "source": [
    "import numpy as np\n",
    "import pandas as df\n",
    "import matplotlib.pyplot as plt\n",
    "import sklearn\n",
    "\n",
    "import malaria_skeleton as ms\n",
    "import malaria_visualize"
   ]
  },
  {
   "cell_type": "markdown",
   "metadata": {},
   "source": [
    "```python\n",
    "# Simulation parameters\n",
    "fileName = 'simulation'\n",
    "# Amount of days\n",
    "timeSteps = 500\n",
    "t = 0\n",
    "plotData = False\n",
    "\n",
    "# Run a simulation for an indicated number of timesteps.\n",
    "file = open(fileName + '.csv', 'w')\n",
    "sim = ms.Model(height=50, width=50)\n",
    "print('Starting simulation')\n",
    "while t < timeSteps:\n",
    "\t[d1, d2, d3] = sim.update()  # Catch the data\n",
    "\tline = str(t) + ',' + str(d1) + ',' + str(d2) + ',' + str(d3) + '\\n'  # Separate the data with commas\n",
    "\tfile.write(line)  # Write the data to a .csv file\n",
    "\tt += 1\n",
    "file.close()\n",
    "\n",
    "\n",
    "```"
   ]
  },
  {
   "cell_type": "markdown",
   "metadata": {},
   "source": [
    "https://www.severemalaria.org/countries/nigeria\n",
    "\n",
    "26.6% had malaria\n",
    "31% daarvan kwam te overlijden\n",
    "\n",
    "https://data.worldbank.org/indicator/SP.POP.TOTL?locations=NG\n",
    "\n",
    "213.401.323 inwoners"
   ]
  },
  {
   "cell_type": "code",
   "execution_count": 2,
   "metadata": {},
   "outputs": [],
   "source": [
    "# Standard parameters:\n",
    "T = 366\n",
    "width=100\n",
    "height=100\n",
    "humanPopDensity=0.23 \n",
    "mosquitoPopDensity=0.35\n",
    "\n",
    "humanInfectionProb=0.266\n",
    "illnessDeathProb=0.31\n",
    "illnessIncubationTime=4\n",
    "illnessContagiousTime=30\n",
    "\n",
    "nHuman = int(width * height * humanPopDensity)\n",
    "nMosquito = int(width * height * mosquitoPopDensity * humanPopDensity)\n",
    "\n",
    "\n",
    "# Fitting parameters\n",
    "initMosquitoHungry=0.5\n",
    "initHumanInfected=0.2\n",
    "humanImmuneProb=0.001\n",
    "humanReInfectionProb=0.15\n",
    "mosquitoInfectionProb=0.9\n",
    "mosquitoMinage=14\n",
    "mosquitoMaxage=32\n",
    "mosquitoFeedingCycle=15\n",
    "biteProb=1.0\n"
   ]
  },
  {
   "cell_type": "code",
   "execution_count": 3,
   "metadata": {},
   "outputs": [],
   "source": [
    "# # Real results\n",
    "# nCases = nHuman * humanInfectionProb\n",
    "# nDeath = nCases * illnessDeathProb\n",
    "# nCases,nDeath"
   ]
  },
  {
   "cell_type": "code",
   "execution_count": 4,
   "metadata": {},
   "outputs": [],
   "source": [
    "width=100\n",
    "height=100\n",
    "humanPopDensity=0.23 \n",
    "mosquitoPopDensity=0.35\n",
    "\n",
    "humanInfectionProb=0.266\n",
    "illnessDeathProb=0.31\n",
    "illnessIncubationTime=4\n",
    "illnessContagiousTime=30"
   ]
  },
  {
   "cell_type": "code",
   "execution_count": 8,
   "metadata": {},
   "outputs": [],
   "source": [
    "initial_parameters = {\n",
    "    'initMosquitoHungry': 0.5,\n",
    "    'initHumanInfected': 0.2,\n",
    "    'humanImmuneProb': 0.01,\n",
    "    'humanReInfectionProb': 0.15,\n",
    "    'illnessIncubationTime': 4,\n",
    "    'illnessContagiousTime': 30,\n",
    "    'mosquitoInfectionProb': 0.9,\n",
    "    'mosquitoMinage': 14,\n",
    "    'mosquitoMaxage': 65,\n",
    "    'mosquitoFeedingCycle': 15,\n",
    "    'biteProb': 1.0\n",
    "}\n"
   ]
  },
  {
   "cell_type": "code",
   "execution_count": 16,
   "metadata": {},
   "outputs": [
    {
     "ename": "TypeError",
     "evalue": "run_simulation() missing 1 required positional argument: 'parameters'",
     "output_type": "error",
     "traceback": [
      "\u001b[1;31m---------------------------------------------------------------------------\u001b[0m",
      "\u001b[1;31mTypeError\u001b[0m                                 Traceback (most recent call last)",
      "\u001b[1;32md:\\Programming\\uva\\2023-2024\\modelling_simulation\\code\\malaria_skeleton\\parameterfitting.ipynb Cell 9\u001b[0m line \u001b[0;36m3\n\u001b[0;32m     <a href='vscode-notebook-cell:/d%3A/Programming/uva/2023-2024/modelling_simulation/code/malaria_skeleton/parameterfitting.ipynb#X15sZmlsZQ%3D%3D?line=26'>27</a>\u001b[0m parameter_bounds \u001b[39m=\u001b[39m [(\u001b[39m0\u001b[39m,\u001b[39m1\u001b[39m) \u001b[39mif\u001b[39;00m \u001b[39misinstance\u001b[39m(value, \u001b[39mfloat\u001b[39m) \u001b[39melse\u001b[39;00m \u001b[39mNone\u001b[39;00m \u001b[39mfor\u001b[39;00m value \u001b[39min\u001b[39;00m initial_parameters]\n\u001b[0;32m     <a href='vscode-notebook-cell:/d%3A/Programming/uva/2023-2024/modelling_simulation/code/malaria_skeleton/parameterfitting.ipynb#X15sZmlsZQ%3D%3D?line=28'>29</a>\u001b[0m \u001b[39m# Run the optimization\u001b[39;00m\n\u001b[1;32m---> <a href='vscode-notebook-cell:/d%3A/Programming/uva/2023-2024/modelling_simulation/code/malaria_skeleton/parameterfitting.ipynb#X15sZmlsZQ%3D%3D?line=29'>30</a>\u001b[0m result \u001b[39m=\u001b[39m minimize(fun\u001b[39m=\u001b[39mrun_simulation, x0\u001b[39m=\u001b[39minitial_parameters)\n\u001b[0;32m     <a href='vscode-notebook-cell:/d%3A/Programming/uva/2023-2024/modelling_simulation/code/malaria_skeleton/parameterfitting.ipynb#X15sZmlsZQ%3D%3D?line=31'>32</a>\u001b[0m \u001b[39m# Extract the optimized parameters\u001b[39;00m\n\u001b[0;32m     <a href='vscode-notebook-cell:/d%3A/Programming/uva/2023-2024/modelling_simulation/code/malaria_skeleton/parameterfitting.ipynb#X15sZmlsZQ%3D%3D?line=32'>33</a>\u001b[0m optimized_parameters \u001b[39m=\u001b[39m result\u001b[39m.\u001b[39mx\n",
      "File \u001b[1;32mc:\\Users\\Tycho\\anaconda3\\envs\\modelling\\Lib\\site-packages\\scipy\\optimize\\_minimize.py:705\u001b[0m, in \u001b[0;36mminimize\u001b[1;34m(fun, x0, args, method, jac, hess, hessp, bounds, constraints, tol, callback, options)\u001b[0m\n\u001b[0;32m    703\u001b[0m     res \u001b[39m=\u001b[39m _minimize_cg(fun, x0, args, jac, callback, \u001b[39m*\u001b[39m\u001b[39m*\u001b[39moptions)\n\u001b[0;32m    704\u001b[0m \u001b[39melif\u001b[39;00m meth \u001b[39m==\u001b[39m \u001b[39m'\u001b[39m\u001b[39mbfgs\u001b[39m\u001b[39m'\u001b[39m:\n\u001b[1;32m--> 705\u001b[0m     res \u001b[39m=\u001b[39m _minimize_bfgs(fun, x0, args, jac, callback, \u001b[39m*\u001b[39m\u001b[39m*\u001b[39moptions)\n\u001b[0;32m    706\u001b[0m \u001b[39melif\u001b[39;00m meth \u001b[39m==\u001b[39m \u001b[39m'\u001b[39m\u001b[39mnewton-cg\u001b[39m\u001b[39m'\u001b[39m:\n\u001b[0;32m    707\u001b[0m     res \u001b[39m=\u001b[39m _minimize_newtoncg(fun, x0, args, jac, hess, hessp, callback,\n\u001b[0;32m    708\u001b[0m                              \u001b[39m*\u001b[39m\u001b[39m*\u001b[39moptions)\n",
      "File \u001b[1;32mc:\\Users\\Tycho\\anaconda3\\envs\\modelling\\Lib\\site-packages\\scipy\\optimize\\_optimize.py:1419\u001b[0m, in \u001b[0;36m_minimize_bfgs\u001b[1;34m(fun, x0, args, jac, callback, gtol, norm, eps, maxiter, disp, return_all, finite_diff_rel_step, xrtol, **unknown_options)\u001b[0m\n\u001b[0;32m   1416\u001b[0m \u001b[39mif\u001b[39;00m maxiter \u001b[39mis\u001b[39;00m \u001b[39mNone\u001b[39;00m:\n\u001b[0;32m   1417\u001b[0m     maxiter \u001b[39m=\u001b[39m \u001b[39mlen\u001b[39m(x0) \u001b[39m*\u001b[39m \u001b[39m200\u001b[39m\n\u001b[1;32m-> 1419\u001b[0m sf \u001b[39m=\u001b[39m _prepare_scalar_function(fun, x0, jac, args\u001b[39m=\u001b[39margs, epsilon\u001b[39m=\u001b[39meps,\n\u001b[0;32m   1420\u001b[0m                               finite_diff_rel_step\u001b[39m=\u001b[39mfinite_diff_rel_step)\n\u001b[0;32m   1422\u001b[0m f \u001b[39m=\u001b[39m sf\u001b[39m.\u001b[39mfun\n\u001b[0;32m   1423\u001b[0m myfprime \u001b[39m=\u001b[39m sf\u001b[39m.\u001b[39mgrad\n",
      "File \u001b[1;32mc:\\Users\\Tycho\\anaconda3\\envs\\modelling\\Lib\\site-packages\\scipy\\optimize\\_optimize.py:383\u001b[0m, in \u001b[0;36m_prepare_scalar_function\u001b[1;34m(fun, x0, jac, args, bounds, epsilon, finite_diff_rel_step, hess)\u001b[0m\n\u001b[0;32m    379\u001b[0m     bounds \u001b[39m=\u001b[39m (\u001b[39m-\u001b[39mnp\u001b[39m.\u001b[39minf, np\u001b[39m.\u001b[39minf)\n\u001b[0;32m    381\u001b[0m \u001b[39m# ScalarFunction caches. Reuse of fun(x) during grad\u001b[39;00m\n\u001b[0;32m    382\u001b[0m \u001b[39m# calculation reduces overall function evaluations.\u001b[39;00m\n\u001b[1;32m--> 383\u001b[0m sf \u001b[39m=\u001b[39m ScalarFunction(fun, x0, args, grad, hess,\n\u001b[0;32m    384\u001b[0m                     finite_diff_rel_step, bounds, epsilon\u001b[39m=\u001b[39mepsilon)\n\u001b[0;32m    386\u001b[0m \u001b[39mreturn\u001b[39;00m sf\n",
      "File \u001b[1;32mc:\\Users\\Tycho\\anaconda3\\envs\\modelling\\Lib\\site-packages\\scipy\\optimize\\_differentiable_functions.py:158\u001b[0m, in \u001b[0;36mScalarFunction.__init__\u001b[1;34m(self, fun, x0, args, grad, hess, finite_diff_rel_step, finite_diff_bounds, epsilon)\u001b[0m\n\u001b[0;32m    155\u001b[0m     \u001b[39mself\u001b[39m\u001b[39m.\u001b[39mf \u001b[39m=\u001b[39m fun_wrapped(\u001b[39mself\u001b[39m\u001b[39m.\u001b[39mx)\n\u001b[0;32m    157\u001b[0m \u001b[39mself\u001b[39m\u001b[39m.\u001b[39m_update_fun_impl \u001b[39m=\u001b[39m update_fun\n\u001b[1;32m--> 158\u001b[0m \u001b[39mself\u001b[39m\u001b[39m.\u001b[39m_update_fun()\n\u001b[0;32m    160\u001b[0m \u001b[39m# Gradient evaluation\u001b[39;00m\n\u001b[0;32m    161\u001b[0m \u001b[39mif\u001b[39;00m \u001b[39mcallable\u001b[39m(grad):\n",
      "File \u001b[1;32mc:\\Users\\Tycho\\anaconda3\\envs\\modelling\\Lib\\site-packages\\scipy\\optimize\\_differentiable_functions.py:251\u001b[0m, in \u001b[0;36mScalarFunction._update_fun\u001b[1;34m(self)\u001b[0m\n\u001b[0;32m    249\u001b[0m \u001b[39mdef\u001b[39;00m \u001b[39m_update_fun\u001b[39m(\u001b[39mself\u001b[39m):\n\u001b[0;32m    250\u001b[0m     \u001b[39mif\u001b[39;00m \u001b[39mnot\u001b[39;00m \u001b[39mself\u001b[39m\u001b[39m.\u001b[39mf_updated:\n\u001b[1;32m--> 251\u001b[0m         \u001b[39mself\u001b[39m\u001b[39m.\u001b[39m_update_fun_impl()\n\u001b[0;32m    252\u001b[0m         \u001b[39mself\u001b[39m\u001b[39m.\u001b[39mf_updated \u001b[39m=\u001b[39m \u001b[39mTrue\u001b[39;00m\n",
      "File \u001b[1;32mc:\\Users\\Tycho\\anaconda3\\envs\\modelling\\Lib\\site-packages\\scipy\\optimize\\_differentiable_functions.py:155\u001b[0m, in \u001b[0;36mScalarFunction.__init__.<locals>.update_fun\u001b[1;34m()\u001b[0m\n\u001b[0;32m    154\u001b[0m \u001b[39mdef\u001b[39;00m \u001b[39mupdate_fun\u001b[39m():\n\u001b[1;32m--> 155\u001b[0m     \u001b[39mself\u001b[39m\u001b[39m.\u001b[39mf \u001b[39m=\u001b[39m fun_wrapped(\u001b[39mself\u001b[39m\u001b[39m.\u001b[39mx)\n",
      "File \u001b[1;32mc:\\Users\\Tycho\\anaconda3\\envs\\modelling\\Lib\\site-packages\\scipy\\optimize\\_differentiable_functions.py:137\u001b[0m, in \u001b[0;36mScalarFunction.__init__.<locals>.fun_wrapped\u001b[1;34m(x)\u001b[0m\n\u001b[0;32m    133\u001b[0m \u001b[39mself\u001b[39m\u001b[39m.\u001b[39mnfev \u001b[39m+\u001b[39m\u001b[39m=\u001b[39m \u001b[39m1\u001b[39m\n\u001b[0;32m    134\u001b[0m \u001b[39m# Send a copy because the user may overwrite it.\u001b[39;00m\n\u001b[0;32m    135\u001b[0m \u001b[39m# Overwriting results in undefined behaviour because\u001b[39;00m\n\u001b[0;32m    136\u001b[0m \u001b[39m# fun(self.x) will change self.x, with the two no longer linked.\u001b[39;00m\n\u001b[1;32m--> 137\u001b[0m fx \u001b[39m=\u001b[39m fun(np\u001b[39m.\u001b[39mcopy(x), \u001b[39m*\u001b[39margs)\n\u001b[0;32m    138\u001b[0m \u001b[39m# Make sure the function returns a true scalar\u001b[39;00m\n\u001b[0;32m    139\u001b[0m \u001b[39mif\u001b[39;00m \u001b[39mnot\u001b[39;00m np\u001b[39m.\u001b[39misscalar(fx):\n",
      "\u001b[1;31mTypeError\u001b[0m: run_simulation() missing 1 required positional argument: 'parameters'"
     ]
    }
   ],
   "source": [
    "from scipy.optimize import minimize\n",
    "\n",
    "def run_simulation(T, parameters, width=100, height=100, mosquitoPopDensity=0.35,\n",
    "                   humanPopDensity=0.23, humanInfectionProb=0.266, illnessDeathProb=0.31):\n",
    "    timeSteps = T\n",
    "    t = 0\n",
    "\n",
    "    # Run a simulation for an indicated number of timesteps.\n",
    "    sim = ms.Model(width=width,height=height,\n",
    "                   mosquitoPopDensity=mosquitoPopDensity,\n",
    "                   humanPopDensity=humanPopDensity,\n",
    "                   humanInfectionProb=humanInfectionProb,\n",
    "                   illnessDeathProb=illnessDeathProb\n",
    "                   **parameters)\n",
    "\n",
    "    while t < timeSteps:\n",
    "        sim.update()\n",
    "        t += 1\n",
    "        \n",
    "    simulated_outcome = np.array(sim.update)\n",
    "    desired_outcome = np.array([611.8, 189.6, 467])\n",
    "    difference = np.sum((simulated_outcome - desired_outcome) ** 2)\n",
    "\n",
    "    return difference\n",
    "\n",
    "initial_parameters = [0.5, 0.2, 0.01, 0.15, 4, 30, 0.9, 14, 65, 15, 1.0]\n",
    "parameter_bounds = [(0,1) if isinstance(value, float) else None for value in initial_parameters]\n",
    "\n",
    "# Run the optimization\n",
    "result = minimize(fun=run_simulation, x0=initial_parameters)\n",
    "\n",
    "# Extract the optimized parameters\n",
    "optimized_parameters = result.x\n",
    "print(\"Optimized Parameters:\", optimized_parameters)\n",
    "\n",
    "# Run the simulation with the optimized parameters\n",
    "final_sim = ms.Model(width,height,**optimized_parameters)"
   ]
  },
  {
   "cell_type": "code",
   "execution_count": null,
   "metadata": {},
   "outputs": [],
   "source": []
  }
 ],
 "metadata": {
  "kernelspec": {
   "display_name": "modelling",
   "language": "python",
   "name": "python3"
  },
  "language_info": {
   "codemirror_mode": {
    "name": "ipython",
    "version": 3
   },
   "file_extension": ".py",
   "mimetype": "text/x-python",
   "name": "python",
   "nbconvert_exporter": "python",
   "pygments_lexer": "ipython3",
   "version": "3.11.4"
  }
 },
 "nbformat": 4,
 "nbformat_minor": 2
}
