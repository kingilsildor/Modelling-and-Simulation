{
 "cells": [
  {
   "cell_type": "code",
   "execution_count": 1,
   "id": "cb3c86f2",
   "metadata": {},
   "outputs": [],
   "source": [
    "import numpy as np\n",
    "import pandas as pd \n",
    "import seaborn as sns\n",
    "import networkx as nx\n",
    "import matplotlib.pyplot as plt\n",
    "\n",
    "import random\n",
    "\n",
    "from plotly import graph_objects as go\n",
    "from collections import Counter\n",
    "from tqdm import tqdm\n",
    "from scipy.stats import sem\n"
   ]
  },
  {
   "cell_type": "code",
   "execution_count": 2,
   "id": "ab448966",
   "metadata": {},
   "outputs": [
    {
     "data": {
      "image/png": "[encoded data removed]",
      "text/plain": [
       "<Figure size 640x480 with 1 Axes>"
      ]
     },
     "metadata": {},
     "output_type": "display_data"
    }
   ],
   "source": [
    "G = nx.Graph()\n",
    "\n",
    "\n",
    "nodes = [1, 2, 3, 4, 5]\n",
    "G.add_nodes_from(nodes)\n",
    "\n",
    "\n",
    "edges = [(1, 2), (2, 3), (3, 4), (3, 5), (4, 5)]\n",
    "G.add_edges_from(edges)\n",
    "\n",
    "\n",
    "pos = nx.spring_layout(G)  \n",
    "nx.draw(G, pos, with_labels=True, node_size=700, node_color='skyblue', font_size=10, font_color='black', font_weight='bold', width=2, edge_color='gray' )\n",
    "\n",
    "\n",
    "plt.show()\n"
   ]
  },
  {
   "cell_type": "markdown",
   "id": "6ed9030f",
   "metadata": {},
   "source": [
    "# Question 1A"
   ]
  },
  {
   "cell_type": "code",
   "execution_count": 3,
   "id": "3672ca32",
   "metadata": {},
   "outputs": [
    {
     "data": {
      "application/vnd.plotly.v1+json": {
       "config": {
        "plotlyServerURL": "https://plot.ly"
       },
       "data": [
        {
         "type": "bar",
         "x": [
          1,
          2,
          3,
          4,
          5
         ],
         "y": [
          1,
          2,
          3,
          2,
          2
         ]
        }
       ],
       "layout": {
        "template": {
         "data": {
          "bar": [
           {
            "error_x": {
             "color": "#2a3f5f"
            },
            "error_y": {
             "color": "#2a3f5f"
            },
            "marker": {
             "line": {
              "color": "#E5ECF6",
              "width": 0.5
             },
             "pattern": {
              "fillmode": "overlay",
              "size": 10,
              "solidity": 0.2
             }
            },
            "type": "bar"
           }
          ],
          "barpolar": [
           {
            "marker": {
             "line": {
              "color": "#E5ECF6",
              "width": 0.5
             },
             "pattern": {
              "fillmode": "overlay",
              "size": 10,
              "solidity": 0.2
             }
            },
            "type": "barpolar"
           }
          ],
          "carpet": [
           {
            "aaxis": {
             "endlinecolor": "#2a3f5f",
             "gridcolor": "white",
             "linecolor": "white",
             "minorgridcolor": "white",
             "startlinecolor": "#2a3f5f"
            },
            "baxis": {
             "endlinecolor": "#2a3f5f",
             "gridcolor": "white",
             "linecolor": "white",
             "minorgridcolor": "white",
             "startlinecolor": "#2a3f5f"
            },
            "type": "carpet"
           }
          ],
          "choropleth": [
           {
            "colorbar": {
             "outlinewidth": 0,
             "ticks": ""
            },
            "type": "choropleth"
           }
          ],
          "contour": [
           {
            "colorbar": {
             "outlinewidth": 0,
             "ticks": ""
            },
            "colorscale": [
             [
              0,
              "#0d0887"
             ],
             [
              0.1111111111111111,
              "#46039f"
             ],
             [
              0.2222222222222222,
              "#7201a8"
             ],
             [
              0.3333333333333333,
              "#9c179e"
             ],
             [
              0.4444444444444444,
              "#bd3786"
             ],
             [
              0.5555555555555556,
              "#d8576b"
             ],
             [
              0.6666666666666666,
              "#ed7953"
             ],
             [
              0.7777777777777778,
              "#fb9f3a"
             ],
             [
              0.8888888888888888,
              "#fdca26"
             ],
             [
              1,
              "#f0f921"
             ]
            ],
            "type": "contour"
           }
          ],
          "contourcarpet": [
           {
            "colorbar": {
             "outlinewidth": 0,
             "ticks": ""
            },
            "type": "contourcarpet"
           }
          ],
          "heatmap": [
           {
            "colorbar": {
             "outlinewidth": 0,
             "ticks": ""
            },
            "colorscale": [
             [
              0,
              "#0d0887"
             ],
             [
              0.1111111111111111,
              "#46039f"
             ],
             [
              0.2222222222222222,
              "#7201a8"
             ],
             [
              0.3333333333333333,
              "#9c179e"
             ],
             [
              0.4444444444444444,
              "#bd3786"
             ],
             [
              0.5555555555555556,
              "#d8576b"
             ],
             [
              0.6666666666666666,
              "#ed7953"
             ],
             [
              0.7777777777777778,
              "#fb9f3a"
             ],
             [
              0.8888888888888888,
              "#fdca26"
             ],
             [
              1,
              "#f0f921"
             ]
            ],
            "type": "heatmap"
           }
          ],
          "heatmapgl": [
           {
            "colorbar": {
             "outlinewidth": 0,
             "ticks": ""
            },
            "colorscale": [
             [
              0,
              "#0d0887"
             ],
             [
              0.1111111111111111,
              "#46039f"
             ],
             [
              0.2222222222222222,
              "#7201a8"
             ],
             [
              0.3333333333333333,
              "#9c179e"
             ],
             [
              0.4444444444444444,
              "#bd3786"
             ],
             [
              0.5555555555555556,
              "#d8576b"
             ],
             [
              0.6666666666666666,
              "#ed7953"
             ],
             [
              0.7777777777777778,
              "#fb9f3a"
             ],
             [
              0.8888888888888888,
              "#fdca26"
             ],
             [
              1,
              "#f0f921"
             ]
            ],
            "type": "heatmapgl"
           }
          ],
          "histogram": [
           {
            "marker": {
             "pattern": {
              "fillmode": "overlay",
              "size": 10,
              "solidity": 0.2
             }
            },
            "type": "histogram"
           }
          ],
          "histogram2d": [
           {
            "colorbar": {
             "outlinewidth": 0,
             "ticks": ""
            },
            "colorscale": [
             [
              0,
              "#0d0887"
             ],
             [
              0.1111111111111111,
              "#46039f"
             ],
             [
              0.2222222222222222,
              "#7201a8"
             ],
             [
              0.3333333333333333,
              "#9c179e"
             ],
             [
              0.4444444444444444,
              "#bd3786"
             ],
             [
              0.5555555555555556,
              "#d8576b"
             ],
             [
              0.6666666666666666,
              "#ed7953"
             ],
             [
              0.7777777777777778,
              "#fb9f3a"
             ],
             [
              0.8888888888888888,
              "#fdca26"
             ],
             [
              1,
              "#f0f921"
             ]
            ],
            "type": "histogram2d"
           }
          ],
          "histogram2dcontour": [
           {
            "colorbar": {
             "outlinewidth": 0,
             "ticks": ""
            },
            "colorscale": [
             [
              0,
              "#0d0887"
             ],
             [
              0.1111111111111111,
              "#46039f"
             ],
             [
              0.2222222222222222,
              "#7201a8"
             ],
             [
              0.3333333333333333,
              "#9c179e"
             ],
             [
              0.4444444444444444,
              "#bd3786"
             ],
             [
              0.5555555555555556,
              "#d8576b"
             ],
             [
              0.6666666666666666,
              "#ed7953"
             ],
             [
              0.7777777777777778,
              "#fb9f3a"
             ],
             [
              0.8888888888888888,
              "#fdca26"
             ],
             [
              1,
              "#f0f921"
             ]
            ],
            "type": "histogram2dcontour"
           }
          ],
          "mesh3d": [
           {
            "colorbar": {
             "outlinewidth": 0,
             "ticks": ""
            },
            "type": "mesh3d"
           }
          ],
          "parcoords": [
           {
            "line": {
             "colorbar": {
              "outlinewidth": 0,
              "ticks": ""
             }
            },
            "type": "parcoords"
           }
          ],
          "pie": [
           {
            "automargin": true,
            "type": "pie"
           }
          ],
          "scatter": [
           {
            "fillpattern": {
             "fillmode": "overlay",
             "size": 10,
             "solidity": 0.2
            },
            "type": "scatter"
           }
          ],
          "scatter3d": [
           {
            "line": {
             "colorbar": {
              "outlinewidth": 0,
              "ticks": ""
             }
            },
            "marker": {
             "colorbar": {
              "outlinewidth": 0,
              "ticks": ""
             }
            },
            "type": "scatter3d"
           }
          ],
          "scattercarpet": [
           {
            "marker": {
             "colorbar": {
              "outlinewidth": 0,
              "ticks": ""
             }
            },
            "type": "scattercarpet"
           }
          ],
          "scattergeo": [
           {
            "marker": {
             "colorbar": {
              "outlinewidth": 0,
              "ticks": ""
             }
            },
            "type": "scattergeo"
           }
          ],
          "scattergl": [
           {
            "marker": {
             "colorbar": {
              "outlinewidth": 0,
              "ticks": ""
             }
            },
            "type": "scattergl"
           }
          ],
          "scattermapbox": [
           {
            "marker": {
             "colorbar": {
              "outlinewidth": 0,
              "ticks": ""
             }
            },
            "type": "scattermapbox"
           }
          ],
          "scatterpolar": [
           {
            "marker": {
             "colorbar": {
              "outlinewidth": 0,
              "ticks": ""
             }
            },
            "type": "scatterpolar"
           }
          ],
          "scatterpolargl": [
           {
            "marker": {
             "colorbar": {
              "outlinewidth": 0,
              "ticks": ""
             }
            },
            "type": "scatterpolargl"
           }
          ],
          "scatterternary": [
           {
            "marker": {
             "colorbar": {
              "outlinewidth": 0,
              "ticks": ""
             }
            },
            "type": "scatterternary"
           }
          ],
          "surface": [
           {
            "colorbar": {
             "outlinewidth": 0,
             "ticks": ""
            },
            "colorscale": [
             [
              0,
              "#0d0887"
             ],
             [
              0.1111111111111111,
              "#46039f"
             ],
             [
              0.2222222222222222,
              "#7201a8"
             ],
             [
              0.3333333333333333,
              "#9c179e"
             ],
             [
              0.4444444444444444,
              "#bd3786"
             ],
             [
              0.5555555555555556,
              "#d8576b"
             ],
             [
              0.6666666666666666,
              "#ed7953"
             ],
             [
              0.7777777777777778,
              "#fb9f3a"
             ],
             [
              0.8888888888888888,
              "#fdca26"
             ],
             [
              1,
              "#f0f921"
             ]
            ],
            "type": "surface"
           }
          ],
          "table": [
           {
            "cells": {
             "fill": {
              "color": "#EBF0F8"
             },
             "line": {
              "color": "white"
             }
            },
            "header": {
             "fill": {
              "color": "#C8D4E3"
             },
             "line": {
              "color": "white"
             }
            },
            "type": "table"
           }
          ]
         },
         "layout": {
          "annotationdefaults": {
           "arrowcolor": "#2a3f5f",
           "arrowhead": 0,
           "arrowwidth": 1
          },
          "autotypenumbers": "strict",
          "coloraxis": {
           "colorbar": {
            "outlinewidth": 0,
            "ticks": ""
           }
          },
          "colorscale": {
           "diverging": [
            [
             0,
             "#8e0152"
            ],
            [
             0.1,
             "#c51b7d"
            ],
            [
             0.2,
             "#de77ae"
            ],
            [
             0.3,
             "#f1b6da"
            ],
            [
             0.4,
             "#fde0ef"
            ],
            [
             0.5,
             "#f7f7f7"
            ],
            [
             0.6,
             "#e6f5d0"
            ],
            [
             0.7,
             "#b8e186"
            ],
            [
             0.8,
             "#7fbc41"
            ],
            [
             0.9,
             "#4d9221"
            ],
            [
             1,
             "#276419"
            ]
           ],
           "sequential": [
            [
             0,
             "#0d0887"
            ],
            [
             0.1111111111111111,
             "#46039f"
            ],
            [
             0.2222222222222222,
             "#7201a8"
            ],
            [
             0.3333333333333333,
             "#9c179e"
            ],
            [
             0.4444444444444444,
             "#bd3786"
            ],
            [
             0.5555555555555556,
             "#d8576b"
            ],
            [
             0.6666666666666666,
             "#ed7953"
            ],
            [
             0.7777777777777778,
             "#fb9f3a"
            ],
            [
             0.8888888888888888,
             "#fdca26"
            ],
            [
             1,
             "#f0f921"
            ]
           ],
           "sequentialminus": [
            [
             0,
             "#0d0887"
            ],
            [
             0.1111111111111111,
             "#46039f"
            ],
            [
             0.2222222222222222,
             "#7201a8"
            ],
            [
             0.3333333333333333,
             "#9c179e"
            ],
            [
             0.4444444444444444,
             "#bd3786"
            ],
            [
             0.5555555555555556,
             "#d8576b"
            ],
            [
             0.6666666666666666,
             "#ed7953"
            ],
            [
             0.7777777777777778,
             "#fb9f3a"
            ],
            [
             0.8888888888888888,
             "#fdca26"
            ],
            [
             1,
             "#f0f921"
            ]
           ]
          },
          "colorway": [
           "#636efa",
           "#EF553B",
           "#00cc96",
           "#ab63fa",
           "#FFA15A",
           "#19d3f3",
           "#FF6692",
           "#B6E880",
           "#FF97FF",
           "#FECB52"
          ],
          "font": {
           "color": "#2a3f5f"
          },
          "geo": {
           "bgcolor": "white",
           "lakecolor": "white",
           "landcolor": "#E5ECF6",
           "showlakes": true,
           "showland": true,
           "subunitcolor": "white"
          },
          "hoverlabel": {
           "align": "left"
          },
          "hovermode": "closest",
          "mapbox": {
           "style": "light"
          },
          "paper_bgcolor": "white",
          "plot_bgcolor": "#E5ECF6",
          "polar": {
           "angularaxis": {
            "gridcolor": "white",
            "linecolor": "white",
            "ticks": ""
           },
           "bgcolor": "#E5ECF6",
           "radialaxis": {
            "gridcolor": "white",
            "linecolor": "white",
            "ticks": ""
           }
          },
          "scene": {
           "xaxis": {
            "backgroundcolor": "#E5ECF6",
            "gridcolor": "white",
            "gridwidth": 2,
            "linecolor": "white",
            "showbackground": true,
            "ticks": "",
            "zerolinecolor": "white"
           },
           "yaxis": {
            "backgroundcolor": "#E5ECF6",
            "gridcolor": "white",
            "gridwidth": 2,
            "linecolor": "white",
            "showbackground": true,
            "ticks": "",
            "zerolinecolor": "white"
           },
           "zaxis": {
            "backgroundcolor": "#E5ECF6",
            "gridcolor": "white",
            "gridwidth": 2,
            "linecolor": "white",
            "showbackground": true,
            "ticks": "",
            "zerolinecolor": "white"
           }
          },
          "shapedefaults": {
           "line": {
            "color": "#2a3f5f"
           }
          },
          "ternary": {
           "aaxis": {
            "gridcolor": "white",
            "linecolor": "white",
            "ticks": ""
           },
           "baxis": {
            "gridcolor": "white",
            "linecolor": "white",
            "ticks": ""
           },
           "bgcolor": "#E5ECF6",
           "caxis": {
            "gridcolor": "white",
            "linecolor": "white",
            "ticks": ""
           }
          },
          "title": {
           "x": 0.05
          },
          "xaxis": {
           "automargin": true,
           "gridcolor": "white",
           "linecolor": "white",
           "ticks": "",
           "title": {
            "standoff": 15
           },
           "zerolinecolor": "white",
           "zerolinewidth": 2
          },
          "yaxis": {
           "automargin": true,
           "gridcolor": "white",
           "linecolor": "white",
           "ticks": "",
           "title": {
            "standoff": 15
           },
           "zerolinecolor": "white",
           "zerolinewidth": 2
          }
         }
        },
        "title": {
         "text": "Histogram of Degrees"
        },
        "xaxis": {
         "title": {
          "text": "Node"
         }
        },
        "yaxis": {
         "title": {
          "text": "Edges"
         }
        }
       }
      }
     },
     "metadata": {},
     "output_type": "display_data"
    }
   ],
   "source": [
    "degrees = Counter([x for tup in edges for x in tup])\n",
    "\n",
    "\n",
    "fig = go.Figure()\n",
    "fig.add_trace(go.Bar(x=list(degrees.keys()), y=list(degrees.values())))\n",
    "\n",
    "\n",
    "fig.update_layout(\n",
    "    title='Histogram of Degrees',\n",
    "    xaxis=dict(title='Node'),\n",
    "    yaxis=dict(title='Edges')\n",
    ")\n",
    "\n",
    "\n",
    "fig.show()"
   ]
  },
  {
   "cell_type": "markdown",
   "id": "3a4868d3",
   "metadata": {},
   "source": [
    "# Question 1B"
   ]
  },
  {
   "cell_type": "code",
   "execution_count": 14,
   "id": "141c03f9",
   "metadata": {},
   "outputs": [
    {
     "ename": "AttributeError",
     "evalue": "module 'scipy.sparse' has no attribute 'coo_array'",
     "output_type": "error",
     "traceback": [
      "\u001b[0;31m---------------------------------------------------------------------------\u001b[0m",
      "\u001b[0;31mAttributeError\u001b[0m                            Traceback (most recent call last)",
      "\u001b[0;32m/var/folders/70/p7sg7nvs5zj0gb1rprkw31k40000gp/T/ipykernel_9150/618688251.py\u001b[0m in \u001b[0;36m<module>\u001b[0;34m\u001b[0m\n\u001b[0;32m----> 1\u001b[0;31m \u001b[0madjacency_matrix\u001b[0m \u001b[0;34m=\u001b[0m \u001b[0mnx\u001b[0m\u001b[0;34m.\u001b[0m\u001b[0madjacency_matrix\u001b[0m\u001b[0;34m(\u001b[0m\u001b[0mG\u001b[0m\u001b[0;34m)\u001b[0m\u001b[0;34m\u001b[0m\u001b[0;34m\u001b[0m\u001b[0m\n\u001b[0m\u001b[1;32m      2\u001b[0m \u001b[0;34m\u001b[0m\u001b[0m\n\u001b[1;32m      3\u001b[0m \u001b[0;34m\u001b[0m\u001b[0m\n\u001b[1;32m      4\u001b[0m \u001b[0mdense_adjacency_matrix\u001b[0m \u001b[0;34m=\u001b[0m \u001b[0madjacency_matrix\u001b[0m\u001b[0;34m.\u001b[0m\u001b[0mtoarray\u001b[0m\u001b[0;34m(\u001b[0m\u001b[0;34m)\u001b[0m\u001b[0;34m\u001b[0m\u001b[0;34m\u001b[0m\u001b[0m\n\u001b[1;32m      5\u001b[0m \u001b[0;34m\u001b[0m\u001b[0m\n",
      "\u001b[0;32m~/opt/anaconda3/lib/python3.8/site-packages/networkx/linalg/graphmatrix.py\u001b[0m in \u001b[0;36madjacency_matrix\u001b[0;34m(G, nodelist, dtype, weight)\u001b[0m\n\u001b[1;32m    155\u001b[0m     \u001b[0madjacency_spectrum\u001b[0m\u001b[0;34m\u001b[0m\u001b[0;34m\u001b[0m\u001b[0m\n\u001b[1;32m    156\u001b[0m     \"\"\"\n\u001b[0;32m--> 157\u001b[0;31m     \u001b[0;32mreturn\u001b[0m \u001b[0mnx\u001b[0m\u001b[0;34m.\u001b[0m\u001b[0mto_scipy_sparse_array\u001b[0m\u001b[0;34m(\u001b[0m\u001b[0mG\u001b[0m\u001b[0;34m,\u001b[0m \u001b[0mnodelist\u001b[0m\u001b[0;34m=\u001b[0m\u001b[0mnodelist\u001b[0m\u001b[0;34m,\u001b[0m \u001b[0mdtype\u001b[0m\u001b[0;34m=\u001b[0m\u001b[0mdtype\u001b[0m\u001b[0;34m,\u001b[0m \u001b[0mweight\u001b[0m\u001b[0;34m=\u001b[0m\u001b[0mweight\u001b[0m\u001b[0;34m)\u001b[0m\u001b[0;34m\u001b[0m\u001b[0;34m\u001b[0m\u001b[0m\n\u001b[0m",
      "\u001b[0;32m~/opt/anaconda3/lib/python3.8/site-packages/networkx/convert_matrix.py\u001b[0m in \u001b[0;36mto_scipy_sparse_array\u001b[0;34m(G, nodelist, dtype, weight, format)\u001b[0m\n\u001b[1;32m    591\u001b[0m             \u001b[0mr\u001b[0m \u001b[0;34m+=\u001b[0m \u001b[0mdiag_index\u001b[0m\u001b[0;34m\u001b[0m\u001b[0;34m\u001b[0m\u001b[0m\n\u001b[1;32m    592\u001b[0m             \u001b[0mc\u001b[0m \u001b[0;34m+=\u001b[0m \u001b[0mdiag_index\u001b[0m\u001b[0;34m\u001b[0m\u001b[0;34m\u001b[0m\u001b[0m\n\u001b[0;32m--> 593\u001b[0;31m         \u001b[0mA\u001b[0m \u001b[0;34m=\u001b[0m \u001b[0msp\u001b[0m\u001b[0;34m.\u001b[0m\u001b[0msparse\u001b[0m\u001b[0;34m.\u001b[0m\u001b[0mcoo_array\u001b[0m\u001b[0;34m(\u001b[0m\u001b[0;34m(\u001b[0m\u001b[0md\u001b[0m\u001b[0;34m,\u001b[0m \u001b[0;34m(\u001b[0m\u001b[0mr\u001b[0m\u001b[0;34m,\u001b[0m \u001b[0mc\u001b[0m\u001b[0;34m)\u001b[0m\u001b[0;34m)\u001b[0m\u001b[0;34m,\u001b[0m \u001b[0mshape\u001b[0m\u001b[0;34m=\u001b[0m\u001b[0;34m(\u001b[0m\u001b[0mnlen\u001b[0m\u001b[0;34m,\u001b[0m \u001b[0mnlen\u001b[0m\u001b[0;34m)\u001b[0m\u001b[0;34m,\u001b[0m \u001b[0mdtype\u001b[0m\u001b[0;34m=\u001b[0m\u001b[0mdtype\u001b[0m\u001b[0;34m)\u001b[0m\u001b[0;34m\u001b[0m\u001b[0;34m\u001b[0m\u001b[0m\n\u001b[0m\u001b[1;32m    594\u001b[0m     \u001b[0;32mtry\u001b[0m\u001b[0;34m:\u001b[0m\u001b[0;34m\u001b[0m\u001b[0;34m\u001b[0m\u001b[0m\n\u001b[1;32m    595\u001b[0m         \u001b[0;32mreturn\u001b[0m \u001b[0mA\u001b[0m\u001b[0;34m.\u001b[0m\u001b[0masformat\u001b[0m\u001b[0;34m(\u001b[0m\u001b[0mformat\u001b[0m\u001b[0;34m)\u001b[0m\u001b[0;34m\u001b[0m\u001b[0;34m\u001b[0m\u001b[0m\n",
      "\u001b[0;31mAttributeError\u001b[0m: module 'scipy.sparse' has no attribute 'coo_array'"
     ]
    }
   ],
   "source": [
    "adjacency_matrix = nx.adjacency_matrix(G)\n",
    "\n",
    "\n",
    "dense_adjacency_matrix = adjacency_matrix.toarray()\n",
    "\n",
    "\n",
    "df = pd.DataFrame(data=dense_adjacency_matrix, columns=nodes, index=nodes)\n",
    "\n",
    "\n",
    "plt.figure(figsize=(8, 6))\n",
    "sns.heatmap(df, cmap='viridis', cbar=False, yticklabels=True, annot=True)\n",
    "plt.title('Adjacency Matrix:')\n",
    "plt.show()"
   ]
  },
  {
   "cell_type": "markdown",
   "id": "8fe189bd",
   "metadata": {},
   "source": [
    "# Question 1C"
   ]
  },
  {
   "cell_type": "code",
   "execution_count": 4,
   "id": "a55a9d6b",
   "metadata": {},
   "outputs": [
    {
     "name": "stdout",
     "output_type": "stream",
     "text": [
      "1 : 0.0\n",
      "2 : 0.5\n",
      "3 : 0.6666666666666666\n",
      "4 : 0.0\n",
      "5 : 0.0\n"
     ]
    }
   ],
   "source": [
    "for x, y in nx.betweenness_centrality(G).items():\n",
    "    print(x,\":\",y)"
   ]
  },
  {
   "cell_type": "markdown",
   "id": "6966f9d6",
   "metadata": {},
   "source": [
    "# Epidemics, question 1\n",
    "## B"
   ]
  },
  {
   "cell_type": "code",
   "execution_count": 5,
   "id": "56f30fd5",
   "metadata": {},
   "outputs": [],
   "source": [
    "def infected(i, r):\n",
    "    \"\"\"\n",
    "    Set a node to infected based on probability.\n",
    "    \"\"\"\n",
    "    if np.random.rand() < (1 - (1 - i) ** r):\n",
    "        return 'I'\n",
    "    else:\n",
    "        return 'S'\n",
    "\n",
    "def reproduction_number(I_plus_one, I):\n",
    "    \"\"\"\n",
    "    Derivethe expression for the expected number of new infections in the\n",
    "    first time step per infected vertex in both cases.\n",
    "    \"\"\"\n",
    "    return round((I_plus_one - I) / I, DECIMAL_ROUND)\n",
    "\n",
    "def simulate_infection(graph, probability_of_infection):\n",
    "    \"\"\"\n",
    "    The simulate_infection function iterates through a graph, updating the status of susceptible nodes ('S')\n",
    "    based on the probability of infection and the count of infected neighbors.\n",
    "    \"\"\"\n",
    "    degree_list = []\n",
    "    \n",
    "    for node, data in graph.nodes(data=True):\n",
    "        if data['status'] == 'S':\n",
    "            neighbors = list(nx.neighbors(graph, node))\n",
    "            amount_of_infected_neighbors = sum(1 for neighbor in neighbors if graph.nodes[neighbor]['status'] == 'I')\n",
    "            graph.nodes[node]['status'] = infected(probability_of_infection, amount_of_infected_neighbors)\n",
    "            if graph.nodes[node]['status'] == 'I':\n",
    "                degree_list.append(len(neighbors))\n",
    "                \n",
    "    return  np.mean(degree_list)\n",
    "    \n",
    "            \n",
    "def random_infected_init(N, graph, infected_init):\n",
    "    \"\"\"\n",
    "    Set a random portion of the population to infected,\n",
    "    based on the infected_init variable.\n",
    "    \"\"\"    \n",
    "    total_infected = 0\n",
    "    \n",
    "    for node in graph.nodes():\n",
    "        if (node / N) <= infected_init:\n",
    "            graph.nodes[node]['status'] = 'I'\n",
    "            total_infected += 1\n",
    "            \n",
    "    total_susceptible = N - total_infected    \n",
    "    return total_infected, total_susceptible"
   ]
  },
  {
   "cell_type": "code",
   "execution_count": 6,
   "id": "320e175b",
   "metadata": {},
   "outputs": [],
   "source": [
    "def run_simulation(case, T, infected_init, network='erdos'):\n",
    "    \"\"\"\n",
    "    The run_simulation function models infection spread in an erdos or free-scale graph\n",
    "    with an initial infected fraction.\n",
    "    It iteratively simulates infection dynamics over T time steps,\n",
    "    tracking counts and fractions of infected and susceptible nodes, along with the reproduction number.\n",
    "    \"\"\"\n",
    "    N = case['N']\n",
    "    i = case['i']\n",
    "    average_k = case['average_k']\n",
    "    \n",
    "    # Create graph according to erdos or free-scale\n",
    "    if network == 'erdos':\n",
    "        probability_of_infection = i\n",
    "        set_graph = nx.fast_gnp_random_graph(n=N, p=average_k/N)\n",
    "        nx.set_node_attributes(set_graph, 'S', \"status\")\n",
    "        total_infected, total_susceptible = random_infected_init(N, set_graph, infected_init)\n",
    "    elif network == 'free':\n",
    "        probability_of_infection = i\n",
    "        s = nx.utils.powerlaw_sequence(N, 2.5)\n",
    "        s = s / np.mean(s) * average_k\n",
    "        set_graph = nx.expected_degree_graph(s, selfloops=False)\n",
    "        nx.set_node_attributes(set_graph, 'S', \"status\")\n",
    "        total_infected, total_susceptible = random_infected_init(N, set_graph, infected_init)\n",
    "    \n",
    "    # Initial starting values\n",
    "    infected_counts = [total_infected]\n",
    "    susceptible_counts = [total_susceptible]\n",
    "    infected_fractions = [round(total_infected / N, DECIMAL_ROUND)]\n",
    "    susceptible_fractions = [round(total_susceptible / N, DECIMAL_ROUND)]\n",
    "    R0 = []\n",
    "    degreelijst = []\n",
    "\n",
    "    for t in range(T):\n",
    "        averagedegree = simulate_infection(set_graph, probability_of_infection)\n",
    "        degreelijst.append(averagedegree)\n",
    "        total_infected = sum(1 for _, data in set_graph.nodes(data=True) if data['status'] == 'I')\n",
    "        infected_counts.append(total_infected)\n",
    "        infected_fractions.append(round(total_infected / N, DECIMAL_ROUND))\n",
    "        R0.append(reproduction_number(infected_counts[t], infected_counts[t-1]))\n",
    "        \n",
    "        total_susceptible = sum(1 for _, data in set_graph.nodes(data=True) if data['status'] == 'S')\n",
    "        susceptible_counts.append(total_susceptible)\n",
    "        susceptible_fractions.append(round(total_susceptible / N, DECIMAL_ROUND))\n",
    "        \n",
    "    case['infected_counts'] = infected_counts\n",
    "    case['susceptible_counts'] = susceptible_counts\n",
    "    case['infected_fractions'] = infected_fractions\n",
    "    case['susceptible_fractions'] = susceptible_fractions\n",
    "    case['R0'] = R0\n",
    "    # Change the first value to positive\n",
    "    case['R0'][0] = case['R0'][0] * -1    \n",
    "        \n",
    "    return case, degreelijst\n",
    "\n",
    "def run_evolution(cases, num_simulations, T, infected_init, network='erdos'):\n",
    "    \"\"\"\n",
    "    Run the evolution for plotting by calculating mean and confidence intervals.\n",
    "    \"\"\"     \n",
    "    degree_lijst = []\n",
    "    \n",
    "    for index, case in enumerate(cases):\n",
    "        case_degreelijst = []\n",
    "        for _ in tqdm(range(num_simulations)):\n",
    "            results = []\n",
    "            _, degreelijst = run_simulation(case=cases[index], T=T, infected_init=infected_init, network=network)\n",
    "            results.append(case['infected_counts'])\n",
    "            case_degreelijst.append(np.nan_to_num(degreelijst))\n",
    "            \n",
    "        degree_lijst.append(np.mean(case_degreelijst, 0))\n",
    "        mean_infected = np.mean(results, axis=0)\n",
    "        std_infected = np.std(results, axis=0)\n",
    "        confidence_interval = COFIDENCE_INTERVAL * (std_infected / np.sqrt(num_simulations))\n",
    "                      \n",
    "        case['mean_infected'] = mean_infected.tolist()\n",
    "        case['std_infected'] = std_infected.tolist()\n",
    "        case['confidence_interval'] = confidence_interval.tolist()\n",
    "                \n",
    "    return cases, degree_lijst\n",
    "\n",
    "\n"
   ]
  },
  {
   "cell_type": "code",
   "execution_count": 7,
   "id": "eee8aa3b",
   "metadata": {},
   "outputs": [],
   "source": [
    "def plot_cases_amount(cases, titles):\n",
    "    \"\"\"\n",
    "    Plots infected and susceptible counts over time for different cases.\n",
    "    \"\"\"\n",
    "    fig_list = []\n",
    "    \n",
    "    for case, title in zip(cases, titles):\n",
    "        time_steps = list(range(len(case['infected_counts'])))\n",
    "        fig = go.Figure()\n",
    "                         \n",
    "        fig.add_trace(go.Scatter(x=time_steps, y=case['infected_counts'], mode='lines', name='Infected'))\n",
    "        fig.add_trace(go.Scatter(x=time_steps, y=case['susceptible_counts'], mode='lines', name='Susceptible'))\n",
    "                         \n",
    "        fig.update_layout(\n",
    "            title=title,\n",
    "            title_font=dict(size=22),\n",
    "            xaxis=dict(title='Time Step', title_font=dict(size=20), tickfont=dict(size=16)),\n",
    "            yaxis=dict(title='Amount of People', title_font=dict(size=20), tickfont=dict(size=16)),\n",
    "            legend=dict(title='Category', font=dict(size=18))\n",
    "        )\n",
    "                         \n",
    "        fig.update_traces(line=dict(width=5))\n",
    "        fig_list.append(fig)\n",
    "    \n",
    "    for fig in fig_list:\n",
    "        fig.show()\n",
    "    \n",
    "def plot_array(cases, titles, base):\n",
    "    \"\"\"\n",
    "    Plots bar charts for different simulation results over time.\n",
    "    \"\"\"\n",
    "    fig = go.Figure()\n",
    "    \n",
    "    for case, title in zip(cases, titles['case_value']):\n",
    "        time_steps = list(range(len(case[base])))\n",
    "        fig.add_trace(go.Bar(x=time_steps, y=case[base], name=title, width=0.50))\n",
    "\n",
    "    fig.update_layout(\n",
    "        title=titles['fig_title'],\n",
    "        title_font=dict(size=22),\n",
    "        xaxis=dict(title=titles['x'], title_font=dict(size=20), tickfont=dict(size=16)),\n",
    "        yaxis=dict(title=titles['y'], title_font=dict(size=20), tickfont=dict(size=16)),\n",
    "        legend=dict(title='Category', font=dict(size=18))\n",
    "    )\n",
    "    \n",
    "    fig.show()\n",
    "\n",
    "\n",
    "def plot_evolution(cases):\n",
    "    # Plotting\n",
    "    for case in cases:    \n",
    "        time_steps = list(range(len(case['infected_counts'])))\n",
    "        N = case['N']\n",
    "        mean_infected = np.array(case['mean_infected'])\n",
    "        confidence_interval = case['confidence_interval']\n",
    "\n",
    "        plt.plot(time_steps, mean_infected / N, label=f\"i:{case['i']}, average k:{case['average_k']}\")\n",
    "        plt.fill_between(time_steps,\n",
    "                         (mean_infected - confidence_interval) / N,\n",
    "                         (mean_infected + confidence_interval) / N, alpha=0.3)\n",
    "\n",
    "    plt.xlabel('Time Steps')\n",
    "    plt.ylabel('Normalized Prevalence (I/N)')\n",
    "    plt.title('Expected Evolution of I/N over Time')\n",
    "    plt.legend()\n",
    "    plt.show()"
   ]
  },
  {
   "cell_type": "code",
   "execution_count": 8,
   "id": "96b58e2c",
   "metadata": {},
   "outputs": [],
   "source": [
    "cases = [\n",
    "    {\"name\": \"i\", \"N\": 10**5, \"i\": 0.01, \"average_k\": 5.0},\n",
    "    {\"name\": \"ii\", \"N\": 10**5, \"i\": 0.1, \"average_k\": 0.8}\n",
    "]\n",
    "\n",
    "\n",
    "DECIMAL_ROUND = 2\n",
    "COFIDENCE_INTERVAL = 1.98\n",
    "\n",
    "T=100\n",
    "infected_init=0.1"
   ]
  },
  {
   "cell_type": "code",
   "execution_count": null,
   "id": "f6041f76",
   "metadata": {},
   "outputs": [],
   "source": []
  },
  {
   "cell_type": "code",
   "execution_count": 9,
   "id": "b4dbc607",
   "metadata": {
    "scrolled": true
   },
   "outputs": [
    {
     "name": "stderr",
     "output_type": "stream",
     "text": [
      "100%|██████████| 30/30 [11:25<00:00, 22.86s/it]\n",
      "100%|██████████| 30/30 [07:41<00:00, 15.39s/it]"
     ]
    },
    {
     "name": "stdout",
     "output_type": "stream",
     "text": [
      "CPU times: user 19min 1s, sys: 717 ms, total: 19min 2s\n",
      "Wall time: 19min 7s\n"
     ]
    },
    {
     "name": "stderr",
     "output_type": "stream",
     "text": [
      "\n"
     ]
    },
    {
     "data": {
      "text/plain": [
       "([{'name': 'i',\n",
       "   'N': 100000,\n",
       "   'i': 0.01,\n",
       "   'average_k': 5.0,\n",
       "   'infected_counts': [10001,\n",
       "    10450,\n",
       "    10957,\n",
       "    11479,\n",
       "    11965,\n",
       "    12515,\n",
       "    13039,\n",
       "    13611,\n",
       "    14184,\n",
       "    14755,\n",
       "    15324,\n",
       "    15909,\n",
       "    16538,\n",
       "    17168,\n",
       "    17793,\n",
       "    18467,\n",
       "    19137,\n",
       "    19851,\n",
       "    20587,\n",
       "    21329,\n",
       "    22050,\n",
       "    22815,\n",
       "    23567,\n",
       "    24343,\n",
       "    25119,\n",
       "    25941,\n",
       "    26754,\n",
       "    27614,\n",
       "    28474,\n",
       "    29289,\n",
       "    30132,\n",
       "    31006,\n",
       "    31865,\n",
       "    32776,\n",
       "    33636,\n",
       "    34521,\n",
       "    35520,\n",
       "    36496,\n",
       "    37455,\n",
       "    38460,\n",
       "    39388,\n",
       "    40338,\n",
       "    41304,\n",
       "    42266,\n",
       "    43196,\n",
       "    44193,\n",
       "    45157,\n",
       "    46161,\n",
       "    47125,\n",
       "    48110,\n",
       "    49039,\n",
       "    50031,\n",
       "    51031,\n",
       "    51976,\n",
       "    52931,\n",
       "    53838,\n",
       "    54750,\n",
       "    55664,\n",
       "    56602,\n",
       "    57536,\n",
       "    58413,\n",
       "    59332,\n",
       "    60226,\n",
       "    61074,\n",
       "    61993,\n",
       "    62880,\n",
       "    63754,\n",
       "    64565,\n",
       "    65420,\n",
       "    66236,\n",
       "    67003,\n",
       "    67789,\n",
       "    68540,\n",
       "    69290,\n",
       "    70019,\n",
       "    70672,\n",
       "    71355,\n",
       "    72034,\n",
       "    72754,\n",
       "    73438,\n",
       "    74090,\n",
       "    74724,\n",
       "    75353,\n",
       "    75955,\n",
       "    76612,\n",
       "    77224,\n",
       "    77785,\n",
       "    78365,\n",
       "    78889,\n",
       "    79390,\n",
       "    79902,\n",
       "    80370,\n",
       "    80878,\n",
       "    81339,\n",
       "    81835,\n",
       "    82272,\n",
       "    82707,\n",
       "    83145,\n",
       "    83563,\n",
       "    83988,\n",
       "    84392],\n",
       "   'susceptible_counts': [89999,\n",
       "    89550,\n",
       "    89043,\n",
       "    88521,\n",
       "    88035,\n",
       "    87485,\n",
       "    86961,\n",
       "    86389,\n",
       "    85816,\n",
       "    85245,\n",
       "    84676,\n",
       "    84091,\n",
       "    83462,\n",
       "    82832,\n",
       "    82207,\n",
       "    81533,\n",
       "    80863,\n",
       "    80149,\n",
       "    79413,\n",
       "    78671,\n",
       "    77950,\n",
       "    77185,\n",
       "    76433,\n",
       "    75657,\n",
       "    74881,\n",
       "    74059,\n",
       "    73246,\n",
       "    72386,\n",
       "    71526,\n",
       "    70711,\n",
       "    69868,\n",
       "    68994,\n",
       "    68135,\n",
       "    67224,\n",
       "    66364,\n",
       "    65479,\n",
       "    64480,\n",
       "    63504,\n",
       "    62545,\n",
       "    61540,\n",
       "    60612,\n",
       "    59662,\n",
       "    58696,\n",
       "    57734,\n",
       "    56804,\n",
       "    55807,\n",
       "    54843,\n",
       "    53839,\n",
       "    52875,\n",
       "    51890,\n",
       "    50961,\n",
       "    49969,\n",
       "    48969,\n",
       "    48024,\n",
       "    47069,\n",
       "    46162,\n",
       "    45250,\n",
       "    44336,\n",
       "    43398,\n",
       "    42464,\n",
       "    41587,\n",
       "    40668,\n",
       "    39774,\n",
       "    38926,\n",
       "    38007,\n",
       "    37120,\n",
       "    36246,\n",
       "    35435,\n",
       "    34580,\n",
       "    33764,\n",
       "    32997,\n",
       "    32211,\n",
       "    31460,\n",
       "    30710,\n",
       "    29981,\n",
       "    29328,\n",
       "    28645,\n",
       "    27966,\n",
       "    27246,\n",
       "    26562,\n",
       "    25910,\n",
       "    25276,\n",
       "    24647,\n",
       "    24045,\n",
       "    23388,\n",
       "    22776,\n",
       "    22215,\n",
       "    21635,\n",
       "    21111,\n",
       "    20610,\n",
       "    20098,\n",
       "    19630,\n",
       "    19122,\n",
       "    18661,\n",
       "    18165,\n",
       "    17728,\n",
       "    17293,\n",
       "    16855,\n",
       "    16437,\n",
       "    16012,\n",
       "    15608],\n",
       "   'infected_fractions': [0.1,\n",
       "    0.1,\n",
       "    0.11,\n",
       "    0.11,\n",
       "    0.12,\n",
       "    0.13,\n",
       "    0.13,\n",
       "    0.14,\n",
       "    0.14,\n",
       "    0.15,\n",
       "    0.15,\n",
       "    0.16,\n",
       "    0.17,\n",
       "    0.17,\n",
       "    0.18,\n",
       "    0.18,\n",
       "    0.19,\n",
       "    0.2,\n",
       "    0.21,\n",
       "    0.21,\n",
       "    0.22,\n",
       "    0.23,\n",
       "    0.24,\n",
       "    0.24,\n",
       "    0.25,\n",
       "    0.26,\n",
       "    0.27,\n",
       "    0.28,\n",
       "    0.28,\n",
       "    0.29,\n",
       "    0.3,\n",
       "    0.31,\n",
       "    0.32,\n",
       "    0.33,\n",
       "    0.34,\n",
       "    0.35,\n",
       "    0.36,\n",
       "    0.36,\n",
       "    0.37,\n",
       "    0.38,\n",
       "    0.39,\n",
       "    0.4,\n",
       "    0.41,\n",
       "    0.42,\n",
       "    0.43,\n",
       "    0.44,\n",
       "    0.45,\n",
       "    0.46,\n",
       "    0.47,\n",
       "    0.48,\n",
       "    0.49,\n",
       "    0.5,\n",
       "    0.51,\n",
       "    0.52,\n",
       "    0.53,\n",
       "    0.54,\n",
       "    0.55,\n",
       "    0.56,\n",
       "    0.57,\n",
       "    0.58,\n",
       "    0.58,\n",
       "    0.59,\n",
       "    0.6,\n",
       "    0.61,\n",
       "    0.62,\n",
       "    0.63,\n",
       "    0.64,\n",
       "    0.65,\n",
       "    0.65,\n",
       "    0.66,\n",
       "    0.67,\n",
       "    0.68,\n",
       "    0.69,\n",
       "    0.69,\n",
       "    0.7,\n",
       "    0.71,\n",
       "    0.71,\n",
       "    0.72,\n",
       "    0.73,\n",
       "    0.73,\n",
       "    0.74,\n",
       "    0.75,\n",
       "    0.75,\n",
       "    0.76,\n",
       "    0.77,\n",
       "    0.77,\n",
       "    0.78,\n",
       "    0.78,\n",
       "    0.79,\n",
       "    0.79,\n",
       "    0.8,\n",
       "    0.8,\n",
       "    0.81,\n",
       "    0.81,\n",
       "    0.82,\n",
       "    0.82,\n",
       "    0.83,\n",
       "    0.83,\n",
       "    0.84,\n",
       "    0.84,\n",
       "    0.84],\n",
       "   'susceptible_fractions': [0.9,\n",
       "    0.9,\n",
       "    0.89,\n",
       "    0.89,\n",
       "    0.88,\n",
       "    0.87,\n",
       "    0.87,\n",
       "    0.86,\n",
       "    0.86,\n",
       "    0.85,\n",
       "    0.85,\n",
       "    0.84,\n",
       "    0.83,\n",
       "    0.83,\n",
       "    0.82,\n",
       "    0.82,\n",
       "    0.81,\n",
       "    0.8,\n",
       "    0.79,\n",
       "    0.79,\n",
       "    0.78,\n",
       "    0.77,\n",
       "    0.76,\n",
       "    0.76,\n",
       "    0.75,\n",
       "    0.74,\n",
       "    0.73,\n",
       "    0.72,\n",
       "    0.72,\n",
       "    0.71,\n",
       "    0.7,\n",
       "    0.69,\n",
       "    0.68,\n",
       "    0.67,\n",
       "    0.66,\n",
       "    0.65,\n",
       "    0.64,\n",
       "    0.64,\n",
       "    0.63,\n",
       "    0.62,\n",
       "    0.61,\n",
       "    0.6,\n",
       "    0.59,\n",
       "    0.58,\n",
       "    0.57,\n",
       "    0.56,\n",
       "    0.55,\n",
       "    0.54,\n",
       "    0.53,\n",
       "    0.52,\n",
       "    0.51,\n",
       "    0.5,\n",
       "    0.49,\n",
       "    0.48,\n",
       "    0.47,\n",
       "    0.46,\n",
       "    0.45,\n",
       "    0.44,\n",
       "    0.43,\n",
       "    0.42,\n",
       "    0.42,\n",
       "    0.41,\n",
       "    0.4,\n",
       "    0.39,\n",
       "    0.38,\n",
       "    0.37,\n",
       "    0.36,\n",
       "    0.35,\n",
       "    0.35,\n",
       "    0.34,\n",
       "    0.33,\n",
       "    0.32,\n",
       "    0.31,\n",
       "    0.31,\n",
       "    0.3,\n",
       "    0.29,\n",
       "    0.29,\n",
       "    0.28,\n",
       "    0.27,\n",
       "    0.27,\n",
       "    0.26,\n",
       "    0.25,\n",
       "    0.25,\n",
       "    0.24,\n",
       "    0.23,\n",
       "    0.23,\n",
       "    0.22,\n",
       "    0.22,\n",
       "    0.21,\n",
       "    0.21,\n",
       "    0.2,\n",
       "    0.2,\n",
       "    0.19,\n",
       "    0.19,\n",
       "    0.18,\n",
       "    0.18,\n",
       "    0.17,\n",
       "    0.17,\n",
       "    0.16,\n",
       "    0.16,\n",
       "    0.16],\n",
       "   'R0': [0.04,\n",
       "    0.04,\n",
       "    0.05,\n",
       "    0.05,\n",
       "    0.04,\n",
       "    0.05,\n",
       "    0.04,\n",
       "    0.04,\n",
       "    0.04,\n",
       "    0.04,\n",
       "    0.04,\n",
       "    0.04,\n",
       "    0.04,\n",
       "    0.04,\n",
       "    0.04,\n",
       "    0.04,\n",
       "    0.04,\n",
       "    0.04,\n",
       "    0.04,\n",
       "    0.04,\n",
       "    0.03,\n",
       "    0.03,\n",
       "    0.03,\n",
       "    0.03,\n",
       "    0.03,\n",
       "    0.03,\n",
       "    0.03,\n",
       "    0.03,\n",
       "    0.03,\n",
       "    0.03,\n",
       "    0.03,\n",
       "    0.03,\n",
       "    0.03,\n",
       "    0.03,\n",
       "    0.03,\n",
       "    0.03,\n",
       "    0.03,\n",
       "    0.03,\n",
       "    0.03,\n",
       "    0.03,\n",
       "    0.02,\n",
       "    0.02,\n",
       "    0.02,\n",
       "    0.02,\n",
       "    0.02,\n",
       "    0.02,\n",
       "    0.02,\n",
       "    0.02,\n",
       "    0.02,\n",
       "    0.02,\n",
       "    0.02,\n",
       "    0.02,\n",
       "    0.02,\n",
       "    0.02,\n",
       "    0.02,\n",
       "    0.02,\n",
       "    0.02,\n",
       "    0.02,\n",
       "    0.02,\n",
       "    0.02,\n",
       "    0.02,\n",
       "    0.02,\n",
       "    0.02,\n",
       "    0.01,\n",
       "    0.02,\n",
       "    0.01,\n",
       "    0.01,\n",
       "    0.01,\n",
       "    0.01,\n",
       "    0.01,\n",
       "    0.01,\n",
       "    0.01,\n",
       "    0.01,\n",
       "    0.01,\n",
       "    0.01,\n",
       "    0.01,\n",
       "    0.01,\n",
       "    0.01,\n",
       "    0.01,\n",
       "    0.01,\n",
       "    0.01,\n",
       "    0.01,\n",
       "    0.01,\n",
       "    0.01,\n",
       "    0.01,\n",
       "    0.01,\n",
       "    0.01,\n",
       "    0.01,\n",
       "    0.01,\n",
       "    0.01,\n",
       "    0.01,\n",
       "    0.01,\n",
       "    0.01,\n",
       "    0.01,\n",
       "    0.01,\n",
       "    0.01,\n",
       "    0.01,\n",
       "    0.01,\n",
       "    0.01,\n",
       "    0.01],\n",
       "   'mean_infected': [10001.0,\n",
       "    10450.0,\n",
       "    10957.0,\n",
       "    11479.0,\n",
       "    11965.0,\n",
       "    12515.0,\n",
       "    13039.0,\n",
       "    13611.0,\n",
       "    14184.0,\n",
       "    14755.0,\n",
       "    15324.0,\n",
       "    15909.0,\n",
       "    16538.0,\n",
       "    17168.0,\n",
       "    17793.0,\n",
       "    18467.0,\n",
       "    19137.0,\n",
       "    19851.0,\n",
       "    20587.0,\n",
       "    21329.0,\n",
       "    22050.0,\n",
       "    22815.0,\n",
       "    23567.0,\n",
       "    24343.0,\n",
       "    25119.0,\n",
       "    25941.0,\n",
       "    26754.0,\n",
       "    27614.0,\n",
       "    28474.0,\n",
       "    29289.0,\n",
       "    30132.0,\n",
       "    31006.0,\n",
       "    31865.0,\n",
       "    32776.0,\n",
       "    33636.0,\n",
       "    34521.0,\n",
       "    35520.0,\n",
       "    36496.0,\n",
       "    37455.0,\n",
       "    38460.0,\n",
       "    39388.0,\n",
       "    40338.0,\n",
       "    41304.0,\n",
       "    42266.0,\n",
       "    43196.0,\n",
       "    44193.0,\n",
       "    45157.0,\n",
       "    46161.0,\n",
       "    47125.0,\n",
       "    48110.0,\n",
       "    49039.0,\n",
       "    50031.0,\n",
       "    51031.0,\n",
       "    51976.0,\n",
       "    52931.0,\n",
       "    53838.0,\n",
       "    54750.0,\n",
       "    55664.0,\n",
       "    56602.0,\n",
       "    57536.0,\n",
       "    58413.0,\n",
       "    59332.0,\n",
       "    60226.0,\n",
       "    61074.0,\n",
       "    61993.0,\n",
       "    62880.0,\n",
       "    63754.0,\n",
       "    64565.0,\n",
       "    65420.0,\n",
       "    66236.0,\n",
       "    67003.0,\n",
       "    67789.0,\n",
       "    68540.0,\n",
       "    69290.0,\n",
       "    70019.0,\n",
       "    70672.0,\n",
       "    71355.0,\n",
       "    72034.0,\n",
       "    72754.0,\n",
       "    73438.0,\n",
       "    74090.0,\n",
       "    74724.0,\n",
       "    75353.0,\n",
       "    75955.0,\n",
       "    76612.0,\n",
       "    77224.0,\n",
       "    77785.0,\n",
       "    78365.0,\n",
       "    78889.0,\n",
       "    79390.0,\n",
       "    79902.0,\n",
       "    80370.0,\n",
       "    80878.0,\n",
       "    81339.0,\n",
       "    81835.0,\n",
       "    82272.0,\n",
       "    82707.0,\n",
       "    83145.0,\n",
       "    83563.0,\n",
       "    83988.0,\n",
       "    84392.0],\n",
       "   'std_infected': [0.0,\n",
       "    0.0,\n",
       "    0.0,\n",
       "    0.0,\n",
       "    0.0,\n",
       "    0.0,\n",
       "    0.0,\n",
       "    0.0,\n",
       "    0.0,\n",
       "    0.0,\n",
       "    0.0,\n",
       "    0.0,\n",
       "    0.0,\n",
       "    0.0,\n",
       "    0.0,\n",
       "    0.0,\n",
       "    0.0,\n",
       "    0.0,\n",
       "    0.0,\n",
       "    0.0,\n",
       "    0.0,\n",
       "    0.0,\n",
       "    0.0,\n",
       "    0.0,\n",
       "    0.0,\n",
       "    0.0,\n",
       "    0.0,\n",
       "    0.0,\n",
       "    0.0,\n",
       "    0.0,\n",
       "    0.0,\n",
       "    0.0,\n",
       "    0.0,\n",
       "    0.0,\n",
       "    0.0,\n",
       "    0.0,\n",
       "    0.0,\n",
       "    0.0,\n",
       "    0.0,\n",
       "    0.0,\n",
       "    0.0,\n",
       "    0.0,\n",
       "    0.0,\n",
       "    0.0,\n",
       "    0.0,\n",
       "    0.0,\n",
       "    0.0,\n",
       "    0.0,\n",
       "    0.0,\n",
       "    0.0,\n",
       "    0.0,\n",
       "    0.0,\n",
       "    0.0,\n",
       "    0.0,\n",
       "    0.0,\n",
       "    0.0,\n",
       "    0.0,\n",
       "    0.0,\n",
       "    0.0,\n",
       "    0.0,\n",
       "    0.0,\n",
       "    0.0,\n",
       "    0.0,\n",
       "    0.0,\n",
       "    0.0,\n",
       "    0.0,\n",
       "    0.0,\n",
       "    0.0,\n",
       "    0.0,\n",
       "    0.0,\n",
       "    0.0,\n",
       "    0.0,\n",
       "    0.0,\n",
       "    0.0,\n",
       "    0.0,\n",
       "    0.0,\n",
       "    0.0,\n",
       "    0.0,\n",
       "    0.0,\n",
       "    0.0,\n",
       "    0.0,\n",
       "    0.0,\n",
       "    0.0,\n",
       "    0.0,\n",
       "    0.0,\n",
       "    0.0,\n",
       "    0.0,\n",
       "    0.0,\n",
       "    0.0,\n",
       "    0.0,\n",
       "    0.0,\n",
       "    0.0,\n",
       "    0.0,\n",
       "    0.0,\n",
       "    0.0,\n",
       "    0.0,\n",
       "    0.0,\n",
       "    0.0,\n",
       "    0.0,\n",
       "    0.0,\n",
       "    0.0],\n",
       "   'confidence_interval': [0.0,\n",
       "    0.0,\n",
       "    0.0,\n",
       "    0.0,\n",
       "    0.0,\n",
       "    0.0,\n",
       "    0.0,\n",
       "    0.0,\n",
       "    0.0,\n",
       "    0.0,\n",
       "    0.0,\n",
       "    0.0,\n",
       "    0.0,\n",
       "    0.0,\n",
       "    0.0,\n",
       "    0.0,\n",
       "    0.0,\n",
       "    0.0,\n",
       "    0.0,\n",
       "    0.0,\n",
       "    0.0,\n",
       "    0.0,\n",
       "    0.0,\n",
       "    0.0,\n",
       "    0.0,\n",
       "    0.0,\n",
       "    0.0,\n",
       "    0.0,\n",
       "    0.0,\n",
       "    0.0,\n",
       "    0.0,\n",
       "    0.0,\n",
       "    0.0,\n",
       "    0.0,\n",
       "    0.0,\n",
       "    0.0,\n",
       "    0.0,\n",
       "    0.0,\n",
       "    0.0,\n",
       "    0.0,\n",
       "    0.0,\n",
       "    0.0,\n",
       "    0.0,\n",
       "    0.0,\n",
       "    0.0,\n",
       "    0.0,\n",
       "    0.0,\n",
       "    0.0,\n",
       "    0.0,\n",
       "    0.0,\n",
       "    0.0,\n",
       "    0.0,\n",
       "    0.0,\n",
       "    0.0,\n",
       "    0.0,\n",
       "    0.0,\n",
       "    0.0,\n",
       "    0.0,\n",
       "    0.0,\n",
       "    0.0,\n",
       "    0.0,\n",
       "    0.0,\n",
       "    0.0,\n",
       "    0.0,\n",
       "    0.0,\n",
       "    0.0,\n",
       "    0.0,\n",
       "    0.0,\n",
       "    0.0,\n",
       "    0.0,\n",
       "    0.0,\n",
       "    0.0,\n",
       "    0.0,\n",
       "    0.0,\n",
       "    0.0,\n",
       "    0.0,\n",
       "    0.0,\n",
       "    0.0,\n",
       "    0.0,\n",
       "    0.0,\n",
       "    0.0,\n",
       "    0.0,\n",
       "    0.0,\n",
       "    0.0,\n",
       "    0.0,\n",
       "    0.0,\n",
       "    0.0,\n",
       "    0.0,\n",
       "    0.0,\n",
       "    0.0,\n",
       "    0.0,\n",
       "    0.0,\n",
       "    0.0,\n",
       "    0.0,\n",
       "    0.0,\n",
       "    0.0,\n",
       "    0.0,\n",
       "    0.0,\n",
       "    0.0,\n",
       "    0.0,\n",
       "    0.0]},\n",
       "  {'name': 'ii',\n",
       "   'N': 100000,\n",
       "   'i': 0.1,\n",
       "   'average_k': 0.8,\n",
       "   'infected_counts': [10001,\n",
       "    10742,\n",
       "    11407,\n",
       "    12081,\n",
       "    12724,\n",
       "    13308,\n",
       "    13940,\n",
       "    14522,\n",
       "    15100,\n",
       "    15653,\n",
       "    16150,\n",
       "    16631,\n",
       "    17122,\n",
       "    17539,\n",
       "    17981,\n",
       "    18411,\n",
       "    18802,\n",
       "    19191,\n",
       "    19539,\n",
       "    19843,\n",
       "    20175,\n",
       "    20494,\n",
       "    20813,\n",
       "    21101,\n",
       "    21372,\n",
       "    21616,\n",
       "    21885,\n",
       "    22142,\n",
       "    22398,\n",
       "    22667,\n",
       "    22892,\n",
       "    23102,\n",
       "    23301,\n",
       "    23486,\n",
       "    23688,\n",
       "    23890,\n",
       "    24061,\n",
       "    24211,\n",
       "    24355,\n",
       "    24526,\n",
       "    24663,\n",
       "    24802,\n",
       "    24949,\n",
       "    25094,\n",
       "    25218,\n",
       "    25328,\n",
       "    25441,\n",
       "    25534,\n",
       "    25621,\n",
       "    25714,\n",
       "    25803,\n",
       "    25886,\n",
       "    25954,\n",
       "    26019,\n",
       "    26077,\n",
       "    26158,\n",
       "    26233,\n",
       "    26303,\n",
       "    26371,\n",
       "    26438,\n",
       "    26480,\n",
       "    26538,\n",
       "    26586,\n",
       "    26637,\n",
       "    26677,\n",
       "    26719,\n",
       "    26766,\n",
       "    26813,\n",
       "    26847,\n",
       "    26876,\n",
       "    26908,\n",
       "    26944,\n",
       "    26980,\n",
       "    27005,\n",
       "    27044,\n",
       "    27076,\n",
       "    27100,\n",
       "    27124,\n",
       "    27143,\n",
       "    27159,\n",
       "    27181,\n",
       "    27198,\n",
       "    27215,\n",
       "    27228,\n",
       "    27244,\n",
       "    27264,\n",
       "    27279,\n",
       "    27293,\n",
       "    27307,\n",
       "    27325,\n",
       "    27343,\n",
       "    27354,\n",
       "    27366,\n",
       "    27377,\n",
       "    27389,\n",
       "    27401,\n",
       "    27412,\n",
       "    27419,\n",
       "    27426,\n",
       "    27434,\n",
       "    27446],\n",
       "   'susceptible_counts': [89999,\n",
       "    89258,\n",
       "    88593,\n",
       "    87919,\n",
       "    87276,\n",
       "    86692,\n",
       "    86060,\n",
       "    85478,\n",
       "    84900,\n",
       "    84347,\n",
       "    83850,\n",
       "    83369,\n",
       "    82878,\n",
       "    82461,\n",
       "    82019,\n",
       "    81589,\n",
       "    81198,\n",
       "    80809,\n",
       "    80461,\n",
       "    80157,\n",
       "    79825,\n",
       "    79506,\n",
       "    79187,\n",
       "    78899,\n",
       "    78628,\n",
       "    78384,\n",
       "    78115,\n",
       "    77858,\n",
       "    77602,\n",
       "    77333,\n",
       "    77108,\n",
       "    76898,\n",
       "    76699,\n",
       "    76514,\n",
       "    76312,\n",
       "    76110,\n",
       "    75939,\n",
       "    75789,\n",
       "    75645,\n",
       "    75474,\n",
       "    75337,\n",
       "    75198,\n",
       "    75051,\n",
       "    74906,\n",
       "    74782,\n",
       "    74672,\n",
       "    74559,\n",
       "    74466,\n",
       "    74379,\n",
       "    74286,\n",
       "    74197,\n",
       "    74114,\n",
       "    74046,\n",
       "    73981,\n",
       "    73923,\n",
       "    73842,\n",
       "    73767,\n",
       "    73697,\n",
       "    73629,\n",
       "    73562,\n",
       "    73520,\n",
       "    73462,\n",
       "    73414,\n",
       "    73363,\n",
       "    73323,\n",
       "    73281,\n",
       "    73234,\n",
       "    73187,\n",
       "    73153,\n",
       "    73124,\n",
       "    73092,\n",
       "    73056,\n",
       "    73020,\n",
       "    72995,\n",
       "    72956,\n",
       "    72924,\n",
       "    72900,\n",
       "    72876,\n",
       "    72857,\n",
       "    72841,\n",
       "    72819,\n",
       "    72802,\n",
       "    72785,\n",
       "    72772,\n",
       "    72756,\n",
       "    72736,\n",
       "    72721,\n",
       "    72707,\n",
       "    72693,\n",
       "    72675,\n",
       "    72657,\n",
       "    72646,\n",
       "    72634,\n",
       "    72623,\n",
       "    72611,\n",
       "    72599,\n",
       "    72588,\n",
       "    72581,\n",
       "    72574,\n",
       "    72566,\n",
       "    72554],\n",
       "   'infected_fractions': [0.1,\n",
       "    0.11,\n",
       "    0.11,\n",
       "    0.12,\n",
       "    0.13,\n",
       "    0.13,\n",
       "    0.14,\n",
       "    0.15,\n",
       "    0.15,\n",
       "    0.16,\n",
       "    0.16,\n",
       "    0.17,\n",
       "    0.17,\n",
       "    0.18,\n",
       "    0.18,\n",
       "    0.18,\n",
       "    0.19,\n",
       "    0.19,\n",
       "    0.2,\n",
       "    0.2,\n",
       "    0.2,\n",
       "    0.2,\n",
       "    0.21,\n",
       "    0.21,\n",
       "    0.21,\n",
       "    0.22,\n",
       "    0.22,\n",
       "    0.22,\n",
       "    0.22,\n",
       "    0.23,\n",
       "    0.23,\n",
       "    0.23,\n",
       "    0.23,\n",
       "    0.23,\n",
       "    0.24,\n",
       "    0.24,\n",
       "    0.24,\n",
       "    0.24,\n",
       "    0.24,\n",
       "    0.25,\n",
       "    0.25,\n",
       "    0.25,\n",
       "    0.25,\n",
       "    0.25,\n",
       "    0.25,\n",
       "    0.25,\n",
       "    0.25,\n",
       "    0.26,\n",
       "    0.26,\n",
       "    0.26,\n",
       "    0.26,\n",
       "    0.26,\n",
       "    0.26,\n",
       "    0.26,\n",
       "    0.26,\n",
       "    0.26,\n",
       "    0.26,\n",
       "    0.26,\n",
       "    0.26,\n",
       "    0.26,\n",
       "    0.26,\n",
       "    0.27,\n",
       "    0.27,\n",
       "    0.27,\n",
       "    0.27,\n",
       "    0.27,\n",
       "    0.27,\n",
       "    0.27,\n",
       "    0.27,\n",
       "    0.27,\n",
       "    0.27,\n",
       "    0.27,\n",
       "    0.27,\n",
       "    0.27,\n",
       "    0.27,\n",
       "    0.27,\n",
       "    0.27,\n",
       "    0.27,\n",
       "    0.27,\n",
       "    0.27,\n",
       "    0.27,\n",
       "    0.27,\n",
       "    0.27,\n",
       "    0.27,\n",
       "    0.27,\n",
       "    0.27,\n",
       "    0.27,\n",
       "    0.27,\n",
       "    0.27,\n",
       "    0.27,\n",
       "    0.27,\n",
       "    0.27,\n",
       "    0.27,\n",
       "    0.27,\n",
       "    0.27,\n",
       "    0.27,\n",
       "    0.27,\n",
       "    0.27,\n",
       "    0.27,\n",
       "    0.27,\n",
       "    0.27],\n",
       "   'susceptible_fractions': [0.9,\n",
       "    0.89,\n",
       "    0.89,\n",
       "    0.88,\n",
       "    0.87,\n",
       "    0.87,\n",
       "    0.86,\n",
       "    0.85,\n",
       "    0.85,\n",
       "    0.84,\n",
       "    0.84,\n",
       "    0.83,\n",
       "    0.83,\n",
       "    0.82,\n",
       "    0.82,\n",
       "    0.82,\n",
       "    0.81,\n",
       "    0.81,\n",
       "    0.8,\n",
       "    0.8,\n",
       "    0.8,\n",
       "    0.8,\n",
       "    0.79,\n",
       "    0.79,\n",
       "    0.79,\n",
       "    0.78,\n",
       "    0.78,\n",
       "    0.78,\n",
       "    0.78,\n",
       "    0.77,\n",
       "    0.77,\n",
       "    0.77,\n",
       "    0.77,\n",
       "    0.77,\n",
       "    0.76,\n",
       "    0.76,\n",
       "    0.76,\n",
       "    0.76,\n",
       "    0.76,\n",
       "    0.75,\n",
       "    0.75,\n",
       "    0.75,\n",
       "    0.75,\n",
       "    0.75,\n",
       "    0.75,\n",
       "    0.75,\n",
       "    0.75,\n",
       "    0.74,\n",
       "    0.74,\n",
       "    0.74,\n",
       "    0.74,\n",
       "    0.74,\n",
       "    0.74,\n",
       "    0.74,\n",
       "    0.74,\n",
       "    0.74,\n",
       "    0.74,\n",
       "    0.74,\n",
       "    0.74,\n",
       "    0.74,\n",
       "    0.74,\n",
       "    0.73,\n",
       "    0.73,\n",
       "    0.73,\n",
       "    0.73,\n",
       "    0.73,\n",
       "    0.73,\n",
       "    0.73,\n",
       "    0.73,\n",
       "    0.73,\n",
       "    0.73,\n",
       "    0.73,\n",
       "    0.73,\n",
       "    0.73,\n",
       "    0.73,\n",
       "    0.73,\n",
       "    0.73,\n",
       "    0.73,\n",
       "    0.73,\n",
       "    0.73,\n",
       "    0.73,\n",
       "    0.73,\n",
       "    0.73,\n",
       "    0.73,\n",
       "    0.73,\n",
       "    0.73,\n",
       "    0.73,\n",
       "    0.73,\n",
       "    0.73,\n",
       "    0.73,\n",
       "    0.73,\n",
       "    0.73,\n",
       "    0.73,\n",
       "    0.73,\n",
       "    0.73,\n",
       "    0.73,\n",
       "    0.73,\n",
       "    0.73,\n",
       "    0.73,\n",
       "    0.73,\n",
       "    0.73],\n",
       "   'R0': [0.07,\n",
       "    0.07,\n",
       "    0.06,\n",
       "    0.06,\n",
       "    0.05,\n",
       "    0.05,\n",
       "    0.05,\n",
       "    0.04,\n",
       "    0.04,\n",
       "    0.04,\n",
       "    0.03,\n",
       "    0.03,\n",
       "    0.03,\n",
       "    0.02,\n",
       "    0.03,\n",
       "    0.02,\n",
       "    0.02,\n",
       "    0.02,\n",
       "    0.02,\n",
       "    0.02,\n",
       "    0.02,\n",
       "    0.02,\n",
       "    0.02,\n",
       "    0.01,\n",
       "    0.01,\n",
       "    0.01,\n",
       "    0.01,\n",
       "    0.01,\n",
       "    0.01,\n",
       "    0.01,\n",
       "    0.01,\n",
       "    0.01,\n",
       "    0.01,\n",
       "    0.01,\n",
       "    0.01,\n",
       "    0.01,\n",
       "    0.01,\n",
       "    0.01,\n",
       "    0.01,\n",
       "    0.01,\n",
       "    0.01,\n",
       "    0.01,\n",
       "    0.01,\n",
       "    0.01,\n",
       "    0.0,\n",
       "    0.0,\n",
       "    0.0,\n",
       "    0.0,\n",
       "    0.0,\n",
       "    0.0,\n",
       "    0.0,\n",
       "    0.0,\n",
       "    0.0,\n",
       "    0.0,\n",
       "    0.0,\n",
       "    0.0,\n",
       "    0.0,\n",
       "    0.0,\n",
       "    0.0,\n",
       "    0.0,\n",
       "    0.0,\n",
       "    0.0,\n",
       "    0.0,\n",
       "    0.0,\n",
       "    0.0,\n",
       "    0.0,\n",
       "    0.0,\n",
       "    0.0,\n",
       "    0.0,\n",
       "    0.0,\n",
       "    0.0,\n",
       "    0.0,\n",
       "    0.0,\n",
       "    0.0,\n",
       "    0.0,\n",
       "    0.0,\n",
       "    0.0,\n",
       "    0.0,\n",
       "    0.0,\n",
       "    0.0,\n",
       "    0.0,\n",
       "    0.0,\n",
       "    0.0,\n",
       "    0.0,\n",
       "    0.0,\n",
       "    0.0,\n",
       "    0.0,\n",
       "    0.0,\n",
       "    0.0,\n",
       "    0.0,\n",
       "    0.0,\n",
       "    0.0,\n",
       "    0.0,\n",
       "    0.0,\n",
       "    0.0,\n",
       "    0.0,\n",
       "    0.0,\n",
       "    0.0,\n",
       "    0.0,\n",
       "    0.0],\n",
       "   'mean_infected': [10001.0,\n",
       "    10742.0,\n",
       "    11407.0,\n",
       "    12081.0,\n",
       "    12724.0,\n",
       "    13308.0,\n",
       "    13940.0,\n",
       "    14522.0,\n",
       "    15100.0,\n",
       "    15653.0,\n",
       "    16150.0,\n",
       "    16631.0,\n",
       "    17122.0,\n",
       "    17539.0,\n",
       "    17981.0,\n",
       "    18411.0,\n",
       "    18802.0,\n",
       "    19191.0,\n",
       "    19539.0,\n",
       "    19843.0,\n",
       "    20175.0,\n",
       "    20494.0,\n",
       "    20813.0,\n",
       "    21101.0,\n",
       "    21372.0,\n",
       "    21616.0,\n",
       "    21885.0,\n",
       "    22142.0,\n",
       "    22398.0,\n",
       "    22667.0,\n",
       "    22892.0,\n",
       "    23102.0,\n",
       "    23301.0,\n",
       "    23486.0,\n",
       "    23688.0,\n",
       "    23890.0,\n",
       "    24061.0,\n",
       "    24211.0,\n",
       "    24355.0,\n",
       "    24526.0,\n",
       "    24663.0,\n",
       "    24802.0,\n",
       "    24949.0,\n",
       "    25094.0,\n",
       "    25218.0,\n",
       "    25328.0,\n",
       "    25441.0,\n",
       "    25534.0,\n",
       "    25621.0,\n",
       "    25714.0,\n",
       "    25803.0,\n",
       "    25886.0,\n",
       "    25954.0,\n",
       "    26019.0,\n",
       "    26077.0,\n",
       "    26158.0,\n",
       "    26233.0,\n",
       "    26303.0,\n",
       "    26371.0,\n",
       "    26438.0,\n",
       "    26480.0,\n",
       "    26538.0,\n",
       "    26586.0,\n",
       "    26637.0,\n",
       "    26677.0,\n",
       "    26719.0,\n",
       "    26766.0,\n",
       "    26813.0,\n",
       "    26847.0,\n",
       "    26876.0,\n",
       "    26908.0,\n",
       "    26944.0,\n",
       "    26980.0,\n",
       "    27005.0,\n",
       "    27044.0,\n",
       "    27076.0,\n",
       "    27100.0,\n",
       "    27124.0,\n",
       "    27143.0,\n",
       "    27159.0,\n",
       "    27181.0,\n",
       "    27198.0,\n",
       "    27215.0,\n",
       "    27228.0,\n",
       "    27244.0,\n",
       "    27264.0,\n",
       "    27279.0,\n",
       "    27293.0,\n",
       "    27307.0,\n",
       "    27325.0,\n",
       "    27343.0,\n",
       "    27354.0,\n",
       "    27366.0,\n",
       "    27377.0,\n",
       "    27389.0,\n",
       "    27401.0,\n",
       "    27412.0,\n",
       "    27419.0,\n",
       "    27426.0,\n",
       "    27434.0,\n",
       "    27446.0],\n",
       "   'std_infected': [0.0,\n",
       "    0.0,\n",
       "    0.0,\n",
       "    0.0,\n",
       "    0.0,\n",
       "    0.0,\n",
       "    0.0,\n",
       "    0.0,\n",
       "    0.0,\n",
       "    0.0,\n",
       "    0.0,\n",
       "    0.0,\n",
       "    0.0,\n",
       "    0.0,\n",
       "    0.0,\n",
       "    0.0,\n",
       "    0.0,\n",
       "    0.0,\n",
       "    0.0,\n",
       "    0.0,\n",
       "    0.0,\n",
       "    0.0,\n",
       "    0.0,\n",
       "    0.0,\n",
       "    0.0,\n",
       "    0.0,\n",
       "    0.0,\n",
       "    0.0,\n",
       "    0.0,\n",
       "    0.0,\n",
       "    0.0,\n",
       "    0.0,\n",
       "    0.0,\n",
       "    0.0,\n",
       "    0.0,\n",
       "    0.0,\n",
       "    0.0,\n",
       "    0.0,\n",
       "    0.0,\n",
       "    0.0,\n",
       "    0.0,\n",
       "    0.0,\n",
       "    0.0,\n",
       "    0.0,\n",
       "    0.0,\n",
       "    0.0,\n",
       "    0.0,\n",
       "    0.0,\n",
       "    0.0,\n",
       "    0.0,\n",
       "    0.0,\n",
       "    0.0,\n",
       "    0.0,\n",
       "    0.0,\n",
       "    0.0,\n",
       "    0.0,\n",
       "    0.0,\n",
       "    0.0,\n",
       "    0.0,\n",
       "    0.0,\n",
       "    0.0,\n",
       "    0.0,\n",
       "    0.0,\n",
       "    0.0,\n",
       "    0.0,\n",
       "    0.0,\n",
       "    0.0,\n",
       "    0.0,\n",
       "    0.0,\n",
       "    0.0,\n",
       "    0.0,\n",
       "    0.0,\n",
       "    0.0,\n",
       "    0.0,\n",
       "    0.0,\n",
       "    0.0,\n",
       "    0.0,\n",
       "    0.0,\n",
       "    0.0,\n",
       "    0.0,\n",
       "    0.0,\n",
       "    0.0,\n",
       "    0.0,\n",
       "    0.0,\n",
       "    0.0,\n",
       "    0.0,\n",
       "    0.0,\n",
       "    0.0,\n",
       "    0.0,\n",
       "    0.0,\n",
       "    0.0,\n",
       "    0.0,\n",
       "    0.0,\n",
       "    0.0,\n",
       "    0.0,\n",
       "    0.0,\n",
       "    0.0,\n",
       "    0.0,\n",
       "    0.0,\n",
       "    0.0,\n",
       "    0.0],\n",
       "   'confidence_interval': [0.0,\n",
       "    0.0,\n",
       "    0.0,\n",
       "    0.0,\n",
       "    0.0,\n",
       "    0.0,\n",
       "    0.0,\n",
       "    0.0,\n",
       "    0.0,\n",
       "    0.0,\n",
       "    0.0,\n",
       "    0.0,\n",
       "    0.0,\n",
       "    0.0,\n",
       "    0.0,\n",
       "    0.0,\n",
       "    0.0,\n",
       "    0.0,\n",
       "    0.0,\n",
       "    0.0,\n",
       "    0.0,\n",
       "    0.0,\n",
       "    0.0,\n",
       "    0.0,\n",
       "    0.0,\n",
       "    0.0,\n",
       "    0.0,\n",
       "    0.0,\n",
       "    0.0,\n",
       "    0.0,\n",
       "    0.0,\n",
       "    0.0,\n",
       "    0.0,\n",
       "    0.0,\n",
       "    0.0,\n",
       "    0.0,\n",
       "    0.0,\n",
       "    0.0,\n",
       "    0.0,\n",
       "    0.0,\n",
       "    0.0,\n",
       "    0.0,\n",
       "    0.0,\n",
       "    0.0,\n",
       "    0.0,\n",
       "    0.0,\n",
       "    0.0,\n",
       "    0.0,\n",
       "    0.0,\n",
       "    0.0,\n",
       "    0.0,\n",
       "    0.0,\n",
       "    0.0,\n",
       "    0.0,\n",
       "    0.0,\n",
       "    0.0,\n",
       "    0.0,\n",
       "    0.0,\n",
       "    0.0,\n",
       "    0.0,\n",
       "    0.0,\n",
       "    0.0,\n",
       "    0.0,\n",
       "    0.0,\n",
       "    0.0,\n",
       "    0.0,\n",
       "    0.0,\n",
       "    0.0,\n",
       "    0.0,\n",
       "    0.0,\n",
       "    0.0,\n",
       "    0.0,\n",
       "    0.0,\n",
       "    0.0,\n",
       "    0.0,\n",
       "    0.0,\n",
       "    0.0,\n",
       "    0.0,\n",
       "    0.0,\n",
       "    0.0,\n",
       "    0.0,\n",
       "    0.0,\n",
       "    0.0,\n",
       "    0.0,\n",
       "    0.0,\n",
       "    0.0,\n",
       "    0.0,\n",
       "    0.0,\n",
       "    0.0,\n",
       "    0.0,\n",
       "    0.0,\n",
       "    0.0,\n",
       "    0.0,\n",
       "    0.0,\n",
       "    0.0,\n",
       "    0.0,\n",
       "    0.0,\n",
       "    0.0,\n",
       "    0.0,\n",
       "    0.0,\n",
       "    0.0]}],\n",
       " [array([6.00519844, 6.00643017, 5.99556551, 5.96906997, 6.00423038,\n",
       "         5.95731755, 5.95584394, 5.9877726 , 5.98291183, 5.9455513 ,\n",
       "         5.92873408, 5.9225036 , 5.92889838, 5.90169733, 5.90718924,\n",
       "         5.89218529, 5.89313378, 5.88946228, 5.83863797, 5.84465204,\n",
       "         5.87761643, 5.86330274, 5.84077149, 5.81907281, 5.81638444,\n",
       "         5.78388072, 5.82310855, 5.79208623, 5.745114  , 5.74439767,\n",
       "         5.75726053, 5.689641  , 5.72061475, 5.72213119, 5.70269899,\n",
       "         5.66158889, 5.67461765, 5.62832072, 5.64459638, 5.60650943,\n",
       "         5.61115255, 5.59149842, 5.55142261, 5.56260632, 5.52625466,\n",
       "         5.52180362, 5.51153395, 5.48143983, 5.48187046, 5.44152109,\n",
       "         5.43235682, 5.38956966, 5.369734  , 5.38036642, 5.35483378,\n",
       "         5.34077027, 5.30712406, 5.30321954, 5.28443856, 5.23313853,\n",
       "         5.2125595 , 5.21391605, 5.187067  , 5.16580162, 5.13080541,\n",
       "         5.10332886, 5.08247852, 5.05861489, 5.03465117, 5.01335962,\n",
       "         4.98881493, 4.97739329, 4.94318956, 4.93314616, 4.91811763,\n",
       "         4.8531698 , 4.83093556, 4.84235465, 4.7963058 , 4.75902182,\n",
       "         4.72393242, 4.74064155, 4.7153005 , 4.6714283 , 4.64411854,\n",
       "         4.61256915, 4.60712866, 4.5808477 , 4.54972841, 4.52751185,\n",
       "         4.472189  , 4.49566375, 4.44657617, 4.42755033, 4.39802911,\n",
       "         4.36455667, 4.36426742, 4.3153922 , 4.29949368, 4.26967859]),\n",
       "  array([1.79901093, 1.78952854, 1.78663972, 1.76215845, 1.76494471,\n",
       "         1.75841175, 1.75153861, 1.73139269, 1.73020473, 1.71609824,\n",
       "         1.71744177, 1.72940755, 1.71912563, 1.70316771, 1.70049643,\n",
       "         1.70098134, 1.67867016, 1.69988458, 1.68522141, 1.68300542,\n",
       "         1.68104139, 1.66972204, 1.6696086 , 1.66278969, 1.66454984,\n",
       "         1.64246734, 1.65970288, 1.66135667, 1.65372675, 1.63554667,\n",
       "         1.62632768, 1.63235396, 1.63605796, 1.63093554, 1.61410107,\n",
       "         1.63645401, 1.6282999 , 1.62749974, 1.60873427, 1.5920979 ,\n",
       "         1.61283063, 1.61851206, 1.64239627, 1.61296911, 1.59429668,\n",
       "         1.63196925, 1.60043332, 1.60409475, 1.59843474, 1.61561154,\n",
       "         1.5920139 , 1.60329613, 1.59463733, 1.60621021, 1.59008095,\n",
       "         1.59543577, 1.56622021, 1.61184921, 1.59243512, 1.60604098,\n",
       "         1.58356508, 1.56401095, 1.5749222 , 1.6005992 , 1.58454866,\n",
       "         1.55338908, 1.59046733, 1.55996577, 1.58926486, 1.56758455,\n",
       "         1.60050463, 1.58706831, 1.60790154, 1.55427126, 1.55649274,\n",
       "         1.59418818, 1.58546451, 1.5406636 , 1.54656886, 1.56732024,\n",
       "         1.55231907, 1.62409605, 1.54484428, 1.58470126, 1.58600605,\n",
       "         1.5996358 , 1.61832235, 1.58830137, 1.58686765, 1.5715564 ,\n",
       "         1.5938801 , 1.55813959, 1.5320881 , 1.58259448, 1.58386509,\n",
       "         1.57919739, 1.59032499, 1.58025919, 1.52946947, 1.50189753])])"
      ]
     },
     "execution_count": 9,
     "metadata": {},
     "output_type": "execute_result"
    }
   ],
   "source": [
    "%%time\n",
    "# This takes around 16 min to simulate each case\n",
    "run_evolution(cases, 30, T, infected_init)"
   ]
  },
  {
   "cell_type": "code",
   "execution_count": 10,
   "id": "87003f6f",
   "metadata": {},
   "outputs": [
    {
     "data": {
      "image/png": "[encoded data removed]",
      "text/plain": [
       "<Figure size 640x480 with 1 Axes>"
      ]
     },
     "metadata": {},
     "output_type": "display_data"
    }
   ],
   "source": [
    "plot_evolution(cases)"
   ]
  },
  {
   "cell_type": "code",
   "execution_count": 11,
   "id": "9b965a42",
   "metadata": {},
   "outputs": [
    {
     "data": {
      "application/vnd.plotly.v1+json": {
       "config": {
        "plotlyServerURL": "https://plot.ly"
       },
       "data": [
        {
         "line": {
          "width": 5
         },
         "mode": "lines",
         "name": "Infected",
         "type": "scatter",
         "x": [
          0,
          1,
          2,
          3,
          4,
          5,
          6,
          7,
          8,
          9,
          10,
          11,
          12,
          13,
          14,
          15,
          16,
          17,
          18,
          19,
          20,
          21,
          22,
          23,
          24,
          25,
          26,
          27,
          28,
          29,
          30,
          31,
          32,
          33,
          34,
          35,
          36,
          37,
          38,
          39,
          40,
          41,
          42,
          43,
          44,
          45,
          46,
          47,
          48,
          49,
          50,
          51,
          52,
          53,
          54,
          55,
          56,
          57,
          58,
          59,
          60,
          61,
          62,
          63,
          64,
          65,
          66,
          67,
          68,
          69,
          70,
          71,
          72,
          73,
          74,
          75,
          76,
          77,
          78,
          79,
          80,
          81,
          82,
          83,
          84,
          85,
          86,
          87,
          88,
          89,
          90,
          91,
          92,
          93,
          94,
          95,
          96,
          97,
          98,
          99,
          100
         ],
         "y": [
          10001,
          10450,
          10957,
          11479,
          11965,
          12515,
          13039,
          13611,
          14184,
          14755,
          15324,
          15909,
          16538,
          17168,
          17793,
          18467,
          19137,
          19851,
          20587,
          21329,
          22050,
          22815,
          23567,
          24343,
          25119,
          25941,
          26754,
          27614,
          28474,
          29289,
          30132,
          31006,
          31865,
          32776,
          33636,
          34521,
          35520,
          36496,
          37455,
          38460,
          39388,
          40338,
          41304,
          42266,
          43196,
          44193,
          45157,
          46161,
          47125,
          48110,
          49039,
          50031,
          51031,
          51976,
          52931,
          53838,
          54750,
          55664,
          56602,
          57536,
          58413,
          59332,
          60226,
          61074,
          61993,
          62880,
          63754,
          64565,
          65420,
          66236,
          67003,
          67789,
          68540,
          69290,
          70019,
          70672,
          71355,
          72034,
          72754,
          73438,
          74090,
          74724,
          75353,
          75955,
          76612,
          77224,
          77785,
          78365,
          78889,
          79390,
          79902,
          80370,
          80878,
          81339,
          81835,
          82272,
          82707,
          83145,
          83563,
          83988,
          84392
         ]
        },
        {
         "line": {
          "width": 5
         },
         "mode": "lines",
         "name": "Susceptible",
         "type": "scatter",
         "x": [
          0,
          1,
          2,
          3,
          4,
          5,
          6,
          7,
          8,
          9,
          10,
          11,
          12,
          13,
          14,
          15,
          16,
          17,
          18,
          19,
          20,
          21,
          22,
          23,
          24,
          25,
          26,
          27,
          28,
          29,
          30,
          31,
          32,
          33,
          34,
          35,
          36,
          37,
          38,
          39,
          40,
          41,
          42,
          43,
          44,
          45,
          46,
          47,
          48,
          49,
          50,
          51,
          52,
          53,
          54,
          55,
          56,
          57,
          58,
          59,
          60,
          61,
          62,
          63,
          64,
          65,
          66,
          67,
          68,
          69,
          70,
          71,
          72,
          73,
          74,
          75,
          76,
          77,
          78,
          79,
          80,
          81,
          82,
          83,
          84,
          85,
          86,
          87,
          88,
          89,
          90,
          91,
          92,
          93,
          94,
          95,
          96,
          97,
          98,
          99,
          100
         ],
         "y": [
          89999,
          89550,
          89043,
          88521,
          88035,
          87485,
          86961,
          86389,
          85816,
          85245,
          84676,
          84091,
          83462,
          82832,
          82207,
          81533,
          80863,
          80149,
          79413,
          78671,
          77950,
          77185,
          76433,
          75657,
          74881,
          74059,
          73246,
          72386,
          71526,
          70711,
          69868,
          68994,
          68135,
          67224,
          66364,
          65479,
          64480,
          63504,
          62545,
          61540,
          60612,
          59662,
          58696,
          57734,
          56804,
          55807,
          54843,
          53839,
          52875,
          51890,
          50961,
          49969,
          48969,
          48024,
          47069,
          46162,
          45250,
          44336,
          43398,
          42464,
          41587,
          40668,
          39774,
          38926,
          38007,
          37120,
          36246,
          35435,
          34580,
          33764,
          32997,
          32211,
          31460,
          30710,
          29981,
          29328,
          28645,
          27966,
          27246,
          26562,
          25910,
          25276,
          24647,
          24045,
          23388,
          22776,
          22215,
          21635,
          21111,
          20610,
          20098,
          19630,
          19122,
          18661,
          18165,
          17728,
          17293,
          16855,
          16437,
          16012,
          15608
         ]
        }
       ],
       "layout": {
        "legend": {
         "font": {
          "size": 18
         },
         "title": {
          "text": "Category"
         }
        },
        "template": {
         "data": {
          "bar": [
           {
            "error_x": {
             "color": "#2a3f5f"
            },
            "error_y": {
             "color": "#2a3f5f"
            },
            "marker": {
             "line": {
              "color": "#E5ECF6",
              "width": 0.5
             },
             "pattern": {
              "fillmode": "overlay",
              "size": 10,
              "solidity": 0.2
             }
            },
            "type": "bar"
           }
          ],
          "barpolar": [
           {
            "marker": {
             "line": {
              "color": "#E5ECF6",
              "width": 0.5
             },
             "pattern": {
              "fillmode": "overlay",
              "size": 10,
              "solidity": 0.2
             }
            },
            "type": "barpolar"
           }
          ],
          "carpet": [
           {
            "aaxis": {
             "endlinecolor": "#2a3f5f",
             "gridcolor": "white",
             "linecolor": "white",
             "minorgridcolor": "white",
             "startlinecolor": "#2a3f5f"
            },
            "baxis": {
             "endlinecolor": "#2a3f5f",
             "gridcolor": "white",
             "linecolor": "white",
             "minorgridcolor": "white",
             "startlinecolor": "#2a3f5f"
            },
            "type": "carpet"
           }
          ],
          "choropleth": [
           {
            "colorbar": {
             "outlinewidth": 0,
             "ticks": ""
            },
            "type": "choropleth"
           }
          ],
          "contour": [
           {
            "colorbar": {
             "outlinewidth": 0,
             "ticks": ""
            },
            "colorscale": [
             [
              0,
              "#0d0887"
             ],
             [
              0.1111111111111111,
              "#46039f"
             ],
             [
              0.2222222222222222,
              "#7201a8"
             ],
             [
              0.3333333333333333,
              "#9c179e"
             ],
             [
              0.4444444444444444,
              "#bd3786"
             ],
             [
              0.5555555555555556,
              "#d8576b"
             ],
             [
              0.6666666666666666,
              "#ed7953"
             ],
             [
              0.7777777777777778,
              "#fb9f3a"
             ],
             [
              0.8888888888888888,
              "#fdca26"
             ],
             [
              1,
              "#f0f921"
             ]
            ],
            "type": "contour"
           }
          ],
          "contourcarpet": [
           {
            "colorbar": {
             "outlinewidth": 0,
             "ticks": ""
            },
            "type": "contourcarpet"
           }
          ],
          "heatmap": [
           {
            "colorbar": {
             "outlinewidth": 0,
             "ticks": ""
            },
            "colorscale": [
             [
              0,
              "#0d0887"
             ],
             [
              0.1111111111111111,
              "#46039f"
             ],
             [
              0.2222222222222222,
              "#7201a8"
             ],
             [
              0.3333333333333333,
              "#9c179e"
             ],
             [
              0.4444444444444444,
              "#bd3786"
             ],
             [
              0.5555555555555556,
              "#d8576b"
             ],
             [
              0.6666666666666666,
              "#ed7953"
             ],
             [
              0.7777777777777778,
              "#fb9f3a"
             ],
             [
              0.8888888888888888,
              "#fdca26"
             ],
             [
              1,
              "#f0f921"
             ]
            ],
            "type": "heatmap"
           }
          ],
          "heatmapgl": [
           {
            "colorbar": {
             "outlinewidth": 0,
             "ticks": ""
            },
            "colorscale": [
             [
              0,
              "#0d0887"
             ],
             [
              0.1111111111111111,
              "#46039f"
             ],
             [
              0.2222222222222222,
              "#7201a8"
             ],
             [
              0.3333333333333333,
              "#9c179e"
             ],
             [
              0.4444444444444444,
              "#bd3786"
             ],
             [
              0.5555555555555556,
              "#d8576b"
             ],
             [
              0.6666666666666666,
              "#ed7953"
             ],
             [
              0.7777777777777778,
              "#fb9f3a"
             ],
             [
              0.8888888888888888,
              "#fdca26"
             ],
             [
              1,
              "#f0f921"
             ]
            ],
            "type": "heatmapgl"
           }
          ],
          "histogram": [
           {
            "marker": {
             "pattern": {
              "fillmode": "overlay",
              "size": 10,
              "solidity": 0.2
             }
            },
            "type": "histogram"
           }
          ],
          "histogram2d": [
           {
            "colorbar": {
             "outlinewidth": 0,
             "ticks": ""
            },
            "colorscale": [
             [
              0,
              "#0d0887"
             ],
             [
              0.1111111111111111,
              "#46039f"
             ],
             [
              0.2222222222222222,
              "#7201a8"
             ],
             [
              0.3333333333333333,
              "#9c179e"
             ],
             [
              0.4444444444444444,
              "#bd3786"
             ],
             [
              0.5555555555555556,
              "#d8576b"
             ],
             [
              0.6666666666666666,
              "#ed7953"
             ],
             [
              0.7777777777777778,
              "#fb9f3a"
             ],
             [
              0.8888888888888888,
              "#fdca26"
             ],
             [
              1,
              "#f0f921"
             ]
            ],
            "type": "histogram2d"
           }
          ],
          "histogram2dcontour": [
           {
            "colorbar": {
             "outlinewidth": 0,
             "ticks": ""
            },
            "colorscale": [
             [
              0,
              "#0d0887"
             ],
             [
              0.1111111111111111,
              "#46039f"
             ],
             [
              0.2222222222222222,
              "#7201a8"
             ],
             [
              0.3333333333333333,
              "#9c179e"
             ],
             [
              0.4444444444444444,
              "#bd3786"
             ],
             [
              0.5555555555555556,
              "#d8576b"
             ],
             [
              0.6666666666666666,
              "#ed7953"
             ],
             [
              0.7777777777777778,
              "#fb9f3a"
             ],
             [
              0.8888888888888888,
              "#fdca26"
             ],
             [
              1,
              "#f0f921"
             ]
            ],
            "type": "histogram2dcontour"
           }
          ],
          "mesh3d": [
           {
            "colorbar": {
             "outlinewidth": 0,
             "ticks": ""
            },
            "type": "mesh3d"
           }
          ],
          "parcoords": [
           {
            "line": {
             "colorbar": {
              "outlinewidth": 0,
              "ticks": ""
             }
            },
            "type": "parcoords"
           }
          ],
          "pie": [
           {
            "automargin": true,
            "type": "pie"
           }
          ],
          "scatter": [
           {
            "fillpattern": {
             "fillmode": "overlay",
             "size": 10,
             "solidity": 0.2
            },
            "type": "scatter"
           }
          ],
          "scatter3d": [
           {
            "line": {
             "colorbar": {
              "outlinewidth": 0,
              "ticks": ""
             }
            },
            "marker": {
             "colorbar": {
              "outlinewidth": 0,
              "ticks": ""
             }
            },
            "type": "scatter3d"
           }
          ],
          "scattercarpet": [
           {
            "marker": {
             "colorbar": {
              "outlinewidth": 0,
              "ticks": ""
             }
            },
            "type": "scattercarpet"
           }
          ],
          "scattergeo": [
           {
            "marker": {
             "colorbar": {
              "outlinewidth": 0,
              "ticks": ""
             }
            },
            "type": "scattergeo"
           }
          ],
          "scattergl": [
           {
            "marker": {
             "colorbar": {
              "outlinewidth": 0,
              "ticks": ""
             }
            },
            "type": "scattergl"
           }
          ],
          "scattermapbox": [
           {
            "marker": {
             "colorbar": {
              "outlinewidth": 0,
              "ticks": ""
             }
            },
            "type": "scattermapbox"
           }
          ],
          "scatterpolar": [
           {
            "marker": {
             "colorbar": {
              "outlinewidth": 0,
              "ticks": ""
             }
            },
            "type": "scatterpolar"
           }
          ],
          "scatterpolargl": [
           {
            "marker": {
             "colorbar": {
              "outlinewidth": 0,
              "ticks": ""
             }
            },
            "type": "scatterpolargl"
           }
          ],
          "scatterternary": [
           {
            "marker": {
             "colorbar": {
              "outlinewidth": 0,
              "ticks": ""
             }
            },
            "type": "scatterternary"
           }
          ],
          "surface": [
           {
            "colorbar": {
             "outlinewidth": 0,
             "ticks": ""
            },
            "colorscale": [
             [
              0,
              "#0d0887"
             ],
             [
              0.1111111111111111,
              "#46039f"
             ],
             [
              0.2222222222222222,
              "#7201a8"
             ],
             [
              0.3333333333333333,
              "#9c179e"
             ],
             [
              0.4444444444444444,
              "#bd3786"
             ],
             [
              0.5555555555555556,
              "#d8576b"
             ],
             [
              0.6666666666666666,
              "#ed7953"
             ],
             [
              0.7777777777777778,
              "#fb9f3a"
             ],
             [
              0.8888888888888888,
              "#fdca26"
             ],
             [
              1,
              "#f0f921"
             ]
            ],
            "type": "surface"
           }
          ],
          "table": [
           {
            "cells": {
             "fill": {
              "color": "#EBF0F8"
             },
             "line": {
              "color": "white"
             }
            },
            "header": {
             "fill": {
              "color": "#C8D4E3"
             },
             "line": {
              "color": "white"
             }
            },
            "type": "table"
           }
          ]
         },
         "layout": {
          "annotationdefaults": {
           "arrowcolor": "#2a3f5f",
           "arrowhead": 0,
           "arrowwidth": 1
          },
          "autotypenumbers": "strict",
          "coloraxis": {
           "colorbar": {
            "outlinewidth": 0,
            "ticks": ""
           }
          },
          "colorscale": {
           "diverging": [
            [
             0,
             "#8e0152"
            ],
            [
             0.1,
             "#c51b7d"
            ],
            [
             0.2,
             "#de77ae"
            ],
            [
             0.3,
             "#f1b6da"
            ],
            [
             0.4,
             "#fde0ef"
            ],
            [
             0.5,
             "#f7f7f7"
            ],
            [
             0.6,
             "#e6f5d0"
            ],
            [
             0.7,
             "#b8e186"
            ],
            [
             0.8,
             "#7fbc41"
            ],
            [
             0.9,
             "#4d9221"
            ],
            [
             1,
             "#276419"
            ]
           ],
           "sequential": [
            [
             0,
             "#0d0887"
            ],
            [
             0.1111111111111111,
             "#46039f"
            ],
            [
             0.2222222222222222,
             "#7201a8"
            ],
            [
             0.3333333333333333,
             "#9c179e"
            ],
            [
             0.4444444444444444,
             "#bd3786"
            ],
            [
             0.5555555555555556,
             "#d8576b"
            ],
            [
             0.6666666666666666,
             "#ed7953"
            ],
            [
             0.7777777777777778,
             "#fb9f3a"
            ],
            [
             0.8888888888888888,
             "#fdca26"
            ],
            [
             1,
             "#f0f921"
            ]
           ],
           "sequentialminus": [
            [
             0,
             "#0d0887"
            ],
            [
             0.1111111111111111,
             "#46039f"
            ],
            [
             0.2222222222222222,
             "#7201a8"
            ],
            [
             0.3333333333333333,
             "#9c179e"
            ],
            [
             0.4444444444444444,
             "#bd3786"
            ],
            [
             0.5555555555555556,
             "#d8576b"
            ],
            [
             0.6666666666666666,
             "#ed7953"
            ],
            [
             0.7777777777777778,
             "#fb9f3a"
            ],
            [
             0.8888888888888888,
             "#fdca26"
            ],
            [
             1,
             "#f0f921"
            ]
           ]
          },
          "colorway": [
           "#636efa",
           "#EF553B",
           "#00cc96",
           "#ab63fa",
           "#FFA15A",
           "#19d3f3",
           "#FF6692",
           "#B6E880",
           "#FF97FF",
           "#FECB52"
          ],
          "font": {
           "color": "#2a3f5f"
          },
          "geo": {
           "bgcolor": "white",
           "lakecolor": "white",
           "landcolor": "#E5ECF6",
           "showlakes": true,
           "showland": true,
           "subunitcolor": "white"
          },
          "hoverlabel": {
           "align": "left"
          },
          "hovermode": "closest",
          "mapbox": {
           "style": "light"
          },
          "paper_bgcolor": "white",
          "plot_bgcolor": "#E5ECF6",
          "polar": {
           "angularaxis": {
            "gridcolor": "white",
            "linecolor": "white",
            "ticks": ""
           },
           "bgcolor": "#E5ECF6",
           "radialaxis": {
            "gridcolor": "white",
            "linecolor": "white",
            "ticks": ""
           }
          },
          "scene": {
           "xaxis": {
            "backgroundcolor": "#E5ECF6",
            "gridcolor": "white",
            "gridwidth": 2,
            "linecolor": "white",
            "showbackground": true,
            "ticks": "",
            "zerolinecolor": "white"
           },
           "yaxis": {
            "backgroundcolor": "#E5ECF6",
            "gridcolor": "white",
            "gridwidth": 2,
            "linecolor": "white",
            "showbackground": true,
            "ticks": "",
            "zerolinecolor": "white"
           },
           "zaxis": {
            "backgroundcolor": "#E5ECF6",
            "gridcolor": "white",
            "gridwidth": 2,
            "linecolor": "white",
            "showbackground": true,
            "ticks": "",
            "zerolinecolor": "white"
           }
          },
          "shapedefaults": {
           "line": {
            "color": "#2a3f5f"
           }
          },
          "ternary": {
           "aaxis": {
            "gridcolor": "white",
            "linecolor": "white",
            "ticks": ""
           },
           "baxis": {
            "gridcolor": "white",
            "linecolor": "white",
            "ticks": ""
           },
           "bgcolor": "#E5ECF6",
           "caxis": {
            "gridcolor": "white",
            "linecolor": "white",
            "ticks": ""
           }
          },
          "title": {
           "x": 0.05
          },
          "xaxis": {
           "automargin": true,
           "gridcolor": "white",
           "linecolor": "white",
           "ticks": "",
           "title": {
            "standoff": 15
           },
           "zerolinecolor": "white",
           "zerolinewidth": 2
          },
          "yaxis": {
           "automargin": true,
           "gridcolor": "white",
           "linecolor": "white",
           "ticks": "",
           "title": {
            "standoff": 15
           },
           "zerolinecolor": "white",
           "zerolinewidth": 2
          }
         }
        },
        "title": {
         "font": {
          "size": 22
         },
         "text": "i:0.01, average k:5.0"
        },
        "xaxis": {
         "tickfont": {
          "size": 16
         },
         "title": {
          "font": {
           "size": 20
          },
          "text": "Time Step"
         }
        },
        "yaxis": {
         "tickfont": {
          "size": 16
         },
         "title": {
          "font": {
           "size": 20
          },
          "text": "Amount of People"
         }
        }
       }
      }
     },
     "metadata": {},
     "output_type": "display_data"
    },
    {
     "data": {
      "application/vnd.plotly.v1+json": {
       "config": {
        "plotlyServerURL": "https://plot.ly"
       },
       "data": [
        {
         "line": {
          "width": 5
         },
         "mode": "lines",
         "name": "Infected",
         "type": "scatter",
         "x": [
          0,
          1,
          2,
          3,
          4,
          5,
          6,
          7,
          8,
          9,
          10,
          11,
          12,
          13,
          14,
          15,
          16,
          17,
          18,
          19,
          20,
          21,
          22,
          23,
          24,
          25,
          26,
          27,
          28,
          29,
          30,
          31,
          32,
          33,
          34,
          35,
          36,
          37,
          38,
          39,
          40,
          41,
          42,
          43,
          44,
          45,
          46,
          47,
          48,
          49,
          50,
          51,
          52,
          53,
          54,
          55,
          56,
          57,
          58,
          59,
          60,
          61,
          62,
          63,
          64,
          65,
          66,
          67,
          68,
          69,
          70,
          71,
          72,
          73,
          74,
          75,
          76,
          77,
          78,
          79,
          80,
          81,
          82,
          83,
          84,
          85,
          86,
          87,
          88,
          89,
          90,
          91,
          92,
          93,
          94,
          95,
          96,
          97,
          98,
          99,
          100
         ],
         "y": [
          10001,
          10742,
          11407,
          12081,
          12724,
          13308,
          13940,
          14522,
          15100,
          15653,
          16150,
          16631,
          17122,
          17539,
          17981,
          18411,
          18802,
          19191,
          19539,
          19843,
          20175,
          20494,
          20813,
          21101,
          21372,
          21616,
          21885,
          22142,
          22398,
          22667,
          22892,
          23102,
          23301,
          23486,
          23688,
          23890,
          24061,
          24211,
          24355,
          24526,
          24663,
          24802,
          24949,
          25094,
          25218,
          25328,
          25441,
          25534,
          25621,
          25714,
          25803,
          25886,
          25954,
          26019,
          26077,
          26158,
          26233,
          26303,
          26371,
          26438,
          26480,
          26538,
          26586,
          26637,
          26677,
          26719,
          26766,
          26813,
          26847,
          26876,
          26908,
          26944,
          26980,
          27005,
          27044,
          27076,
          27100,
          27124,
          27143,
          27159,
          27181,
          27198,
          27215,
          27228,
          27244,
          27264,
          27279,
          27293,
          27307,
          27325,
          27343,
          27354,
          27366,
          27377,
          27389,
          27401,
          27412,
          27419,
          27426,
          27434,
          27446
         ]
        },
        {
         "line": {
          "width": 5
         },
         "mode": "lines",
         "name": "Susceptible",
         "type": "scatter",
         "x": [
          0,
          1,
          2,
          3,
          4,
          5,
          6,
          7,
          8,
          9,
          10,
          11,
          12,
          13,
          14,
          15,
          16,
          17,
          18,
          19,
          20,
          21,
          22,
          23,
          24,
          25,
          26,
          27,
          28,
          29,
          30,
          31,
          32,
          33,
          34,
          35,
          36,
          37,
          38,
          39,
          40,
          41,
          42,
          43,
          44,
          45,
          46,
          47,
          48,
          49,
          50,
          51,
          52,
          53,
          54,
          55,
          56,
          57,
          58,
          59,
          60,
          61,
          62,
          63,
          64,
          65,
          66,
          67,
          68,
          69,
          70,
          71,
          72,
          73,
          74,
          75,
          76,
          77,
          78,
          79,
          80,
          81,
          82,
          83,
          84,
          85,
          86,
          87,
          88,
          89,
          90,
          91,
          92,
          93,
          94,
          95,
          96,
          97,
          98,
          99,
          100
         ],
         "y": [
          89999,
          89258,
          88593,
          87919,
          87276,
          86692,
          86060,
          85478,
          84900,
          84347,
          83850,
          83369,
          82878,
          82461,
          82019,
          81589,
          81198,
          80809,
          80461,
          80157,
          79825,
          79506,
          79187,
          78899,
          78628,
          78384,
          78115,
          77858,
          77602,
          77333,
          77108,
          76898,
          76699,
          76514,
          76312,
          76110,
          75939,
          75789,
          75645,
          75474,
          75337,
          75198,
          75051,
          74906,
          74782,
          74672,
          74559,
          74466,
          74379,
          74286,
          74197,
          74114,
          74046,
          73981,
          73923,
          73842,
          73767,
          73697,
          73629,
          73562,
          73520,
          73462,
          73414,
          73363,
          73323,
          73281,
          73234,
          73187,
          73153,
          73124,
          73092,
          73056,
          73020,
          72995,
          72956,
          72924,
          72900,
          72876,
          72857,
          72841,
          72819,
          72802,
          72785,
          72772,
          72756,
          72736,
          72721,
          72707,
          72693,
          72675,
          72657,
          72646,
          72634,
          72623,
          72611,
          72599,
          72588,
          72581,
          72574,
          72566,
          72554
         ]
        }
       ],
       "layout": {
        "legend": {
         "font": {
          "size": 18
         },
         "title": {
          "text": "Category"
         }
        },
        "template": {
         "data": {
          "bar": [
           {
            "error_x": {
             "color": "#2a3f5f"
            },
            "error_y": {
             "color": "#2a3f5f"
            },
            "marker": {
             "line": {
              "color": "#E5ECF6",
              "width": 0.5
             },
             "pattern": {
              "fillmode": "overlay",
              "size": 10,
              "solidity": 0.2
             }
            },
            "type": "bar"
           }
          ],
          "barpolar": [
           {
            "marker": {
             "line": {
              "color": "#E5ECF6",
              "width": 0.5
             },
             "pattern": {
              "fillmode": "overlay",
              "size": 10,
              "solidity": 0.2
             }
            },
            "type": "barpolar"
           }
          ],
          "carpet": [
           {
            "aaxis": {
             "endlinecolor": "#2a3f5f",
             "gridcolor": "white",
             "linecolor": "white",
             "minorgridcolor": "white",
             "startlinecolor": "#2a3f5f"
            },
            "baxis": {
             "endlinecolor": "#2a3f5f",
             "gridcolor": "white",
             "linecolor": "white",
             "minorgridcolor": "white",
             "startlinecolor": "#2a3f5f"
            },
            "type": "carpet"
           }
          ],
          "choropleth": [
           {
            "colorbar": {
             "outlinewidth": 0,
             "ticks": ""
            },
            "type": "choropleth"
           }
          ],
          "contour": [
           {
            "colorbar": {
             "outlinewidth": 0,
             "ticks": ""
            },
            "colorscale": [
             [
              0,
              "#0d0887"
             ],
             [
              0.1111111111111111,
              "#46039f"
             ],
             [
              0.2222222222222222,
              "#7201a8"
             ],
             [
              0.3333333333333333,
              "#9c179e"
             ],
             [
              0.4444444444444444,
              "#bd3786"
             ],
             [
              0.5555555555555556,
              "#d8576b"
             ],
             [
              0.6666666666666666,
              "#ed7953"
             ],
             [
              0.7777777777777778,
              "#fb9f3a"
             ],
             [
              0.8888888888888888,
              "#fdca26"
             ],
             [
              1,
              "#f0f921"
             ]
            ],
            "type": "contour"
           }
          ],
          "contourcarpet": [
           {
            "colorbar": {
             "outlinewidth": 0,
             "ticks": ""
            },
            "type": "contourcarpet"
           }
          ],
          "heatmap": [
           {
            "colorbar": {
             "outlinewidth": 0,
             "ticks": ""
            },
            "colorscale": [
             [
              0,
              "#0d0887"
             ],
             [
              0.1111111111111111,
              "#46039f"
             ],
             [
              0.2222222222222222,
              "#7201a8"
             ],
             [
              0.3333333333333333,
              "#9c179e"
             ],
             [
              0.4444444444444444,
              "#bd3786"
             ],
             [
              0.5555555555555556,
              "#d8576b"
             ],
             [
              0.6666666666666666,
              "#ed7953"
             ],
             [
              0.7777777777777778,
              "#fb9f3a"
             ],
             [
              0.8888888888888888,
              "#fdca26"
             ],
             [
              1,
              "#f0f921"
             ]
            ],
            "type": "heatmap"
           }
          ],
          "heatmapgl": [
           {
            "colorbar": {
             "outlinewidth": 0,
             "ticks": ""
            },
            "colorscale": [
             [
              0,
              "#0d0887"
             ],
             [
              0.1111111111111111,
              "#46039f"
             ],
             [
              0.2222222222222222,
              "#7201a8"
             ],
             [
              0.3333333333333333,
              "#9c179e"
             ],
             [
              0.4444444444444444,
              "#bd3786"
             ],
             [
              0.5555555555555556,
              "#d8576b"
             ],
             [
              0.6666666666666666,
              "#ed7953"
             ],
             [
              0.7777777777777778,
              "#fb9f3a"
             ],
             [
              0.8888888888888888,
              "#fdca26"
             ],
             [
              1,
              "#f0f921"
             ]
            ],
            "type": "heatmapgl"
           }
          ],
          "histogram": [
           {
            "marker": {
             "pattern": {
              "fillmode": "overlay",
              "size": 10,
              "solidity": 0.2
             }
            },
            "type": "histogram"
           }
          ],
          "histogram2d": [
           {
            "colorbar": {
             "outlinewidth": 0,
             "ticks": ""
            },
            "colorscale": [
             [
              0,
              "#0d0887"
             ],
             [
              0.1111111111111111,
              "#46039f"
             ],
             [
              0.2222222222222222,
              "#7201a8"
             ],
             [
              0.3333333333333333,
              "#9c179e"
             ],
             [
              0.4444444444444444,
              "#bd3786"
             ],
             [
              0.5555555555555556,
              "#d8576b"
             ],
             [
              0.6666666666666666,
              "#ed7953"
             ],
             [
              0.7777777777777778,
              "#fb9f3a"
             ],
             [
              0.8888888888888888,
              "#fdca26"
             ],
             [
              1,
              "#f0f921"
             ]
            ],
            "type": "histogram2d"
           }
          ],
          "histogram2dcontour": [
           {
            "colorbar": {
             "outlinewidth": 0,
             "ticks": ""
            },
            "colorscale": [
             [
              0,
              "#0d0887"
             ],
             [
              0.1111111111111111,
              "#46039f"
             ],
             [
              0.2222222222222222,
              "#7201a8"
             ],
             [
              0.3333333333333333,
              "#9c179e"
             ],
             [
              0.4444444444444444,
              "#bd3786"
             ],
             [
              0.5555555555555556,
              "#d8576b"
             ],
             [
              0.6666666666666666,
              "#ed7953"
             ],
             [
              0.7777777777777778,
              "#fb9f3a"
             ],
             [
              0.8888888888888888,
              "#fdca26"
             ],
             [
              1,
              "#f0f921"
             ]
            ],
            "type": "histogram2dcontour"
           }
          ],
          "mesh3d": [
           {
            "colorbar": {
             "outlinewidth": 0,
             "ticks": ""
            },
            "type": "mesh3d"
           }
          ],
          "parcoords": [
           {
            "line": {
             "colorbar": {
              "outlinewidth": 0,
              "ticks": ""
             }
            },
            "type": "parcoords"
           }
          ],
          "pie": [
           {
            "automargin": true,
            "type": "pie"
           }
          ],
          "scatter": [
           {
            "fillpattern": {
             "fillmode": "overlay",
             "size": 10,
             "solidity": 0.2
            },
            "type": "scatter"
           }
          ],
          "scatter3d": [
           {
            "line": {
             "colorbar": {
              "outlinewidth": 0,
              "ticks": ""
             }
            },
            "marker": {
             "colorbar": {
              "outlinewidth": 0,
              "ticks": ""
             }
            },
            "type": "scatter3d"
           }
          ],
          "scattercarpet": [
           {
            "marker": {
             "colorbar": {
              "outlinewidth": 0,
              "ticks": ""
             }
            },
            "type": "scattercarpet"
           }
          ],
          "scattergeo": [
           {
            "marker": {
             "colorbar": {
              "outlinewidth": 0,
              "ticks": ""
             }
            },
            "type": "scattergeo"
           }
          ],
          "scattergl": [
           {
            "marker": {
             "colorbar": {
              "outlinewidth": 0,
              "ticks": ""
             }
            },
            "type": "scattergl"
           }
          ],
          "scattermapbox": [
           {
            "marker": {
             "colorbar": {
              "outlinewidth": 0,
              "ticks": ""
             }
            },
            "type": "scattermapbox"
           }
          ],
          "scatterpolar": [
           {
            "marker": {
             "colorbar": {
              "outlinewidth": 0,
              "ticks": ""
             }
            },
            "type": "scatterpolar"
           }
          ],
          "scatterpolargl": [
           {
            "marker": {
             "colorbar": {
              "outlinewidth": 0,
              "ticks": ""
             }
            },
            "type": "scatterpolargl"
           }
          ],
          "scatterternary": [
           {
            "marker": {
             "colorbar": {
              "outlinewidth": 0,
              "ticks": ""
             }
            },
            "type": "scatterternary"
           }
          ],
          "surface": [
           {
            "colorbar": {
             "outlinewidth": 0,
             "ticks": ""
            },
            "colorscale": [
             [
              0,
              "#0d0887"
             ],
             [
              0.1111111111111111,
              "#46039f"
             ],
             [
              0.2222222222222222,
              "#7201a8"
             ],
             [
              0.3333333333333333,
              "#9c179e"
             ],
             [
              0.4444444444444444,
              "#bd3786"
             ],
             [
              0.5555555555555556,
              "#d8576b"
             ],
             [
              0.6666666666666666,
              "#ed7953"
             ],
             [
              0.7777777777777778,
              "#fb9f3a"
             ],
             [
              0.8888888888888888,
              "#fdca26"
             ],
             [
              1,
              "#f0f921"
             ]
            ],
            "type": "surface"
           }
          ],
          "table": [
           {
            "cells": {
             "fill": {
              "color": "#EBF0F8"
             },
             "line": {
              "color": "white"
             }
            },
            "header": {
             "fill": {
              "color": "#C8D4E3"
             },
             "line": {
              "color": "white"
             }
            },
            "type": "table"
           }
          ]
         },
         "layout": {
          "annotationdefaults": {
           "arrowcolor": "#2a3f5f",
           "arrowhead": 0,
           "arrowwidth": 1
          },
          "autotypenumbers": "strict",
          "coloraxis": {
           "colorbar": {
            "outlinewidth": 0,
            "ticks": ""
           }
          },
          "colorscale": {
           "diverging": [
            [
             0,
             "#8e0152"
            ],
            [
             0.1,
             "#c51b7d"
            ],
            [
             0.2,
             "#de77ae"
            ],
            [
             0.3,
             "#f1b6da"
            ],
            [
             0.4,
             "#fde0ef"
            ],
            [
             0.5,
             "#f7f7f7"
            ],
            [
             0.6,
             "#e6f5d0"
            ],
            [
             0.7,
             "#b8e186"
            ],
            [
             0.8,
             "#7fbc41"
            ],
            [
             0.9,
             "#4d9221"
            ],
            [
             1,
             "#276419"
            ]
           ],
           "sequential": [
            [
             0,
             "#0d0887"
            ],
            [
             0.1111111111111111,
             "#46039f"
            ],
            [
             0.2222222222222222,
             "#7201a8"
            ],
            [
             0.3333333333333333,
             "#9c179e"
            ],
            [
             0.4444444444444444,
             "#bd3786"
            ],
            [
             0.5555555555555556,
             "#d8576b"
            ],
            [
             0.6666666666666666,
             "#ed7953"
            ],
            [
             0.7777777777777778,
             "#fb9f3a"
            ],
            [
             0.8888888888888888,
             "#fdca26"
            ],
            [
             1,
             "#f0f921"
            ]
           ],
           "sequentialminus": [
            [
             0,
             "#0d0887"
            ],
            [
             0.1111111111111111,
             "#46039f"
            ],
            [
             0.2222222222222222,
             "#7201a8"
            ],
            [
             0.3333333333333333,
             "#9c179e"
            ],
            [
             0.4444444444444444,
             "#bd3786"
            ],
            [
             0.5555555555555556,
             "#d8576b"
            ],
            [
             0.6666666666666666,
             "#ed7953"
            ],
            [
             0.7777777777777778,
             "#fb9f3a"
            ],
            [
             0.8888888888888888,
             "#fdca26"
            ],
            [
             1,
             "#f0f921"
            ]
           ]
          },
          "colorway": [
           "#636efa",
           "#EF553B",
           "#00cc96",
           "#ab63fa",
           "#FFA15A",
           "#19d3f3",
           "#FF6692",
           "#B6E880",
           "#FF97FF",
           "#FECB52"
          ],
          "font": {
           "color": "#2a3f5f"
          },
          "geo": {
           "bgcolor": "white",
           "lakecolor": "white",
           "landcolor": "#E5ECF6",
           "showlakes": true,
           "showland": true,
           "subunitcolor": "white"
          },
          "hoverlabel": {
           "align": "left"
          },
          "hovermode": "closest",
          "mapbox": {
           "style": "light"
          },
          "paper_bgcolor": "white",
          "plot_bgcolor": "#E5ECF6",
          "polar": {
           "angularaxis": {
            "gridcolor": "white",
            "linecolor": "white",
            "ticks": ""
           },
           "bgcolor": "#E5ECF6",
           "radialaxis": {
            "gridcolor": "white",
            "linecolor": "white",
            "ticks": ""
           }
          },
          "scene": {
           "xaxis": {
            "backgroundcolor": "#E5ECF6",
            "gridcolor": "white",
            "gridwidth": 2,
            "linecolor": "white",
            "showbackground": true,
            "ticks": "",
            "zerolinecolor": "white"
           },
           "yaxis": {
            "backgroundcolor": "#E5ECF6",
            "gridcolor": "white",
            "gridwidth": 2,
            "linecolor": "white",
            "showbackground": true,
            "ticks": "",
            "zerolinecolor": "white"
           },
           "zaxis": {
            "backgroundcolor": "#E5ECF6",
            "gridcolor": "white",
            "gridwidth": 2,
            "linecolor": "white",
            "showbackground": true,
            "ticks": "",
            "zerolinecolor": "white"
           }
          },
          "shapedefaults": {
           "line": {
            "color": "#2a3f5f"
           }
          },
          "ternary": {
           "aaxis": {
            "gridcolor": "white",
            "linecolor": "white",
            "ticks": ""
           },
           "baxis": {
            "gridcolor": "white",
            "linecolor": "white",
            "ticks": ""
           },
           "bgcolor": "#E5ECF6",
           "caxis": {
            "gridcolor": "white",
            "linecolor": "white",
            "ticks": ""
           }
          },
          "title": {
           "x": 0.05
          },
          "xaxis": {
           "automargin": true,
           "gridcolor": "white",
           "linecolor": "white",
           "ticks": "",
           "title": {
            "standoff": 15
           },
           "zerolinecolor": "white",
           "zerolinewidth": 2
          },
          "yaxis": {
           "automargin": true,
           "gridcolor": "white",
           "linecolor": "white",
           "ticks": "",
           "title": {
            "standoff": 15
           },
           "zerolinecolor": "white",
           "zerolinewidth": 2
          }
         }
        },
        "title": {
         "font": {
          "size": 22
         },
         "text": "i:0.1, average k:0.8"
        },
        "xaxis": {
         "tickfont": {
          "size": 16
         },
         "title": {
          "font": {
           "size": 20
          },
          "text": "Time Step"
         }
        },
        "yaxis": {
         "tickfont": {
          "size": 16
         },
         "title": {
          "font": {
           "size": 20
          },
          "text": "Amount of People"
         }
        }
       }
      }
     },
     "metadata": {},
     "output_type": "display_data"
    }
   ],
   "source": [
    "titles = [f\"i:{case['i']}, average k:{case['average_k']}\" for case in cases]\n",
    "plot_cases_amount(cases, titles)"
   ]
  },
  {
   "cell_type": "code",
   "execution_count": 12,
   "id": "cea9af39",
   "metadata": {},
   "outputs": [
    {
     "data": {
      "application/vnd.plotly.v1+json": {
       "config": {
        "plotlyServerURL": "https://plot.ly"
       },
       "data": [
        {
         "name": "i:0.01, average k:5.0",
         "type": "bar",
         "width": 0.5,
         "x": [
          0,
          1,
          2,
          3,
          4,
          5,
          6,
          7,
          8,
          9,
          10,
          11,
          12,
          13,
          14,
          15,
          16,
          17,
          18,
          19,
          20,
          21,
          22,
          23,
          24,
          25,
          26,
          27,
          28,
          29,
          30,
          31,
          32,
          33,
          34,
          35,
          36,
          37,
          38,
          39,
          40,
          41,
          42,
          43,
          44,
          45,
          46,
          47,
          48,
          49,
          50,
          51,
          52,
          53,
          54,
          55,
          56,
          57,
          58,
          59,
          60,
          61,
          62,
          63,
          64,
          65,
          66,
          67,
          68,
          69,
          70,
          71,
          72,
          73,
          74,
          75,
          76,
          77,
          78,
          79,
          80,
          81,
          82,
          83,
          84,
          85,
          86,
          87,
          88,
          89,
          90,
          91,
          92,
          93,
          94,
          95,
          96,
          97,
          98,
          99,
          100
         ],
         "y": [
          0.1,
          0.1,
          0.11,
          0.11,
          0.12,
          0.13,
          0.13,
          0.14,
          0.14,
          0.15,
          0.15,
          0.16,
          0.17,
          0.17,
          0.18,
          0.18,
          0.19,
          0.2,
          0.21,
          0.21,
          0.22,
          0.23,
          0.24,
          0.24,
          0.25,
          0.26,
          0.27,
          0.28,
          0.28,
          0.29,
          0.3,
          0.31,
          0.32,
          0.33,
          0.34,
          0.35,
          0.36,
          0.36,
          0.37,
          0.38,
          0.39,
          0.4,
          0.41,
          0.42,
          0.43,
          0.44,
          0.45,
          0.46,
          0.47,
          0.48,
          0.49,
          0.5,
          0.51,
          0.52,
          0.53,
          0.54,
          0.55,
          0.56,
          0.57,
          0.58,
          0.58,
          0.59,
          0.6,
          0.61,
          0.62,
          0.63,
          0.64,
          0.65,
          0.65,
          0.66,
          0.67,
          0.68,
          0.69,
          0.69,
          0.7,
          0.71,
          0.71,
          0.72,
          0.73,
          0.73,
          0.74,
          0.75,
          0.75,
          0.76,
          0.77,
          0.77,
          0.78,
          0.78,
          0.79,
          0.79,
          0.8,
          0.8,
          0.81,
          0.81,
          0.82,
          0.82,
          0.83,
          0.83,
          0.84,
          0.84,
          0.84
         ]
        },
        {
         "name": "i:0.1, average k:0.8",
         "type": "bar",
         "width": 0.5,
         "x": [
          0,
          1,
          2,
          3,
          4,
          5,
          6,
          7,
          8,
          9,
          10,
          11,
          12,
          13,
          14,
          15,
          16,
          17,
          18,
          19,
          20,
          21,
          22,
          23,
          24,
          25,
          26,
          27,
          28,
          29,
          30,
          31,
          32,
          33,
          34,
          35,
          36,
          37,
          38,
          39,
          40,
          41,
          42,
          43,
          44,
          45,
          46,
          47,
          48,
          49,
          50,
          51,
          52,
          53,
          54,
          55,
          56,
          57,
          58,
          59,
          60,
          61,
          62,
          63,
          64,
          65,
          66,
          67,
          68,
          69,
          70,
          71,
          72,
          73,
          74,
          75,
          76,
          77,
          78,
          79,
          80,
          81,
          82,
          83,
          84,
          85,
          86,
          87,
          88,
          89,
          90,
          91,
          92,
          93,
          94,
          95,
          96,
          97,
          98,
          99,
          100
         ],
         "y": [
          0.1,
          0.11,
          0.11,
          0.12,
          0.13,
          0.13,
          0.14,
          0.15,
          0.15,
          0.16,
          0.16,
          0.17,
          0.17,
          0.18,
          0.18,
          0.18,
          0.19,
          0.19,
          0.2,
          0.2,
          0.2,
          0.2,
          0.21,
          0.21,
          0.21,
          0.22,
          0.22,
          0.22,
          0.22,
          0.23,
          0.23,
          0.23,
          0.23,
          0.23,
          0.24,
          0.24,
          0.24,
          0.24,
          0.24,
          0.25,
          0.25,
          0.25,
          0.25,
          0.25,
          0.25,
          0.25,
          0.25,
          0.26,
          0.26,
          0.26,
          0.26,
          0.26,
          0.26,
          0.26,
          0.26,
          0.26,
          0.26,
          0.26,
          0.26,
          0.26,
          0.26,
          0.27,
          0.27,
          0.27,
          0.27,
          0.27,
          0.27,
          0.27,
          0.27,
          0.27,
          0.27,
          0.27,
          0.27,
          0.27,
          0.27,
          0.27,
          0.27,
          0.27,
          0.27,
          0.27,
          0.27,
          0.27,
          0.27,
          0.27,
          0.27,
          0.27,
          0.27,
          0.27,
          0.27,
          0.27,
          0.27,
          0.27,
          0.27,
          0.27,
          0.27,
          0.27,
          0.27,
          0.27,
          0.27,
          0.27,
          0.27
         ]
        }
       ],
       "layout": {
        "legend": {
         "font": {
          "size": 18
         },
         "title": {
          "text": "Category"
         }
        },
        "template": {
         "data": {
          "bar": [
           {
            "error_x": {
             "color": "#2a3f5f"
            },
            "error_y": {
             "color": "#2a3f5f"
            },
            "marker": {
             "line": {
              "color": "#E5ECF6",
              "width": 0.5
             },
             "pattern": {
              "fillmode": "overlay",
              "size": 10,
              "solidity": 0.2
             }
            },
            "type": "bar"
           }
          ],
          "barpolar": [
           {
            "marker": {
             "line": {
              "color": "#E5ECF6",
              "width": 0.5
             },
             "pattern": {
              "fillmode": "overlay",
              "size": 10,
              "solidity": 0.2
             }
            },
            "type": "barpolar"
           }
          ],
          "carpet": [
           {
            "aaxis": {
             "endlinecolor": "#2a3f5f",
             "gridcolor": "white",
             "linecolor": "white",
             "minorgridcolor": "white",
             "startlinecolor": "#2a3f5f"
            },
            "baxis": {
             "endlinecolor": "#2a3f5f",
             "gridcolor": "white",
             "linecolor": "white",
             "minorgridcolor": "white",
             "startlinecolor": "#2a3f5f"
            },
            "type": "carpet"
           }
          ],
          "choropleth": [
           {
            "colorbar": {
             "outlinewidth": 0,
             "ticks": ""
            },
            "type": "choropleth"
           }
          ],
          "contour": [
           {
            "colorbar": {
             "outlinewidth": 0,
             "ticks": ""
            },
            "colorscale": [
             [
              0,
              "#0d0887"
             ],
             [
              0.1111111111111111,
              "#46039f"
             ],
             [
              0.2222222222222222,
              "#7201a8"
             ],
             [
              0.3333333333333333,
              "#9c179e"
             ],
             [
              0.4444444444444444,
              "#bd3786"
             ],
             [
              0.5555555555555556,
              "#d8576b"
             ],
             [
              0.6666666666666666,
              "#ed7953"
             ],
             [
              0.7777777777777778,
              "#fb9f3a"
             ],
             [
              0.8888888888888888,
              "#fdca26"
             ],
             [
              1,
              "#f0f921"
             ]
            ],
            "type": "contour"
           }
          ],
          "contourcarpet": [
           {
            "colorbar": {
             "outlinewidth": 0,
             "ticks": ""
            },
            "type": "contourcarpet"
           }
          ],
          "heatmap": [
           {
            "colorbar": {
             "outlinewidth": 0,
             "ticks": ""
            },
            "colorscale": [
             [
              0,
              "#0d0887"
             ],
             [
              0.1111111111111111,
              "#46039f"
             ],
             [
              0.2222222222222222,
              "#7201a8"
             ],
             [
              0.3333333333333333,
              "#9c179e"
             ],
             [
              0.4444444444444444,
              "#bd3786"
             ],
             [
              0.5555555555555556,
              "#d8576b"
             ],
             [
              0.6666666666666666,
              "#ed7953"
             ],
             [
              0.7777777777777778,
              "#fb9f3a"
             ],
             [
              0.8888888888888888,
              "#fdca26"
             ],
             [
              1,
              "#f0f921"
             ]
            ],
            "type": "heatmap"
           }
          ],
          "heatmapgl": [
           {
            "colorbar": {
             "outlinewidth": 0,
             "ticks": ""
            },
            "colorscale": [
             [
              0,
              "#0d0887"
             ],
             [
              0.1111111111111111,
              "#46039f"
             ],
             [
              0.2222222222222222,
              "#7201a8"
             ],
             [
              0.3333333333333333,
              "#9c179e"
             ],
             [
              0.4444444444444444,
              "#bd3786"
             ],
             [
              0.5555555555555556,
              "#d8576b"
             ],
             [
              0.6666666666666666,
              "#ed7953"
             ],
             [
              0.7777777777777778,
              "#fb9f3a"
             ],
             [
              0.8888888888888888,
              "#fdca26"
             ],
             [
              1,
              "#f0f921"
             ]
            ],
            "type": "heatmapgl"
           }
          ],
          "histogram": [
           {
            "marker": {
             "pattern": {
              "fillmode": "overlay",
              "size": 10,
              "solidity": 0.2
             }
            },
            "type": "histogram"
           }
          ],
          "histogram2d": [
           {
            "colorbar": {
             "outlinewidth": 0,
             "ticks": ""
            },
            "colorscale": [
             [
              0,
              "#0d0887"
             ],
             [
              0.1111111111111111,
              "#46039f"
             ],
             [
              0.2222222222222222,
              "#7201a8"
             ],
             [
              0.3333333333333333,
              "#9c179e"
             ],
             [
              0.4444444444444444,
              "#bd3786"
             ],
             [
              0.5555555555555556,
              "#d8576b"
             ],
             [
              0.6666666666666666,
              "#ed7953"
             ],
             [
              0.7777777777777778,
              "#fb9f3a"
             ],
             [
              0.8888888888888888,
              "#fdca26"
             ],
             [
              1,
              "#f0f921"
             ]
            ],
            "type": "histogram2d"
           }
          ],
          "histogram2dcontour": [
           {
            "colorbar": {
             "outlinewidth": 0,
             "ticks": ""
            },
            "colorscale": [
             [
              0,
              "#0d0887"
             ],
             [
              0.1111111111111111,
              "#46039f"
             ],
             [
              0.2222222222222222,
              "#7201a8"
             ],
             [
              0.3333333333333333,
              "#9c179e"
             ],
             [
              0.4444444444444444,
              "#bd3786"
             ],
             [
              0.5555555555555556,
              "#d8576b"
             ],
             [
              0.6666666666666666,
              "#ed7953"
             ],
             [
              0.7777777777777778,
              "#fb9f3a"
             ],
             [
              0.8888888888888888,
              "#fdca26"
             ],
             [
              1,
              "#f0f921"
             ]
            ],
            "type": "histogram2dcontour"
           }
          ],
          "mesh3d": [
           {
            "colorbar": {
             "outlinewidth": 0,
             "ticks": ""
            },
            "type": "mesh3d"
           }
          ],
          "parcoords": [
           {
            "line": {
             "colorbar": {
              "outlinewidth": 0,
              "ticks": ""
             }
            },
            "type": "parcoords"
           }
          ],
          "pie": [
           {
            "automargin": true,
            "type": "pie"
           }
          ],
          "scatter": [
           {
            "fillpattern": {
             "fillmode": "overlay",
             "size": 10,
             "solidity": 0.2
            },
            "type": "scatter"
           }
          ],
          "scatter3d": [
           {
            "line": {
             "colorbar": {
              "outlinewidth": 0,
              "ticks": ""
             }
            },
            "marker": {
             "colorbar": {
              "outlinewidth": 0,
              "ticks": ""
             }
            },
            "type": "scatter3d"
           }
          ],
          "scattercarpet": [
           {
            "marker": {
             "colorbar": {
              "outlinewidth": 0,
              "ticks": ""
             }
            },
            "type": "scattercarpet"
           }
          ],
          "scattergeo": [
           {
            "marker": {
             "colorbar": {
              "outlinewidth": 0,
              "ticks": ""
             }
            },
            "type": "scattergeo"
           }
          ],
          "scattergl": [
           {
            "marker": {
             "colorbar": {
              "outlinewidth": 0,
              "ticks": ""
             }
            },
            "type": "scattergl"
           }
          ],
          "scattermapbox": [
           {
            "marker": {
             "colorbar": {
              "outlinewidth": 0,
              "ticks": ""
             }
            },
            "type": "scattermapbox"
           }
          ],
          "scatterpolar": [
           {
            "marker": {
             "colorbar": {
              "outlinewidth": 0,
              "ticks": ""
             }
            },
            "type": "scatterpolar"
           }
          ],
          "scatterpolargl": [
           {
            "marker": {
             "colorbar": {
              "outlinewidth": 0,
              "ticks": ""
             }
            },
            "type": "scatterpolargl"
           }
          ],
          "scatterternary": [
           {
            "marker": {
             "colorbar": {
              "outlinewidth": 0,
              "ticks": ""
             }
            },
            "type": "scatterternary"
           }
          ],
          "surface": [
           {
            "colorbar": {
             "outlinewidth": 0,
             "ticks": ""
            },
            "colorscale": [
             [
              0,
              "#0d0887"
             ],
             [
              0.1111111111111111,
              "#46039f"
             ],
             [
              0.2222222222222222,
              "#7201a8"
             ],
             [
              0.3333333333333333,
              "#9c179e"
             ],
             [
              0.4444444444444444,
              "#bd3786"
             ],
             [
              0.5555555555555556,
              "#d8576b"
             ],
             [
              0.6666666666666666,
              "#ed7953"
             ],
             [
              0.7777777777777778,
              "#fb9f3a"
             ],
             [
              0.8888888888888888,
              "#fdca26"
             ],
             [
              1,
              "#f0f921"
             ]
            ],
            "type": "surface"
           }
          ],
          "table": [
           {
            "cells": {
             "fill": {
              "color": "#EBF0F8"
             },
             "line": {
              "color": "white"
             }
            },
            "header": {
             "fill": {
              "color": "#C8D4E3"
             },
             "line": {
              "color": "white"
             }
            },
            "type": "table"
           }
          ]
         },
         "layout": {
          "annotationdefaults": {
           "arrowcolor": "#2a3f5f",
           "arrowhead": 0,
           "arrowwidth": 1
          },
          "autotypenumbers": "strict",
          "coloraxis": {
           "colorbar": {
            "outlinewidth": 0,
            "ticks": ""
           }
          },
          "colorscale": {
           "diverging": [
            [
             0,
             "#8e0152"
            ],
            [
             0.1,
             "#c51b7d"
            ],
            [
             0.2,
             "#de77ae"
            ],
            [
             0.3,
             "#f1b6da"
            ],
            [
             0.4,
             "#fde0ef"
            ],
            [
             0.5,
             "#f7f7f7"
            ],
            [
             0.6,
             "#e6f5d0"
            ],
            [
             0.7,
             "#b8e186"
            ],
            [
             0.8,
             "#7fbc41"
            ],
            [
             0.9,
             "#4d9221"
            ],
            [
             1,
             "#276419"
            ]
           ],
           "sequential": [
            [
             0,
             "#0d0887"
            ],
            [
             0.1111111111111111,
             "#46039f"
            ],
            [
             0.2222222222222222,
             "#7201a8"
            ],
            [
             0.3333333333333333,
             "#9c179e"
            ],
            [
             0.4444444444444444,
             "#bd3786"
            ],
            [
             0.5555555555555556,
             "#d8576b"
            ],
            [
             0.6666666666666666,
             "#ed7953"
            ],
            [
             0.7777777777777778,
             "#fb9f3a"
            ],
            [
             0.8888888888888888,
             "#fdca26"
            ],
            [
             1,
             "#f0f921"
            ]
           ],
           "sequentialminus": [
            [
             0,
             "#0d0887"
            ],
            [
             0.1111111111111111,
             "#46039f"
            ],
            [
             0.2222222222222222,
             "#7201a8"
            ],
            [
             0.3333333333333333,
             "#9c179e"
            ],
            [
             0.4444444444444444,
             "#bd3786"
            ],
            [
             0.5555555555555556,
             "#d8576b"
            ],
            [
             0.6666666666666666,
             "#ed7953"
            ],
            [
             0.7777777777777778,
             "#fb9f3a"
            ],
            [
             0.8888888888888888,
             "#fdca26"
            ],
            [
             1,
             "#f0f921"
            ]
           ]
          },
          "colorway": [
           "#636efa",
           "#EF553B",
           "#00cc96",
           "#ab63fa",
           "#FFA15A",
           "#19d3f3",
           "#FF6692",
           "#B6E880",
           "#FF97FF",
           "#FECB52"
          ],
          "font": {
           "color": "#2a3f5f"
          },
          "geo": {
           "bgcolor": "white",
           "lakecolor": "white",
           "landcolor": "#E5ECF6",
           "showlakes": true,
           "showland": true,
           "subunitcolor": "white"
          },
          "hoverlabel": {
           "align": "left"
          },
          "hovermode": "closest",
          "mapbox": {
           "style": "light"
          },
          "paper_bgcolor": "white",
          "plot_bgcolor": "#E5ECF6",
          "polar": {
           "angularaxis": {
            "gridcolor": "white",
            "linecolor": "white",
            "ticks": ""
           },
           "bgcolor": "#E5ECF6",
           "radialaxis": {
            "gridcolor": "white",
            "linecolor": "white",
            "ticks": ""
           }
          },
          "scene": {
           "xaxis": {
            "backgroundcolor": "#E5ECF6",
            "gridcolor": "white",
            "gridwidth": 2,
            "linecolor": "white",
            "showbackground": true,
            "ticks": "",
            "zerolinecolor": "white"
           },
           "yaxis": {
            "backgroundcolor": "#E5ECF6",
            "gridcolor": "white",
            "gridwidth": 2,
            "linecolor": "white",
            "showbackground": true,
            "ticks": "",
            "zerolinecolor": "white"
           },
           "zaxis": {
            "backgroundcolor": "#E5ECF6",
            "gridcolor": "white",
            "gridwidth": 2,
            "linecolor": "white",
            "showbackground": true,
            "ticks": "",
            "zerolinecolor": "white"
           }
          },
          "shapedefaults": {
           "line": {
            "color": "#2a3f5f"
           }
          },
          "ternary": {
           "aaxis": {
            "gridcolor": "white",
            "linecolor": "white",
            "ticks": ""
           },
           "baxis": {
            "gridcolor": "white",
            "linecolor": "white",
            "ticks": ""
           },
           "bgcolor": "#E5ECF6",
           "caxis": {
            "gridcolor": "white",
            "linecolor": "white",
            "ticks": ""
           }
          },
          "title": {
           "x": 0.05
          },
          "xaxis": {
           "automargin": true,
           "gridcolor": "white",
           "linecolor": "white",
           "ticks": "",
           "title": {
            "standoff": 15
           },
           "zerolinecolor": "white",
           "zerolinewidth": 2
          },
          "yaxis": {
           "automargin": true,
           "gridcolor": "white",
           "linecolor": "white",
           "ticks": "",
           "title": {
            "standoff": 15
           },
           "zerolinecolor": "white",
           "zerolinewidth": 2
          }
         }
        },
        "title": {
         "font": {
          "size": 22
         },
         "text": "Fraction of Infected Nodes over Time"
        },
        "xaxis": {
         "tickfont": {
          "size": 16
         },
         "title": {
          "font": {
           "size": 20
          },
          "text": "Time Step"
         }
        },
        "yaxis": {
         "tickfont": {
          "size": 16
         },
         "title": {
          "font": {
           "size": 20
          },
          "text": "Fraction of Infected Nodes (I/N)"
         }
        }
       }
      }
     },
     "metadata": {},
     "output_type": "display_data"
    }
   ],
   "source": [
    "titles = {\n",
    "    'case_value': [f\"i:{case['i']}, average k:{case['average_k']}\" for case in cases],\n",
    "    'fig_title': \"Fraction of Infected Nodes over Time\",\n",
    "    'x': \"Time Step\",\n",
    "    'y': \"Fraction of Infected Nodes (I/N)\"\n",
    "}\n",
    "plot_array(cases, titles, base='infected_fractions')"
   ]
  },
  {
   "cell_type": "code",
   "execution_count": 13,
   "id": "e051bcc3",
   "metadata": {},
   "outputs": [
    {
     "data": {
      "application/vnd.plotly.v1+json": {
       "config": {
        "plotlyServerURL": "https://plot.ly"
       },
       "data": [
        {
         "name": "i:0.01, average k:5.0",
         "type": "bar",
         "width": 0.5,
         "x": [
          0,
          1,
          2,
          3,
          4,
          5,
          6,
          7,
          8,
          9,
          10,
          11,
          12,
          13,
          14,
          15,
          16,
          17,
          18,
          19,
          20,
          21,
          22,
          23,
          24,
          25,
          26,
          27,
          28,
          29,
          30,
          31,
          32,
          33,
          34,
          35,
          36,
          37,
          38,
          39,
          40,
          41,
          42,
          43,
          44,
          45,
          46,
          47,
          48,
          49,
          50,
          51,
          52,
          53,
          54,
          55,
          56,
          57,
          58,
          59,
          60,
          61,
          62,
          63,
          64,
          65,
          66,
          67,
          68,
          69,
          70,
          71,
          72,
          73,
          74,
          75,
          76,
          77,
          78,
          79,
          80,
          81,
          82,
          83,
          84,
          85,
          86,
          87,
          88,
          89,
          90,
          91,
          92,
          93,
          94,
          95,
          96,
          97,
          98,
          99
         ],
         "y": [
          0.04,
          0.04,
          0.05,
          0.05,
          0.04,
          0.05,
          0.04,
          0.04,
          0.04,
          0.04,
          0.04,
          0.04,
          0.04,
          0.04,
          0.04,
          0.04,
          0.04,
          0.04,
          0.04,
          0.04,
          0.03,
          0.03,
          0.03,
          0.03,
          0.03,
          0.03,
          0.03,
          0.03,
          0.03,
          0.03,
          0.03,
          0.03,
          0.03,
          0.03,
          0.03,
          0.03,
          0.03,
          0.03,
          0.03,
          0.03,
          0.02,
          0.02,
          0.02,
          0.02,
          0.02,
          0.02,
          0.02,
          0.02,
          0.02,
          0.02,
          0.02,
          0.02,
          0.02,
          0.02,
          0.02,
          0.02,
          0.02,
          0.02,
          0.02,
          0.02,
          0.02,
          0.02,
          0.02,
          0.01,
          0.02,
          0.01,
          0.01,
          0.01,
          0.01,
          0.01,
          0.01,
          0.01,
          0.01,
          0.01,
          0.01,
          0.01,
          0.01,
          0.01,
          0.01,
          0.01,
          0.01,
          0.01,
          0.01,
          0.01,
          0.01,
          0.01,
          0.01,
          0.01,
          0.01,
          0.01,
          0.01,
          0.01,
          0.01,
          0.01,
          0.01,
          0.01,
          0.01,
          0.01,
          0.01,
          0.01
         ]
        },
        {
         "name": "i:0.1, average k:0.8",
         "type": "bar",
         "width": 0.5,
         "x": [
          0,
          1,
          2,
          3,
          4,
          5,
          6,
          7,
          8,
          9,
          10,
          11,
          12,
          13,
          14,
          15,
          16,
          17,
          18,
          19,
          20,
          21,
          22,
          23,
          24,
          25,
          26,
          27,
          28,
          29,
          30,
          31,
          32,
          33,
          34,
          35,
          36,
          37,
          38,
          39,
          40,
          41,
          42,
          43,
          44,
          45,
          46,
          47,
          48,
          49,
          50,
          51,
          52,
          53,
          54,
          55,
          56,
          57,
          58,
          59,
          60,
          61,
          62,
          63,
          64,
          65,
          66,
          67,
          68,
          69,
          70,
          71,
          72,
          73,
          74,
          75,
          76,
          77,
          78,
          79,
          80,
          81,
          82,
          83,
          84,
          85,
          86,
          87,
          88,
          89,
          90,
          91,
          92,
          93,
          94,
          95,
          96,
          97,
          98,
          99
         ],
         "y": [
          0.07,
          0.07,
          0.06,
          0.06,
          0.05,
          0.05,
          0.05,
          0.04,
          0.04,
          0.04,
          0.03,
          0.03,
          0.03,
          0.02,
          0.03,
          0.02,
          0.02,
          0.02,
          0.02,
          0.02,
          0.02,
          0.02,
          0.02,
          0.01,
          0.01,
          0.01,
          0.01,
          0.01,
          0.01,
          0.01,
          0.01,
          0.01,
          0.01,
          0.01,
          0.01,
          0.01,
          0.01,
          0.01,
          0.01,
          0.01,
          0.01,
          0.01,
          0.01,
          0.01,
          0,
          0,
          0,
          0,
          0,
          0,
          0,
          0,
          0,
          0,
          0,
          0,
          0,
          0,
          0,
          0,
          0,
          0,
          0,
          0,
          0,
          0,
          0,
          0,
          0,
          0,
          0,
          0,
          0,
          0,
          0,
          0,
          0,
          0,
          0,
          0,
          0,
          0,
          0,
          0,
          0,
          0,
          0,
          0,
          0,
          0,
          0,
          0,
          0,
          0,
          0,
          0,
          0,
          0,
          0,
          0
         ]
        }
       ],
       "layout": {
        "legend": {
         "font": {
          "size": 18
         },
         "title": {
          "text": "Category"
         }
        },
        "template": {
         "data": {
          "bar": [
           {
            "error_x": {
             "color": "#2a3f5f"
            },
            "error_y": {
             "color": "#2a3f5f"
            },
            "marker": {
             "line": {
              "color": "#E5ECF6",
              "width": 0.5
             },
             "pattern": {
              "fillmode": "overlay",
              "size": 10,
              "solidity": 0.2
             }
            },
            "type": "bar"
           }
          ],
          "barpolar": [
           {
            "marker": {
             "line": {
              "color": "#E5ECF6",
              "width": 0.5
             },
             "pattern": {
              "fillmode": "overlay",
              "size": 10,
              "solidity": 0.2
             }
            },
            "type": "barpolar"
           }
          ],
          "carpet": [
           {
            "aaxis": {
             "endlinecolor": "#2a3f5f",
             "gridcolor": "white",
             "linecolor": "white",
             "minorgridcolor": "white",
             "startlinecolor": "#2a3f5f"
            },
            "baxis": {
             "endlinecolor": "#2a3f5f",
             "gridcolor": "white",
             "linecolor": "white",
             "minorgridcolor": "white",
             "startlinecolor": "#2a3f5f"
            },
            "type": "carpet"
           }
          ],
          "choropleth": [
           {
            "colorbar": {
             "outlinewidth": 0,
             "ticks": ""
            },
            "type": "choropleth"
           }
          ],
          "contour": [
           {
            "colorbar": {
             "outlinewidth": 0,
             "ticks": ""
            },
            "colorscale": [
             [
              0,
              "#0d0887"
             ],
             [
              0.1111111111111111,
              "#46039f"
             ],
             [
              0.2222222222222222,
              "#7201a8"
             ],
             [
              0.3333333333333333,
              "#9c179e"
             ],
             [
              0.4444444444444444,
              "#bd3786"
             ],
             [
              0.5555555555555556,
              "#d8576b"
             ],
             [
              0.6666666666666666,
              "#ed7953"
             ],
             [
              0.7777777777777778,
              "#fb9f3a"
             ],
             [
              0.8888888888888888,
              "#fdca26"
             ],
             [
              1,
              "#f0f921"
             ]
            ],
            "type": "contour"
           }
          ],
          "contourcarpet": [
           {
            "colorbar": {
             "outlinewidth": 0,
             "ticks": ""
            },
            "type": "contourcarpet"
           }
          ],
          "heatmap": [
           {
            "colorbar": {
             "outlinewidth": 0,
             "ticks": ""
            },
            "colorscale": [
             [
              0,
              "#0d0887"
             ],
             [
              0.1111111111111111,
              "#46039f"
             ],
             [
              0.2222222222222222,
              "#7201a8"
             ],
             [
              0.3333333333333333,
              "#9c179e"
             ],
             [
              0.4444444444444444,
              "#bd3786"
             ],
             [
              0.5555555555555556,
              "#d8576b"
             ],
             [
              0.6666666666666666,
              "#ed7953"
             ],
             [
              0.7777777777777778,
              "#fb9f3a"
             ],
             [
              0.8888888888888888,
              "#fdca26"
             ],
             [
              1,
              "#f0f921"
             ]
            ],
            "type": "heatmap"
           }
          ],
          "heatmapgl": [
           {
            "colorbar": {
             "outlinewidth": 0,
             "ticks": ""
            },
            "colorscale": [
             [
              0,
              "#0d0887"
             ],
             [
              0.1111111111111111,
              "#46039f"
             ],
             [
              0.2222222222222222,
              "#7201a8"
             ],
             [
              0.3333333333333333,
              "#9c179e"
             ],
             [
              0.4444444444444444,
              "#bd3786"
             ],
             [
              0.5555555555555556,
              "#d8576b"
             ],
             [
              0.6666666666666666,
              "#ed7953"
             ],
             [
              0.7777777777777778,
              "#fb9f3a"
             ],
             [
              0.8888888888888888,
              "#fdca26"
             ],
             [
              1,
              "#f0f921"
             ]
            ],
            "type": "heatmapgl"
           }
          ],
          "histogram": [
           {
            "marker": {
             "pattern": {
              "fillmode": "overlay",
              "size": 10,
              "solidity": 0.2
             }
            },
            "type": "histogram"
           }
          ],
          "histogram2d": [
           {
            "colorbar": {
             "outlinewidth": 0,
             "ticks": ""
            },
            "colorscale": [
             [
              0,
              "#0d0887"
             ],
             [
              0.1111111111111111,
              "#46039f"
             ],
             [
              0.2222222222222222,
              "#7201a8"
             ],
             [
              0.3333333333333333,
              "#9c179e"
             ],
             [
              0.4444444444444444,
              "#bd3786"
             ],
             [
              0.5555555555555556,
              "#d8576b"
             ],
             [
              0.6666666666666666,
              "#ed7953"
             ],
             [
              0.7777777777777778,
              "#fb9f3a"
             ],
             [
              0.8888888888888888,
              "#fdca26"
             ],
             [
              1,
              "#f0f921"
             ]
            ],
            "type": "histogram2d"
           }
          ],
          "histogram2dcontour": [
           {
            "colorbar": {
             "outlinewidth": 0,
             "ticks": ""
            },
            "colorscale": [
             [
              0,
              "#0d0887"
             ],
             [
              0.1111111111111111,
              "#46039f"
             ],
             [
              0.2222222222222222,
              "#7201a8"
             ],
             [
              0.3333333333333333,
              "#9c179e"
             ],
             [
              0.4444444444444444,
              "#bd3786"
             ],
             [
              0.5555555555555556,
              "#d8576b"
             ],
             [
              0.6666666666666666,
              "#ed7953"
             ],
             [
              0.7777777777777778,
              "#fb9f3a"
             ],
             [
              0.8888888888888888,
              "#fdca26"
             ],
             [
              1,
              "#f0f921"
             ]
            ],
            "type": "histogram2dcontour"
           }
          ],
          "mesh3d": [
           {
            "colorbar": {
             "outlinewidth": 0,
             "ticks": ""
            },
            "type": "mesh3d"
           }
          ],
          "parcoords": [
           {
            "line": {
             "colorbar": {
              "outlinewidth": 0,
              "ticks": ""
             }
            },
            "type": "parcoords"
           }
          ],
          "pie": [
           {
            "automargin": true,
            "type": "pie"
           }
          ],
          "scatter": [
           {
            "fillpattern": {
             "fillmode": "overlay",
             "size": 10,
             "solidity": 0.2
            },
            "type": "scatter"
           }
          ],
          "scatter3d": [
           {
            "line": {
             "colorbar": {
              "outlinewidth": 0,
              "ticks": ""
             }
            },
            "marker": {
             "colorbar": {
              "outlinewidth": 0,
              "ticks": ""
             }
            },
            "type": "scatter3d"
           }
          ],
          "scattercarpet": [
           {
            "marker": {
             "colorbar": {
              "outlinewidth": 0,
              "ticks": ""
             }
            },
            "type": "scattercarpet"
           }
          ],
          "scattergeo": [
           {
            "marker": {
             "colorbar": {
              "outlinewidth": 0,
              "ticks": ""
             }
            },
            "type": "scattergeo"
           }
          ],
          "scattergl": [
           {
            "marker": {
             "colorbar": {
              "outlinewidth": 0,
              "ticks": ""
             }
            },
            "type": "scattergl"
           }
          ],
          "scattermapbox": [
           {
            "marker": {
             "colorbar": {
              "outlinewidth": 0,
              "ticks": ""
             }
            },
            "type": "scattermapbox"
           }
          ],
          "scatterpolar": [
           {
            "marker": {
             "colorbar": {
              "outlinewidth": 0,
              "ticks": ""
             }
            },
            "type": "scatterpolar"
           }
          ],
          "scatterpolargl": [
           {
            "marker": {
             "colorbar": {
              "outlinewidth": 0,
              "ticks": ""
             }
            },
            "type": "scatterpolargl"
           }
          ],
          "scatterternary": [
           {
            "marker": {
             "colorbar": {
              "outlinewidth": 0,
              "ticks": ""
             }
            },
            "type": "scatterternary"
           }
          ],
          "surface": [
           {
            "colorbar": {
             "outlinewidth": 0,
             "ticks": ""
            },
            "colorscale": [
             [
              0,
              "#0d0887"
             ],
             [
              0.1111111111111111,
              "#46039f"
             ],
             [
              0.2222222222222222,
              "#7201a8"
             ],
             [
              0.3333333333333333,
              "#9c179e"
             ],
             [
              0.4444444444444444,
              "#bd3786"
             ],
             [
              0.5555555555555556,
              "#d8576b"
             ],
             [
              0.6666666666666666,
              "#ed7953"
             ],
             [
              0.7777777777777778,
              "#fb9f3a"
             ],
             [
              0.8888888888888888,
              "#fdca26"
             ],
             [
              1,
              "#f0f921"
             ]
            ],
            "type": "surface"
           }
          ],
          "table": [
           {
            "cells": {
             "fill": {
              "color": "#EBF0F8"
             },
             "line": {
              "color": "white"
             }
            },
            "header": {
             "fill": {
              "color": "#C8D4E3"
             },
             "line": {
              "color": "white"
             }
            },
            "type": "table"
           }
          ]
         },
         "layout": {
          "annotationdefaults": {
           "arrowcolor": "#2a3f5f",
           "arrowhead": 0,
           "arrowwidth": 1
          },
          "autotypenumbers": "strict",
          "coloraxis": {
           "colorbar": {
            "outlinewidth": 0,
            "ticks": ""
           }
          },
          "colorscale": {
           "diverging": [
            [
             0,
             "#8e0152"
            ],
            [
             0.1,
             "#c51b7d"
            ],
            [
             0.2,
             "#de77ae"
            ],
            [
             0.3,
             "#f1b6da"
            ],
            [
             0.4,
             "#fde0ef"
            ],
            [
             0.5,
             "#f7f7f7"
            ],
            [
             0.6,
             "#e6f5d0"
            ],
            [
             0.7,
             "#b8e186"
            ],
            [
             0.8,
             "#7fbc41"
            ],
            [
             0.9,
             "#4d9221"
            ],
            [
             1,
             "#276419"
            ]
           ],
           "sequential": [
            [
             0,
             "#0d0887"
            ],
            [
             0.1111111111111111,
             "#46039f"
            ],
            [
             0.2222222222222222,
             "#7201a8"
            ],
            [
             0.3333333333333333,
             "#9c179e"
            ],
            [
             0.4444444444444444,
             "#bd3786"
            ],
            [
             0.5555555555555556,
             "#d8576b"
            ],
            [
             0.6666666666666666,
             "#ed7953"
            ],
            [
             0.7777777777777778,
             "#fb9f3a"
            ],
            [
             0.8888888888888888,
             "#fdca26"
            ],
            [
             1,
             "#f0f921"
            ]
           ],
           "sequentialminus": [
            [
             0,
             "#0d0887"
            ],
            [
             0.1111111111111111,
             "#46039f"
            ],
            [
             0.2222222222222222,
             "#7201a8"
            ],
            [
             0.3333333333333333,
             "#9c179e"
            ],
            [
             0.4444444444444444,
             "#bd3786"
            ],
            [
             0.5555555555555556,
             "#d8576b"
            ],
            [
             0.6666666666666666,
             "#ed7953"
            ],
            [
             0.7777777777777778,
             "#fb9f3a"
            ],
            [
             0.8888888888888888,
             "#fdca26"
            ],
            [
             1,
             "#f0f921"
            ]
           ]
          },
          "colorway": [
           "#636efa",
           "#EF553B",
           "#00cc96",
           "#ab63fa",
           "#FFA15A",
           "#19d3f3",
           "#FF6692",
           "#B6E880",
           "#FF97FF",
           "#FECB52"
          ],
          "font": {
           "color": "#2a3f5f"
          },
          "geo": {
           "bgcolor": "white",
           "lakecolor": "white",
           "landcolor": "#E5ECF6",
           "showlakes": true,
           "showland": true,
           "subunitcolor": "white"
          },
          "hoverlabel": {
           "align": "left"
          },
          "hovermode": "closest",
          "mapbox": {
           "style": "light"
          },
          "paper_bgcolor": "white",
          "plot_bgcolor": "#E5ECF6",
          "polar": {
           "angularaxis": {
            "gridcolor": "white",
            "linecolor": "white",
            "ticks": ""
           },
           "bgcolor": "#E5ECF6",
           "radialaxis": {
            "gridcolor": "white",
            "linecolor": "white",
            "ticks": ""
           }
          },
          "scene": {
           "xaxis": {
            "backgroundcolor": "#E5ECF6",
            "gridcolor": "white",
            "gridwidth": 2,
            "linecolor": "white",
            "showbackground": true,
            "ticks": "",
            "zerolinecolor": "white"
           },
           "yaxis": {
            "backgroundcolor": "#E5ECF6",
            "gridcolor": "white",
            "gridwidth": 2,
            "linecolor": "white",
            "showbackground": true,
            "ticks": "",
            "zerolinecolor": "white"
           },
           "zaxis": {
            "backgroundcolor": "#E5ECF6",
            "gridcolor": "white",
            "gridwidth": 2,
            "linecolor": "white",
            "showbackground": true,
            "ticks": "",
            "zerolinecolor": "white"
           }
          },
          "shapedefaults": {
           "line": {
            "color": "#2a3f5f"
           }
          },
          "ternary": {
           "aaxis": {
            "gridcolor": "white",
            "linecolor": "white",
            "ticks": ""
           },
           "baxis": {
            "gridcolor": "white",
            "linecolor": "white",
            "ticks": ""
           },
           "bgcolor": "#E5ECF6",
           "caxis": {
            "gridcolor": "white",
            "linecolor": "white",
            "ticks": ""
           }
          },
          "title": {
           "x": 0.05
          },
          "xaxis": {
           "automargin": true,
           "gridcolor": "white",
           "linecolor": "white",
           "ticks": "",
           "title": {
            "standoff": 15
           },
           "zerolinecolor": "white",
           "zerolinewidth": 2
          },
          "yaxis": {
           "automargin": true,
           "gridcolor": "white",
           "linecolor": "white",
           "ticks": "",
           "title": {
            "standoff": 15
           },
           "zerolinecolor": "white",
           "zerolinewidth": 2
          }
         }
        },
        "title": {
         "font": {
          "size": 22
         },
         "text": "Derivative for the expected number of infections"
        },
        "xaxis": {
         "tickfont": {
          "size": 16
         },
         "title": {
          "font": {
           "size": 20
          },
          "text": "Time Step"
         }
        },
        "yaxis": {
         "tickfont": {
          "size": 16
         },
         "title": {
          "font": {
           "size": 20
          },
          "text": "Reproduction number (R0)"
         }
        }
       }
      }
     },
     "metadata": {},
     "output_type": "display_data"
    }
   ],
   "source": [
    "titles = {\n",
    "    'case_value': [f\"i:{case['i']}, average k:{case['average_k']}\" for case in cases],\n",
    "    'fig_title': \"Derivative for the expected number of infections\",\n",
    "    'x': \"Time Step\",\n",
    "    'y': \"Reproduction number (R0)\"\n",
    "}\n",
    "plot_array(cases, titles, base='R0')"
   ]
  },
  {
   "cell_type": "markdown",
   "id": "3c2971a2",
   "metadata": {},
   "source": [
    "# Epidemics, question 3\n",
    "## A"
   ]
  },
  {
   "cell_type": "code",
   "execution_count": 14,
   "id": "a784def9",
   "metadata": {},
   "outputs": [
    {
     "name": "stderr",
     "output_type": "stream",
     "text": [
      "100%|██████████| 30/30 [11:14<00:00, 22.48s/it]\n",
      "100%|██████████| 30/30 [07:44<00:00, 15.48s/it]\n"
     ]
    }
   ],
   "source": [
    "N = 100000\n",
    "\n",
    "cases = [\n",
    "    {\"name\": \"i\", \"N\": N, \"i\": 0.01, \"average_k\": 5},\n",
    "    {\"name\": \"ii\", \"N\": N, \"i\": 0.1, \"average_k\": 0.8}\n",
    "]\n",
    "\n",
    "\n",
    "DECIMAL_ROUND = 2\n",
    "COFIDENCE_INTERVAL = 1.98\n",
    "\n",
    "T=100\n",
    "\n",
    "infected_init=0.1\n",
    "\n",
    "results_erdos, erdos_avgk = run_evolution(cases, 30, T, infected_init)"
   ]
  },
  {
   "cell_type": "code",
   "execution_count": 15,
   "id": "68cfe7f3",
   "metadata": {},
   "outputs": [
    {
     "ename": "TypeError",
     "evalue": "list indices must be integers or slices, not str",
     "output_type": "error",
     "traceback": [
      "\u001b[0;31m---------------------------------------------------------------------------\u001b[0m",
      "\u001b[0;31mTypeError\u001b[0m                                 Traceback (most recent call last)",
      "Cell \u001b[0;32mIn[15], line 33\u001b[0m\n\u001b[1;32m     30\u001b[0m     trace \u001b[38;5;241m=\u001b[39m go\u001b[38;5;241m.\u001b[39mScatter(x\u001b[38;5;241m=\u001b[39mt, y\u001b[38;5;241m=\u001b[39mnumerical, mode\u001b[38;5;241m=\u001b[39m\u001b[38;5;124m'\u001b[39m\u001b[38;5;124mmarkers\u001b[39m\u001b[38;5;124m'\u001b[39m, name\u001b[38;5;241m=\u001b[39m\u001b[38;5;124mf\u001b[39m\u001b[38;5;124m'\u001b[39m\u001b[38;5;124mCoupled ODE for b: \u001b[39m\u001b[38;5;132;01m{\u001b[39;00mb\u001b[38;5;132;01m}\u001b[39;00m\u001b[38;5;124m'\u001b[39m)\n\u001b[1;32m     31\u001b[0m     plot_data\u001b[38;5;241m.\u001b[39mappend(trace)\n\u001b[0;32m---> 33\u001b[0m trace_NR_1 \u001b[38;5;241m=\u001b[39m go\u001b[38;5;241m.\u001b[39mScatter(x\u001b[38;5;241m=\u001b[39mt, y\u001b[38;5;241m=\u001b[39m\u001b[43mresults_Q1\u001b[49m\u001b[43m[\u001b[49m\u001b[38;5;241;43m0\u001b[39;49m\u001b[43m]\u001b[49m\u001b[43m[\u001b[49m\u001b[38;5;124;43m'\u001b[39;49m\u001b[38;5;124;43minfected_counts\u001b[39;49m\u001b[38;5;124;43m'\u001b[39;49m\u001b[43m]\u001b[49m, mode\u001b[38;5;241m=\u001b[39m\u001b[38;5;124m'\u001b[39m\u001b[38;5;124mmarkers\u001b[39m\u001b[38;5;124m'\u001b[39m, name\u001b[38;5;241m=\u001b[39m\u001b[38;5;124mf\u001b[39m\u001b[38;5;124m'\u001b[39m\u001b[38;5;124mNR, i: 0.01 and k:5.0\u001b[39m\u001b[38;5;124m'\u001b[39m)\n\u001b[1;32m     34\u001b[0m trace_NR_2 \u001b[38;5;241m=\u001b[39m go\u001b[38;5;241m.\u001b[39mScatter(x\u001b[38;5;241m=\u001b[39mt, y\u001b[38;5;241m=\u001b[39mresults_Q1[\u001b[38;5;241m1\u001b[39m][\u001b[38;5;124m'\u001b[39m\u001b[38;5;124minfected_counts\u001b[39m\u001b[38;5;124m'\u001b[39m], mode\u001b[38;5;241m=\u001b[39m\u001b[38;5;124m'\u001b[39m\u001b[38;5;124mmarkers\u001b[39m\u001b[38;5;124m'\u001b[39m, name\u001b[38;5;241m=\u001b[39m\u001b[38;5;124mf\u001b[39m\u001b[38;5;124m'\u001b[39m\u001b[38;5;124mNR, i: 0.1 and k:0.8\u001b[39m\u001b[38;5;124m'\u001b[39m)\n\u001b[1;32m     36\u001b[0m plot_data\u001b[38;5;241m.\u001b[39mappend(trace_NR_1)\n",
      "\u001b[0;31mTypeError\u001b[0m: list indices must be integers or slices, not str"
     ]
    }
   ],
   "source": [
    "def coupled_odes(I, S, b):\n",
    "    dI_dt = ((1 - np.power(1 - b, I)) * S)\n",
    "    dS_dt = - ((1 - np.power(1 - b, I)) * S)\n",
    "    \n",
    "    return dI_dt, dS_dt\n",
    "\n",
    "def euler_algo(function, t, b, x0):\n",
    "    \"\"\"Euler algortihm for coupled ODE\"\"\"\n",
    "    I = np.zeros(len(t))\n",
    "    S = np.zeros(len(t))\n",
    "    I[0], S[0] = x0\n",
    "\n",
    "    for i, (first, second) in enumerate(zip(t, t[1:])):\n",
    "        dt = second - first\n",
    "        dI_dt, dS_dt = function(I[i], S[i], b)\n",
    "        I[i+1] = I[i] + dI_dt * dt\n",
    "        S[i+1] = S[i] + dS_dt * dt\n",
    "        \n",
    "    return I\n",
    "\n",
    "\"\"\"All parameters for the coupled ODE\"\"\"\n",
    "plot_data = []\n",
    "t = np.linspace(0, 10, T+1) \n",
    "b_values = [0.1, 0.01]\n",
    "inital_value = (N*infected_init, N*(1-infected_init))\n",
    "\n",
    "\"\"\"Calculating all traces and making plot\"\"\"\n",
    "for b in b_values:\n",
    "    numerical = euler_algo(coupled_odes, t, b, inital_value)\n",
    "    trace = go.Scatter(x=t, y=numerical, mode='markers', name=f'Coupled ODE for b: {b}')\n",
    "    plot_data.append(trace)\n",
    "\n",
    "trace_NR_1 = go.Scatter(x=t, y=results_erdos[0]['infected_counts'], mode='markers', name=f'NR, i: 0.01 and k:5.0')\n",
    "trace_NR_2 = go.Scatter(x=t, y=results_erdos[1]['infected_counts'], mode='markers', name=f'NR, i: 0.1 and k:0.8')\n",
    "\n",
    "plot_data.append(trace_NR_1)\n",
    "plot_data.append(trace_NR_2)\n",
    "\n",
    "layout = go.Layout(\n",
    "#     title='Numerical Solutions of Coupled ODEs vs network results (NR)',\n",
    "    xaxis=dict(title='Time'),\n",
    "    yaxis=dict(title='Amount of people'),\n",
    "    legend=dict(x=1, y=1)\n",
    ")\n",
    "\n",
    "\n",
    "fig = go.Figure(data=plot_data, layout=layout)\n",
    "\n",
    "fig.show()\n"
   ]
  },
  {
   "cell_type": "markdown",
   "id": "809e8cb4",
   "metadata": {},
   "source": [
    "# Epidemics, question 4\n",
    "## A\n",
    "\n"
   ]
  },
  {
   "cell_type": "code",
   "execution_count": null,
   "id": "660808e1",
   "metadata": {},
   "outputs": [],
   "source": [
    "cases = [\n",
    "    {\"name\": \"i\", \"N\": 10**5, \"i\": 0.01, \"average_k\": 5.0},\n",
    "    {\"name\": \"ii\", \"N\": 10**5, \"i\": 0.1, \"average_k\": 0.8}\n",
    "]\n",
    "results_free_scale, free_scale_avgk = run_evolution(cases, 30, T, infected_init, network='free')\n"
   ]
  },
  {
   "cell_type": "code",
   "execution_count": null,
   "id": "6c5de48c",
   "metadata": {},
   "outputs": [],
   "source": [
    "t = np.linspace(0, 100, T+1) \n",
    "\n",
    "trace1 = go.Scatter(x=t, y=results_erdos[0]['infected_counts'], mode='lines', name=f'Erdos, i: 0.01 and k:5.0')\n",
    "trace2 = go.Scatter(x=t, y=results_free_scale[0]['infected_counts'], mode='lines', name=f'Free-scale, i: 0.01, k:5.0 and γ = 2.5')\n",
    "\n",
    "\n",
    "\n",
    "layout = go.Layout(\n",
    "    xaxis=dict(title='Time'),\n",
    "    yaxis=dict(title='Amount of people'),\n",
    "    legend=dict(x=1, y=1)\n",
    ")\n",
    "\n",
    "\n",
    "fig = go.Figure(data=[trace1, trace2], layout=layout)\n",
    "\n",
    "fig.show()"
   ]
  },
  {
   "cell_type": "markdown",
   "id": "dac54deb",
   "metadata": {},
   "source": [
    "# C"
   ]
  },
  {
   "cell_type": "code",
   "execution_count": null,
   "id": "4926a2d5",
   "metadata": {},
   "outputs": [],
   "source": [
    "trace_1 = go.Scatter(x=list(range(len(erdos_avgk[0]))), y=erdos_avgk[0], mode='lines', name='Erdos-Renyi')\n",
    "trace_2 = go.Scatter(x=list(range(len(free_scale_avgk[0]))), y=free_scale_avgk[0], mode='lines', name='Scale-free')\n",
    "\n",
    "\n",
    "layout = go.Layout(\n",
    "    title='Average Degree Comparison with i: 0.01 and k:5.0',\n",
    "    xaxis=dict(title='Time'),\n",
    "    yaxis=dict(title='Average degree')\n",
    ")\n",
    "\n",
    "fig = go.Figure(data=[trace_1, trace_2], layout=layout)\n",
    "\n",
    "\n",
    "fig.show()"
   ]
  }
 ],
 "metadata": {
  "hide_input": false,
  "kernelspec": {
   "display_name": "Python 3 (ipykernel)",
   "language": "python",
   "name": "python3"
  },
  "language_info": {
   "codemirror_mode": {
    "name": "ipython",
    "version": 3
   },
   "file_extension": ".py",
   "mimetype": "text/x-python",
   "name": "python",
   "nbconvert_exporter": "python",
   "pygments_lexer": "ipython3",
   "version": "3.8.18"
  }
 },
 "nbformat": 4,
 "nbformat_minor": 5
}
