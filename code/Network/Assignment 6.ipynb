{
 "cells": [
  {
   "cell_type": "code",
   "execution_count": 11,
   "id": "cb3c86f2",
   "metadata": {},
   "outputs": [],
   "source": [
    "import numpy as np\n",
    "import pandas as pd \n",
    "import seaborn as sns\n",
    "import networkx as nx\n",
    "import matplotlib.pyplot as plt\n",
    "\n",
    "import random\n",
    "\n",
    "from plotly import graph_objects as go\n",
    "from collections import Counter\n",
    "from tqdm import tqdm\n",
    "from scipy.stats import sem\n"
   ]
  },
  {
   "cell_type": "code",
   "execution_count": 12,
   "id": "ab448966",
   "metadata": {},
   "outputs": [
    {
     "data": {
      "image/png": "[encoded data removed]",
      "text/plain": [
       "<Figure size 432x288 with 1 Axes>"
      ]
     },
     "metadata": {},
     "output_type": "display_data"
    }
   ],
   "source": [
    "G = nx.Graph()\n",
    "\n",
    "\n",
    "nodes = [1, 2, 3, 4, 5]\n",
    "G.add_nodes_from(nodes)\n",
    "\n",
    "\n",
    "edges = [(1, 2), (2, 3), (3, 4), (3, 5), (4, 5)]\n",
    "G.add_edges_from(edges)\n",
    "\n",
    "\n",
    "pos = nx.spring_layout(G)  \n",
    "nx.draw(G, pos, with_labels=True, node_size=700, node_color='skyblue', font_size=10, font_color='black', font_weight='bold', width=2, edge_color='gray' )\n",
    "\n",
    "\n",
    "plt.show()\n"
   ]
  },
  {
   "cell_type": "markdown",
   "id": "6ed9030f",
   "metadata": {},
   "source": [
    "# Question 1A"
   ]
  },
  {
   "cell_type": "code",
   "execution_count": 13,
   "id": "3672ca32",
   "metadata": {},
   "outputs": [
    {
     "data": {
      "application/vnd.plotly.v1+json": {
       "config": {
        "plotlyServerURL": "https://plot.ly"
       },
       "data": [
        {
         "type": "bar",
         "x": [
          1,
          2,
          3,
          4,
          5
         ],
         "y": [
          1,
          2,
          3,
          2,
          2
         ]
        }
       ],
       "layout": {
        "template": {
         "data": {
          "bar": [
           {
            "error_x": {
             "color": "#2a3f5f"
            },
            "error_y": {
             "color": "#2a3f5f"
            },
            "marker": {
             "line": {
              "color": "#E5ECF6",
              "width": 0.5
             },
             "pattern": {
              "fillmode": "overlay",
              "size": 10,
              "solidity": 0.2
             }
            },
            "type": "bar"
           }
          ],
          "barpolar": [
           {
            "marker": {
             "line": {
              "color": "#E5ECF6",
              "width": 0.5
             },
             "pattern": {
              "fillmode": "overlay",
              "size": 10,
              "solidity": 0.2
             }
            },
            "type": "barpolar"
           }
          ],
          "carpet": [
           {
            "aaxis": {
             "endlinecolor": "#2a3f5f",
             "gridcolor": "white",
             "linecolor": "white",
             "minorgridcolor": "white",
             "startlinecolor": "#2a3f5f"
            },
            "baxis": {
             "endlinecolor": "#2a3f5f",
             "gridcolor": "white",
             "linecolor": "white",
             "minorgridcolor": "white",
             "startlinecolor": "#2a3f5f"
            },
            "type": "carpet"
           }
          ],
          "choropleth": [
           {
            "colorbar": {
             "outlinewidth": 0,
             "ticks": ""
            },
            "type": "choropleth"
           }
          ],
          "contour": [
           {
            "colorbar": {
             "outlinewidth": 0,
             "ticks": ""
            },
            "colorscale": [
             [
              0,
              "#0d0887"
             ],
             [
              0.1111111111111111,
              "#46039f"
             ],
             [
              0.2222222222222222,
              "#7201a8"
             ],
             [
              0.3333333333333333,
              "#9c179e"
             ],
             [
              0.4444444444444444,
              "#bd3786"
             ],
             [
              0.5555555555555556,
              "#d8576b"
             ],
             [
              0.6666666666666666,
              "#ed7953"
             ],
             [
              0.7777777777777778,
              "#fb9f3a"
             ],
             [
              0.8888888888888888,
              "#fdca26"
             ],
             [
              1,
              "#f0f921"
             ]
            ],
            "type": "contour"
           }
          ],
          "contourcarpet": [
           {
            "colorbar": {
             "outlinewidth": 0,
             "ticks": ""
            },
            "type": "contourcarpet"
           }
          ],
          "heatmap": [
           {
            "colorbar": {
             "outlinewidth": 0,
             "ticks": ""
            },
            "colorscale": [
             [
              0,
              "#0d0887"
             ],
             [
              0.1111111111111111,
              "#46039f"
             ],
             [
              0.2222222222222222,
              "#7201a8"
             ],
             [
              0.3333333333333333,
              "#9c179e"
             ],
             [
              0.4444444444444444,
              "#bd3786"
             ],
             [
              0.5555555555555556,
              "#d8576b"
             ],
             [
              0.6666666666666666,
              "#ed7953"
             ],
             [
              0.7777777777777778,
              "#fb9f3a"
             ],
             [
              0.8888888888888888,
              "#fdca26"
             ],
             [
              1,
              "#f0f921"
             ]
            ],
            "type": "heatmap"
           }
          ],
          "heatmapgl": [
           {
            "colorbar": {
             "outlinewidth": 0,
             "ticks": ""
            },
            "colorscale": [
             [
              0,
              "#0d0887"
             ],
             [
              0.1111111111111111,
              "#46039f"
             ],
             [
              0.2222222222222222,
              "#7201a8"
             ],
             [
              0.3333333333333333,
              "#9c179e"
             ],
             [
              0.4444444444444444,
              "#bd3786"
             ],
             [
              0.5555555555555556,
              "#d8576b"
             ],
             [
              0.6666666666666666,
              "#ed7953"
             ],
             [
              0.7777777777777778,
              "#fb9f3a"
             ],
             [
              0.8888888888888888,
              "#fdca26"
             ],
             [
              1,
              "#f0f921"
             ]
            ],
            "type": "heatmapgl"
           }
          ],
          "histogram": [
           {
            "marker": {
             "pattern": {
              "fillmode": "overlay",
              "size": 10,
              "solidity": 0.2
             }
            },
            "type": "histogram"
           }
          ],
          "histogram2d": [
           {
            "colorbar": {
             "outlinewidth": 0,
             "ticks": ""
            },
            "colorscale": [
             [
              0,
              "#0d0887"
             ],
             [
              0.1111111111111111,
              "#46039f"
             ],
             [
              0.2222222222222222,
              "#7201a8"
             ],
             [
              0.3333333333333333,
              "#9c179e"
             ],
             [
              0.4444444444444444,
              "#bd3786"
             ],
             [
              0.5555555555555556,
              "#d8576b"
             ],
             [
              0.6666666666666666,
              "#ed7953"
             ],
             [
              0.7777777777777778,
              "#fb9f3a"
             ],
             [
              0.8888888888888888,
              "#fdca26"
             ],
             [
              1,
              "#f0f921"
             ]
            ],
            "type": "histogram2d"
           }
          ],
          "histogram2dcontour": [
           {
            "colorbar": {
             "outlinewidth": 0,
             "ticks": ""
            },
            "colorscale": [
             [
              0,
              "#0d0887"
             ],
             [
              0.1111111111111111,
              "#46039f"
             ],
             [
              0.2222222222222222,
              "#7201a8"
             ],
             [
              0.3333333333333333,
              "#9c179e"
             ],
             [
              0.4444444444444444,
              "#bd3786"
             ],
             [
              0.5555555555555556,
              "#d8576b"
             ],
             [
              0.6666666666666666,
              "#ed7953"
             ],
             [
              0.7777777777777778,
              "#fb9f3a"
             ],
             [
              0.8888888888888888,
              "#fdca26"
             ],
             [
              1,
              "#f0f921"
             ]
            ],
            "type": "histogram2dcontour"
           }
          ],
          "mesh3d": [
           {
            "colorbar": {
             "outlinewidth": 0,
             "ticks": ""
            },
            "type": "mesh3d"
           }
          ],
          "parcoords": [
           {
            "line": {
             "colorbar": {
              "outlinewidth": 0,
              "ticks": ""
             }
            },
            "type": "parcoords"
           }
          ],
          "pie": [
           {
            "automargin": true,
            "type": "pie"
           }
          ],
          "scatter": [
           {
            "fillpattern": {
             "fillmode": "overlay",
             "size": 10,
             "solidity": 0.2
            },
            "type": "scatter"
           }
          ],
          "scatter3d": [
           {
            "line": {
             "colorbar": {
              "outlinewidth": 0,
              "ticks": ""
             }
            },
            "marker": {
             "colorbar": {
              "outlinewidth": 0,
              "ticks": ""
             }
            },
            "type": "scatter3d"
           }
          ],
          "scattercarpet": [
           {
            "marker": {
             "colorbar": {
              "outlinewidth": 0,
              "ticks": ""
             }
            },
            "type": "scattercarpet"
           }
          ],
          "scattergeo": [
           {
            "marker": {
             "colorbar": {
              "outlinewidth": 0,
              "ticks": ""
             }
            },
            "type": "scattergeo"
           }
          ],
          "scattergl": [
           {
            "marker": {
             "colorbar": {
              "outlinewidth": 0,
              "ticks": ""
             }
            },
            "type": "scattergl"
           }
          ],
          "scattermapbox": [
           {
            "marker": {
             "colorbar": {
              "outlinewidth": 0,
              "ticks": ""
             }
            },
            "type": "scattermapbox"
           }
          ],
          "scatterpolar": [
           {
            "marker": {
             "colorbar": {
              "outlinewidth": 0,
              "ticks": ""
             }
            },
            "type": "scatterpolar"
           }
          ],
          "scatterpolargl": [
           {
            "marker": {
             "colorbar": {
              "outlinewidth": 0,
              "ticks": ""
             }
            },
            "type": "scatterpolargl"
           }
          ],
          "scatterternary": [
           {
            "marker": {
             "colorbar": {
              "outlinewidth": 0,
              "ticks": ""
             }
            },
            "type": "scatterternary"
           }
          ],
          "surface": [
           {
            "colorbar": {
             "outlinewidth": 0,
             "ticks": ""
            },
            "colorscale": [
             [
              0,
              "#0d0887"
             ],
             [
              0.1111111111111111,
              "#46039f"
             ],
             [
              0.2222222222222222,
              "#7201a8"
             ],
             [
              0.3333333333333333,
              "#9c179e"
             ],
             [
              0.4444444444444444,
              "#bd3786"
             ],
             [
              0.5555555555555556,
              "#d8576b"
             ],
             [
              0.6666666666666666,
              "#ed7953"
             ],
             [
              0.7777777777777778,
              "#fb9f3a"
             ],
             [
              0.8888888888888888,
              "#fdca26"
             ],
             [
              1,
              "#f0f921"
             ]
            ],
            "type": "surface"
           }
          ],
          "table": [
           {
            "cells": {
             "fill": {
              "color": "#EBF0F8"
             },
             "line": {
              "color": "white"
             }
            },
            "header": {
             "fill": {
              "color": "#C8D4E3"
             },
             "line": {
              "color": "white"
             }
            },
            "type": "table"
           }
          ]
         },
         "layout": {
          "annotationdefaults": {
           "arrowcolor": "#2a3f5f",
           "arrowhead": 0,
           "arrowwidth": 1
          },
          "autotypenumbers": "strict",
          "coloraxis": {
           "colorbar": {
            "outlinewidth": 0,
            "ticks": ""
           }
          },
          "colorscale": {
           "diverging": [
            [
             0,
             "#8e0152"
            ],
            [
             0.1,
             "#c51b7d"
            ],
            [
             0.2,
             "#de77ae"
            ],
            [
             0.3,
             "#f1b6da"
            ],
            [
             0.4,
             "#fde0ef"
            ],
            [
             0.5,
             "#f7f7f7"
            ],
            [
             0.6,
             "#e6f5d0"
            ],
            [
             0.7,
             "#b8e186"
            ],
            [
             0.8,
             "#7fbc41"
            ],
            [
             0.9,
             "#4d9221"
            ],
            [
             1,
             "#276419"
            ]
           ],
           "sequential": [
            [
             0,
             "#0d0887"
            ],
            [
             0.1111111111111111,
             "#46039f"
            ],
            [
             0.2222222222222222,
             "#7201a8"
            ],
            [
             0.3333333333333333,
             "#9c179e"
            ],
            [
             0.4444444444444444,
             "#bd3786"
            ],
            [
             0.5555555555555556,
             "#d8576b"
            ],
            [
             0.6666666666666666,
             "#ed7953"
            ],
            [
             0.7777777777777778,
             "#fb9f3a"
            ],
            [
             0.8888888888888888,
             "#fdca26"
            ],
            [
             1,
             "#f0f921"
            ]
           ],
           "sequentialminus": [
            [
             0,
             "#0d0887"
            ],
            [
             0.1111111111111111,
             "#46039f"
            ],
            [
             0.2222222222222222,
             "#7201a8"
            ],
            [
             0.3333333333333333,
             "#9c179e"
            ],
            [
             0.4444444444444444,
             "#bd3786"
            ],
            [
             0.5555555555555556,
             "#d8576b"
            ],
            [
             0.6666666666666666,
             "#ed7953"
            ],
            [
             0.7777777777777778,
             "#fb9f3a"
            ],
            [
             0.8888888888888888,
             "#fdca26"
            ],
            [
             1,
             "#f0f921"
            ]
           ]
          },
          "colorway": [
           "#636efa",
           "#EF553B",
           "#00cc96",
           "#ab63fa",
           "#FFA15A",
           "#19d3f3",
           "#FF6692",
           "#B6E880",
           "#FF97FF",
           "#FECB52"
          ],
          "font": {
           "color": "#2a3f5f"
          },
          "geo": {
           "bgcolor": "white",
           "lakecolor": "white",
           "landcolor": "#E5ECF6",
           "showlakes": true,
           "showland": true,
           "subunitcolor": "white"
          },
          "hoverlabel": {
           "align": "left"
          },
          "hovermode": "closest",
          "mapbox": {
           "style": "light"
          },
          "paper_bgcolor": "white",
          "plot_bgcolor": "#E5ECF6",
          "polar": {
           "angularaxis": {
            "gridcolor": "white",
            "linecolor": "white",
            "ticks": ""
           },
           "bgcolor": "#E5ECF6",
           "radialaxis": {
            "gridcolor": "white",
            "linecolor": "white",
            "ticks": ""
           }
          },
          "scene": {
           "xaxis": {
            "backgroundcolor": "#E5ECF6",
            "gridcolor": "white",
            "gridwidth": 2,
            "linecolor": "white",
            "showbackground": true,
            "ticks": "",
            "zerolinecolor": "white"
           },
           "yaxis": {
            "backgroundcolor": "#E5ECF6",
            "gridcolor": "white",
            "gridwidth": 2,
            "linecolor": "white",
            "showbackground": true,
            "ticks": "",
            "zerolinecolor": "white"
           },
           "zaxis": {
            "backgroundcolor": "#E5ECF6",
            "gridcolor": "white",
            "gridwidth": 2,
            "linecolor": "white",
            "showbackground": true,
            "ticks": "",
            "zerolinecolor": "white"
           }
          },
          "shapedefaults": {
           "line": {
            "color": "#2a3f5f"
           }
          },
          "ternary": {
           "aaxis": {
            "gridcolor": "white",
            "linecolor": "white",
            "ticks": ""
           },
           "baxis": {
            "gridcolor": "white",
            "linecolor": "white",
            "ticks": ""
           },
           "bgcolor": "#E5ECF6",
           "caxis": {
            "gridcolor": "white",
            "linecolor": "white",
            "ticks": ""
           }
          },
          "title": {
           "x": 0.05
          },
          "xaxis": {
           "automargin": true,
           "gridcolor": "white",
           "linecolor": "white",
           "ticks": "",
           "title": {
            "standoff": 15
           },
           "zerolinecolor": "white",
           "zerolinewidth": 2
          },
          "yaxis": {
           "automargin": true,
           "gridcolor": "white",
           "linecolor": "white",
           "ticks": "",
           "title": {
            "standoff": 15
           },
           "zerolinecolor": "white",
           "zerolinewidth": 2
          }
         }
        },
        "title": {
         "text": "Histogram of Degrees"
        },
        "xaxis": {
         "title": {
          "text": "Degrees"
         }
        },
        "yaxis": {
         "title": {
          "text": "Frequency"
         }
        }
       }
      }
     },
     "metadata": {},
     "output_type": "display_data"
    }
   ],
   "source": [
    "degrees = Counter([x for tup in edges for x in tup])\n",
    "\n",
    "\n",
    "fig = go.Figure()\n",
    "fig.add_trace(go.Bar(x=list(degrees.keys()), y=list(degrees.values())))\n",
    "\n",
    "\n",
    "fig.update_layout(\n",
    "    title='Histogram of Degrees',\n",
    "    xaxis=dict(title='Node'),\n",
    "    yaxis=dict(title='Edges')\n",
    ")\n",
    "\n",
    "\n",
    "fig.show()"
   ]
  },
  {
   "cell_type": "markdown",
   "id": "3a4868d3",
   "metadata": {},
   "source": [
    "# Question 1B"
   ]
  },
  {
   "cell_type": "code",
   "execution_count": 14,
   "id": "141c03f9",
   "metadata": {},
   "outputs": [
    {
     "ename": "AttributeError",
     "evalue": "module 'scipy.sparse' has no attribute 'coo_array'",
     "output_type": "error",
     "traceback": [
      "\u001b[0;31m---------------------------------------------------------------------------\u001b[0m",
      "\u001b[0;31mAttributeError\u001b[0m                            Traceback (most recent call last)",
      "\u001b[0;32m/var/folders/70/p7sg7nvs5zj0gb1rprkw31k40000gp/T/ipykernel_9150/618688251.py\u001b[0m in \u001b[0;36m<module>\u001b[0;34m\u001b[0m\n\u001b[0;32m----> 1\u001b[0;31m \u001b[0madjacency_matrix\u001b[0m \u001b[0;34m=\u001b[0m \u001b[0mnx\u001b[0m\u001b[0;34m.\u001b[0m\u001b[0madjacency_matrix\u001b[0m\u001b[0;34m(\u001b[0m\u001b[0mG\u001b[0m\u001b[0;34m)\u001b[0m\u001b[0;34m\u001b[0m\u001b[0;34m\u001b[0m\u001b[0m\n\u001b[0m\u001b[1;32m      2\u001b[0m \u001b[0;34m\u001b[0m\u001b[0m\n\u001b[1;32m      3\u001b[0m \u001b[0;34m\u001b[0m\u001b[0m\n\u001b[1;32m      4\u001b[0m \u001b[0mdense_adjacency_matrix\u001b[0m \u001b[0;34m=\u001b[0m \u001b[0madjacency_matrix\u001b[0m\u001b[0;34m.\u001b[0m\u001b[0mtoarray\u001b[0m\u001b[0;34m(\u001b[0m\u001b[0;34m)\u001b[0m\u001b[0;34m\u001b[0m\u001b[0;34m\u001b[0m\u001b[0m\n\u001b[1;32m      5\u001b[0m \u001b[0;34m\u001b[0m\u001b[0m\n",
      "\u001b[0;32m~/opt/anaconda3/lib/python3.8/site-packages/networkx/linalg/graphmatrix.py\u001b[0m in \u001b[0;36madjacency_matrix\u001b[0;34m(G, nodelist, dtype, weight)\u001b[0m\n\u001b[1;32m    155\u001b[0m     \u001b[0madjacency_spectrum\u001b[0m\u001b[0;34m\u001b[0m\u001b[0;34m\u001b[0m\u001b[0m\n\u001b[1;32m    156\u001b[0m     \"\"\"\n\u001b[0;32m--> 157\u001b[0;31m     \u001b[0;32mreturn\u001b[0m \u001b[0mnx\u001b[0m\u001b[0;34m.\u001b[0m\u001b[0mto_scipy_sparse_array\u001b[0m\u001b[0;34m(\u001b[0m\u001b[0mG\u001b[0m\u001b[0;34m,\u001b[0m \u001b[0mnodelist\u001b[0m\u001b[0;34m=\u001b[0m\u001b[0mnodelist\u001b[0m\u001b[0;34m,\u001b[0m \u001b[0mdtype\u001b[0m\u001b[0;34m=\u001b[0m\u001b[0mdtype\u001b[0m\u001b[0;34m,\u001b[0m \u001b[0mweight\u001b[0m\u001b[0;34m=\u001b[0m\u001b[0mweight\u001b[0m\u001b[0;34m)\u001b[0m\u001b[0;34m\u001b[0m\u001b[0;34m\u001b[0m\u001b[0m\n\u001b[0m",
      "\u001b[0;32m~/opt/anaconda3/lib/python3.8/site-packages/networkx/convert_matrix.py\u001b[0m in \u001b[0;36mto_scipy_sparse_array\u001b[0;34m(G, nodelist, dtype, weight, format)\u001b[0m\n\u001b[1;32m    591\u001b[0m             \u001b[0mr\u001b[0m \u001b[0;34m+=\u001b[0m \u001b[0mdiag_index\u001b[0m\u001b[0;34m\u001b[0m\u001b[0;34m\u001b[0m\u001b[0m\n\u001b[1;32m    592\u001b[0m             \u001b[0mc\u001b[0m \u001b[0;34m+=\u001b[0m \u001b[0mdiag_index\u001b[0m\u001b[0;34m\u001b[0m\u001b[0;34m\u001b[0m\u001b[0m\n\u001b[0;32m--> 593\u001b[0;31m         \u001b[0mA\u001b[0m \u001b[0;34m=\u001b[0m \u001b[0msp\u001b[0m\u001b[0;34m.\u001b[0m\u001b[0msparse\u001b[0m\u001b[0;34m.\u001b[0m\u001b[0mcoo_array\u001b[0m\u001b[0;34m(\u001b[0m\u001b[0;34m(\u001b[0m\u001b[0md\u001b[0m\u001b[0;34m,\u001b[0m \u001b[0;34m(\u001b[0m\u001b[0mr\u001b[0m\u001b[0;34m,\u001b[0m \u001b[0mc\u001b[0m\u001b[0;34m)\u001b[0m\u001b[0;34m)\u001b[0m\u001b[0;34m,\u001b[0m \u001b[0mshape\u001b[0m\u001b[0;34m=\u001b[0m\u001b[0;34m(\u001b[0m\u001b[0mnlen\u001b[0m\u001b[0;34m,\u001b[0m \u001b[0mnlen\u001b[0m\u001b[0;34m)\u001b[0m\u001b[0;34m,\u001b[0m \u001b[0mdtype\u001b[0m\u001b[0;34m=\u001b[0m\u001b[0mdtype\u001b[0m\u001b[0;34m)\u001b[0m\u001b[0;34m\u001b[0m\u001b[0;34m\u001b[0m\u001b[0m\n\u001b[0m\u001b[1;32m    594\u001b[0m     \u001b[0;32mtry\u001b[0m\u001b[0;34m:\u001b[0m\u001b[0;34m\u001b[0m\u001b[0;34m\u001b[0m\u001b[0m\n\u001b[1;32m    595\u001b[0m         \u001b[0;32mreturn\u001b[0m \u001b[0mA\u001b[0m\u001b[0;34m.\u001b[0m\u001b[0masformat\u001b[0m\u001b[0;34m(\u001b[0m\u001b[0mformat\u001b[0m\u001b[0;34m)\u001b[0m\u001b[0;34m\u001b[0m\u001b[0;34m\u001b[0m\u001b[0m\n",
      "\u001b[0;31mAttributeError\u001b[0m: module 'scipy.sparse' has no attribute 'coo_array'"
     ]
    }
   ],
   "source": [
    "adjacency_matrix = nx.adjacency_matrix(G)\n",
    "\n",
    "\n",
    "dense_adjacency_matrix = adjacency_matrix.toarray()\n",
    "\n",
    "\n",
    "df = pd.DataFrame(data=dense_adjacency_matrix, columns=nodes, index=nodes)\n",
    "\n",
    "\n",
    "plt.figure(figsize=(8, 6))\n",
    "sns.heatmap(df, cmap='viridis', cbar=False, yticklabels=True, annot=True)\n",
    "plt.title('Adjacency Matrix:')\n",
    "plt.show()"
   ]
  },
  {
   "cell_type": "markdown",
   "id": "8fe189bd",
   "metadata": {},
   "source": [
    "# Question 1C"
   ]
  },
  {
   "cell_type": "code",
   "execution_count": 15,
   "id": "a55a9d6b",
   "metadata": {},
   "outputs": [
    {
     "name": "stdout",
     "output_type": "stream",
     "text": [
      "1 : 0.0\n",
      "2 : 0.5\n",
      "3 : 0.6666666666666666\n",
      "4 : 0.0\n",
      "5 : 0.0\n"
     ]
    }
   ],
   "source": [
    "for x, y in nx.betweenness_centrality(G).items():\n",
    "    print(x,\":\",y)"
   ]
  },
  {
   "cell_type": "markdown",
   "id": "6966f9d6",
   "metadata": {},
   "source": [
    "# Epidemics, question 1\n",
    "## B"
   ]
  },
  {
   "cell_type": "code",
   "execution_count": 16,
   "id": "56f30fd5",
   "metadata": {},
   "outputs": [],
   "source": [
    "def infected(i, r):\n",
    "    \"\"\"\n",
    "    Set a node to infected based on probability.\n",
    "    \"\"\"\n",
    "    if np.random.rand() < (1 - (1 - i) ** r):\n",
    "        return 'I'\n",
    "    else:\n",
    "        return 'S'\n",
    "\n",
    "def reproduction_number(I_plus_one, I):\n",
    "    \"\"\"\n",
    "    Derivethe expression for the expected number of new infections in the\n",
    "    first time step per infected vertex in both cases.\n",
    "    \"\"\"\n",
    "    return round((I_plus_one - I) / I, DECIMAL_ROUND)\n",
    "\n",
    "def simulate_infection(graph, probability_of_infection):\n",
    "    \"\"\"\n",
    "    The simulate_infection function iterates through a graph, updating the status of susceptible nodes ('S')\n",
    "    based on the probability of infection and the count of infected neighbors.\n",
    "    \"\"\"\n",
    "    for node, data in graph.nodes(data=True):\n",
    "        if data['status'] == 'S':\n",
    "            neighbors = list(nx.neighbors(graph, node))\n",
    "            amount_of_infected_neighbors = sum(1 for neighbor in neighbors if graph.nodes[neighbor]['status'] == 'I')\n",
    "            graph.nodes[node]['status'] = infected(probability_of_infection, amount_of_infected_neighbors)\n",
    "            \n",
    "def random_infected_init(N, graph, infected_init):\n",
    "    \"\"\"\n",
    "    Set a random portion of the population to infected,\n",
    "    based on the infected_init variable.\n",
    "    \"\"\"    \n",
    "    total_infected = 0\n",
    "    \n",
    "    for node in graph.nodes():\n",
    "        if (node / N) <= infected_init:\n",
    "            graph.nodes[node]['status'] = 'I'\n",
    "            total_infected += 1\n",
    "            \n",
    "    total_susceptible = N - total_infected    \n",
    "    return total_infected, total_susceptible"
   ]
  },
  {
   "cell_type": "code",
   "execution_count": 17,
   "id": "320e175b",
   "metadata": {},
   "outputs": [],
   "source": [
    "def run_simulation(case, T, infected_init):\n",
    "    \"\"\"\n",
    "    The run_simulation function models infection spread in an Erdos-Renyi random graph\n",
    "    with an initial infected fraction.\n",
    "    It iteratively simulates infection dynamics over T time steps,\n",
    "    tracking counts and fractions of infected and susceptible nodes, along with the reproduction number.\n",
    "    \"\"\"\n",
    "    N = case['N']\n",
    "    i = case['i']\n",
    "    average_k = case['average_k']\n",
    "\n",
    "    # Create graph\n",
    "    probability_of_infection = i\n",
    "    erdos_renyi = nx.fast_gnp_random_graph(n=N, p=average_k/N)\n",
    "    nx.set_node_attributes(erdos_renyi, 'S', \"status\")\n",
    "    total_infected, total_susceptible = random_infected_init(N, erdos_renyi, infected_init)\n",
    "    \n",
    "    # Initial starting values\n",
    "    infected_counts = [total_infected]\n",
    "    susceptible_counts = [total_susceptible]\n",
    "    infected_fractions = [round(total_infected / N, DECIMAL_ROUND)]\n",
    "    susceptible_fractions = [round(total_susceptible / N, DECIMAL_ROUND)]\n",
    "    R0 = []\n",
    "\n",
    "    for t in range(T):\n",
    "        simulate_infection(erdos_renyi, probability_of_infection)\n",
    "        \n",
    "        total_infected = sum(1 for _, data in erdos_renyi.nodes(data=True) if data['status'] == 'I')\n",
    "        infected_counts.append(total_infected)\n",
    "        infected_fractions.append(round(total_infected / N, DECIMAL_ROUND))\n",
    "        R0.append(reproduction_number(infected_counts[t], infected_counts[t-1]))\n",
    "        \n",
    "        total_susceptible = sum(1 for _, data in erdos_renyi.nodes(data=True) if data['status'] == 'S')\n",
    "        susceptible_counts.append(total_susceptible)\n",
    "        susceptible_fractions.append(round(total_susceptible / N, DECIMAL_ROUND))\n",
    "        \n",
    "    case['infected_counts'] = infected_counts\n",
    "    case['susceptible_counts'] = susceptible_counts\n",
    "    case['infected_fractions'] = infected_fractions\n",
    "    case['susceptible_fractions'] = susceptible_fractions\n",
    "    case['R0'] = R0\n",
    "    # Change the first value to positive\n",
    "    case['R0'][0] = case['R0'][0] * -1    \n",
    "        \n",
    "    return case\n",
    "\n",
    "def run_evolution(cases, num_simulations, T, infected_init):\n",
    "    \"\"\"\n",
    "    Run the evolution for plotting by calculating mean and confidence intervals.\n",
    "    \"\"\"     \n",
    "    \n",
    "    \n",
    "    for index, case in enumerate(cases):\n",
    "        for _ in tqdm(range(num_simulations)):\n",
    "            results = []\n",
    "            run_simulation(case=cases[index], T=T, infected_init=infected_init)\n",
    "            results.append(case['infected_counts'])\n",
    "            \n",
    "        mean_infected = np.mean(results, axis=0)\n",
    "        std_infected = np.std(results, axis=0)\n",
    "        confidence_interval = COFIDENCE_INTERVAL * (std_infected / np.sqrt(num_simulations))\n",
    "                      \n",
    "        case['mean_infected'] = mean_infected.tolist()\n",
    "        case['std_infected'] = std_infected.tolist()\n",
    "        case['confidence_interval'] = confidence_interval.tolist()\n",
    "                      \n",
    "    return cases"
   ]
  },
  {
   "cell_type": "code",
   "execution_count": 18,
   "id": "eee8aa3b",
   "metadata": {},
   "outputs": [],
   "source": [
    "def plot_cases_amount(cases, titles):\n",
    "    \"\"\"\n",
    "    Plots infected and susceptible counts over time for different cases.\n",
    "    \"\"\"\n",
    "    fig_list = []\n",
    "    \n",
    "    for case, title in zip(cases, titles):\n",
    "        time_steps = list(range(len(case['infected_counts'])))\n",
    "        fig = go.Figure()\n",
    "                         \n",
    "        fig.add_trace(go.Scatter(x=time_steps, y=case['infected_counts'], mode='lines', name='Infected'))\n",
    "        fig.add_trace(go.Scatter(x=time_steps, y=case['susceptible_counts'], mode='lines', name='Susceptible'))\n",
    "                         \n",
    "        fig.update_layout(\n",
    "            title=title,\n",
    "            title_font=dict(size=22),\n",
    "            xaxis=dict(title='Time Step', title_font=dict(size=20), tickfont=dict(size=16)),\n",
    "            yaxis=dict(title='Amount of People', title_font=dict(size=20), tickfont=dict(size=16)),\n",
    "            legend=dict(title='Category', font=dict(size=18))\n",
    "        )\n",
    "                         \n",
    "        fig.update_traces(line=dict(width=5))\n",
    "        fig_list.append(fig)\n",
    "    \n",
    "    for fig in fig_list:\n",
    "        fig.show()\n",
    "    \n",
    "def plot_array(cases, titles, base):\n",
    "    \"\"\"\n",
    "    Plots bar charts for different simulation results over time.\n",
    "    \"\"\"\n",
    "    fig = go.Figure()\n",
    "    \n",
    "    for case, title in zip(cases, titles['case_value']):\n",
    "        time_steps = list(range(len(case[base])))\n",
    "        fig.add_trace(go.Bar(x=time_steps, y=case[base], name=title, width=0.50))\n",
    "\n",
    "    fig.update_layout(\n",
    "        title=titles['fig_title'],\n",
    "        title_font=dict(size=22),\n",
    "        xaxis=dict(title=titles['x'], title_font=dict(size=20), tickfont=dict(size=16)),\n",
    "        yaxis=dict(title=titles['y'], title_font=dict(size=20), tickfont=dict(size=16)),\n",
    "        legend=dict(title='Category', font=dict(size=18))\n",
    "    )\n",
    "    \n",
    "    fig.show()\n",
    "\n",
    "\n",
    "def plot_evolution(cases):\n",
    "    # Plotting\n",
    "    for case in cases:    \n",
    "        time_steps = list(range(len(case['infected_counts'])))\n",
    "        N = case['N']\n",
    "        mean_infected = np.array(case['mean_infected'])\n",
    "        confidence_interval = case['confidence_interval']\n",
    "\n",
    "        plt.plot(time_steps, mean_infected / N, label=f\"i:{case['i']}, average k:{case['average_k']}\")\n",
    "        plt.fill_between(time_steps,\n",
    "                         (mean_infected - confidence_interval) / N,\n",
    "                         (mean_infected + confidence_interval) / N, alpha=0.3)\n",
    "\n",
    "    plt.xlabel('Time Steps')\n",
    "    plt.ylabel('Normalized Prevalence (I/N)')\n",
    "    plt.title('Expected Evolution of I/N over Time')\n",
    "    plt.legend()\n",
    "    plt.show()"
   ]
  },
  {
   "cell_type": "code",
   "execution_count": 19,
   "id": "96b58e2c",
   "metadata": {},
   "outputs": [],
   "source": [
    "cases = [\n",
    "    {\"name\": \"i\", \"N\": 10**5, \"i\": 0.01, \"average_k\": 5.0},\n",
    "    {\"name\": \"ii\", \"N\": 10**5, \"i\": 0.1, \"average_k\": 0.8}\n",
    "]\n",
    "\n",
    "\n",
    "DECIMAL_ROUND = 2\n",
    "COFIDENCE_INTERVAL = 1.98\n",
    "\n",
    "T=100\n",
    "infected_init=0.1"
   ]
  },
  {
   "cell_type": "code",
   "execution_count": null,
   "id": "f6041f76",
   "metadata": {},
   "outputs": [],
   "source": []
  },
  {
   "cell_type": "code",
   "execution_count": 20,
   "id": "b4dbc607",
   "metadata": {
    "scrolled": true
   },
   "outputs": [
    {
     "name": "stderr",
     "output_type": "stream",
     "text": [
      "100%|██████████| 30/30 [13:33<00:00, 27.11s/it]\n",
      "100%|██████████| 30/30 [07:52<00:00, 15.76s/it]"
     ]
    },
    {
     "name": "stdout",
     "output_type": "stream",
     "text": [
      "CPU times: user 20min 36s, sys: 9.56 s, total: 20min 45s\n",
      "Wall time: 21min 26s\n"
     ]
    },
    {
     "name": "stderr",
     "output_type": "stream",
     "text": [
      "\n"
     ]
    },
    {
     "data": {
      "text/plain": [
       "[{'name': 'i',\n",
       "  'N': 100000,\n",
       "  'i': 0.01,\n",
       "  'average_k': 5.0,\n",
       "  'infected_counts': [10001,\n",
       "   10430,\n",
       "   10897,\n",
       "   11382,\n",
       "   11899,\n",
       "   12396,\n",
       "   12943,\n",
       "   13483,\n",
       "   14047,\n",
       "   14627,\n",
       "   15222,\n",
       "   15818,\n",
       "   16449,\n",
       "   17076,\n",
       "   17773,\n",
       "   18473,\n",
       "   19194,\n",
       "   19857,\n",
       "   20574,\n",
       "   21291,\n",
       "   22052,\n",
       "   22818,\n",
       "   23639,\n",
       "   24450,\n",
       "   25285,\n",
       "   26086,\n",
       "   26860,\n",
       "   27737,\n",
       "   28610,\n",
       "   29484,\n",
       "   30383,\n",
       "   31292,\n",
       "   32193,\n",
       "   33101,\n",
       "   34046,\n",
       "   34991,\n",
       "   35930,\n",
       "   36866,\n",
       "   37754,\n",
       "   38727,\n",
       "   39668,\n",
       "   40650,\n",
       "   41623,\n",
       "   42658,\n",
       "   43637,\n",
       "   44584,\n",
       "   45522,\n",
       "   46525,\n",
       "   47504,\n",
       "   48507,\n",
       "   49457,\n",
       "   50464,\n",
       "   51422,\n",
       "   52376,\n",
       "   53347,\n",
       "   54278,\n",
       "   55153,\n",
       "   56097,\n",
       "   57001,\n",
       "   57852,\n",
       "   58794,\n",
       "   59678,\n",
       "   60552,\n",
       "   61454,\n",
       "   62326,\n",
       "   63111,\n",
       "   63940,\n",
       "   64765,\n",
       "   65589,\n",
       "   66415,\n",
       "   67200,\n",
       "   67951,\n",
       "   68670,\n",
       "   69388,\n",
       "   70093,\n",
       "   70791,\n",
       "   71506,\n",
       "   72169,\n",
       "   72878,\n",
       "   73549,\n",
       "   74184,\n",
       "   74815,\n",
       "   75455,\n",
       "   76006,\n",
       "   76666,\n",
       "   77259,\n",
       "   77787,\n",
       "   78360,\n",
       "   78896,\n",
       "   79444,\n",
       "   79951,\n",
       "   80462,\n",
       "   80930,\n",
       "   81380,\n",
       "   81826,\n",
       "   82278,\n",
       "   82732,\n",
       "   83223,\n",
       "   83629,\n",
       "   84054,\n",
       "   84435],\n",
       "  'susceptible_counts': [89999,\n",
       "   89570,\n",
       "   89103,\n",
       "   88618,\n",
       "   88101,\n",
       "   87604,\n",
       "   87057,\n",
       "   86517,\n",
       "   85953,\n",
       "   85373,\n",
       "   84778,\n",
       "   84182,\n",
       "   83551,\n",
       "   82924,\n",
       "   82227,\n",
       "   81527,\n",
       "   80806,\n",
       "   80143,\n",
       "   79426,\n",
       "   78709,\n",
       "   77948,\n",
       "   77182,\n",
       "   76361,\n",
       "   75550,\n",
       "   74715,\n",
       "   73914,\n",
       "   73140,\n",
       "   72263,\n",
       "   71390,\n",
       "   70516,\n",
       "   69617,\n",
       "   68708,\n",
       "   67807,\n",
       "   66899,\n",
       "   65954,\n",
       "   65009,\n",
       "   64070,\n",
       "   63134,\n",
       "   62246,\n",
       "   61273,\n",
       "   60332,\n",
       "   59350,\n",
       "   58377,\n",
       "   57342,\n",
       "   56363,\n",
       "   55416,\n",
       "   54478,\n",
       "   53475,\n",
       "   52496,\n",
       "   51493,\n",
       "   50543,\n",
       "   49536,\n",
       "   48578,\n",
       "   47624,\n",
       "   46653,\n",
       "   45722,\n",
       "   44847,\n",
       "   43903,\n",
       "   42999,\n",
       "   42148,\n",
       "   41206,\n",
       "   40322,\n",
       "   39448,\n",
       "   38546,\n",
       "   37674,\n",
       "   36889,\n",
       "   36060,\n",
       "   35235,\n",
       "   34411,\n",
       "   33585,\n",
       "   32800,\n",
       "   32049,\n",
       "   31330,\n",
       "   30612,\n",
       "   29907,\n",
       "   29209,\n",
       "   28494,\n",
       "   27831,\n",
       "   27122,\n",
       "   26451,\n",
       "   25816,\n",
       "   25185,\n",
       "   24545,\n",
       "   23994,\n",
       "   23334,\n",
       "   22741,\n",
       "   22213,\n",
       "   21640,\n",
       "   21104,\n",
       "   20556,\n",
       "   20049,\n",
       "   19538,\n",
       "   19070,\n",
       "   18620,\n",
       "   18174,\n",
       "   17722,\n",
       "   17268,\n",
       "   16777,\n",
       "   16371,\n",
       "   15946,\n",
       "   15565],\n",
       "  'infected_fractions': [0.1,\n",
       "   0.1,\n",
       "   0.11,\n",
       "   0.11,\n",
       "   0.12,\n",
       "   0.12,\n",
       "   0.13,\n",
       "   0.13,\n",
       "   0.14,\n",
       "   0.15,\n",
       "   0.15,\n",
       "   0.16,\n",
       "   0.16,\n",
       "   0.17,\n",
       "   0.18,\n",
       "   0.18,\n",
       "   0.19,\n",
       "   0.2,\n",
       "   0.21,\n",
       "   0.21,\n",
       "   0.22,\n",
       "   0.23,\n",
       "   0.24,\n",
       "   0.24,\n",
       "   0.25,\n",
       "   0.26,\n",
       "   0.27,\n",
       "   0.28,\n",
       "   0.29,\n",
       "   0.29,\n",
       "   0.3,\n",
       "   0.31,\n",
       "   0.32,\n",
       "   0.33,\n",
       "   0.34,\n",
       "   0.35,\n",
       "   0.36,\n",
       "   0.37,\n",
       "   0.38,\n",
       "   0.39,\n",
       "   0.4,\n",
       "   0.41,\n",
       "   0.42,\n",
       "   0.43,\n",
       "   0.44,\n",
       "   0.45,\n",
       "   0.46,\n",
       "   0.47,\n",
       "   0.48,\n",
       "   0.49,\n",
       "   0.49,\n",
       "   0.5,\n",
       "   0.51,\n",
       "   0.52,\n",
       "   0.53,\n",
       "   0.54,\n",
       "   0.55,\n",
       "   0.56,\n",
       "   0.57,\n",
       "   0.58,\n",
       "   0.59,\n",
       "   0.6,\n",
       "   0.61,\n",
       "   0.61,\n",
       "   0.62,\n",
       "   0.63,\n",
       "   0.64,\n",
       "   0.65,\n",
       "   0.66,\n",
       "   0.66,\n",
       "   0.67,\n",
       "   0.68,\n",
       "   0.69,\n",
       "   0.69,\n",
       "   0.7,\n",
       "   0.71,\n",
       "   0.72,\n",
       "   0.72,\n",
       "   0.73,\n",
       "   0.74,\n",
       "   0.74,\n",
       "   0.75,\n",
       "   0.75,\n",
       "   0.76,\n",
       "   0.77,\n",
       "   0.77,\n",
       "   0.78,\n",
       "   0.78,\n",
       "   0.79,\n",
       "   0.79,\n",
       "   0.8,\n",
       "   0.8,\n",
       "   0.81,\n",
       "   0.81,\n",
       "   0.82,\n",
       "   0.82,\n",
       "   0.83,\n",
       "   0.83,\n",
       "   0.84,\n",
       "   0.84,\n",
       "   0.84],\n",
       "  'susceptible_fractions': [0.9,\n",
       "   0.9,\n",
       "   0.89,\n",
       "   0.89,\n",
       "   0.88,\n",
       "   0.88,\n",
       "   0.87,\n",
       "   0.87,\n",
       "   0.86,\n",
       "   0.85,\n",
       "   0.85,\n",
       "   0.84,\n",
       "   0.84,\n",
       "   0.83,\n",
       "   0.82,\n",
       "   0.82,\n",
       "   0.81,\n",
       "   0.8,\n",
       "   0.79,\n",
       "   0.79,\n",
       "   0.78,\n",
       "   0.77,\n",
       "   0.76,\n",
       "   0.76,\n",
       "   0.75,\n",
       "   0.74,\n",
       "   0.73,\n",
       "   0.72,\n",
       "   0.71,\n",
       "   0.71,\n",
       "   0.7,\n",
       "   0.69,\n",
       "   0.68,\n",
       "   0.67,\n",
       "   0.66,\n",
       "   0.65,\n",
       "   0.64,\n",
       "   0.63,\n",
       "   0.62,\n",
       "   0.61,\n",
       "   0.6,\n",
       "   0.59,\n",
       "   0.58,\n",
       "   0.57,\n",
       "   0.56,\n",
       "   0.55,\n",
       "   0.54,\n",
       "   0.53,\n",
       "   0.52,\n",
       "   0.51,\n",
       "   0.51,\n",
       "   0.5,\n",
       "   0.49,\n",
       "   0.48,\n",
       "   0.47,\n",
       "   0.46,\n",
       "   0.45,\n",
       "   0.44,\n",
       "   0.43,\n",
       "   0.42,\n",
       "   0.41,\n",
       "   0.4,\n",
       "   0.39,\n",
       "   0.39,\n",
       "   0.38,\n",
       "   0.37,\n",
       "   0.36,\n",
       "   0.35,\n",
       "   0.34,\n",
       "   0.34,\n",
       "   0.33,\n",
       "   0.32,\n",
       "   0.31,\n",
       "   0.31,\n",
       "   0.3,\n",
       "   0.29,\n",
       "   0.28,\n",
       "   0.28,\n",
       "   0.27,\n",
       "   0.26,\n",
       "   0.26,\n",
       "   0.25,\n",
       "   0.25,\n",
       "   0.24,\n",
       "   0.23,\n",
       "   0.23,\n",
       "   0.22,\n",
       "   0.22,\n",
       "   0.21,\n",
       "   0.21,\n",
       "   0.2,\n",
       "   0.2,\n",
       "   0.19,\n",
       "   0.19,\n",
       "   0.18,\n",
       "   0.18,\n",
       "   0.17,\n",
       "   0.17,\n",
       "   0.16,\n",
       "   0.16,\n",
       "   0.16],\n",
       "  'R0': [0.04,\n",
       "   0.04,\n",
       "   0.04,\n",
       "   0.04,\n",
       "   0.05,\n",
       "   0.04,\n",
       "   0.04,\n",
       "   0.04,\n",
       "   0.04,\n",
       "   0.04,\n",
       "   0.04,\n",
       "   0.04,\n",
       "   0.04,\n",
       "   0.04,\n",
       "   0.04,\n",
       "   0.04,\n",
       "   0.04,\n",
       "   0.03,\n",
       "   0.04,\n",
       "   0.03,\n",
       "   0.04,\n",
       "   0.03,\n",
       "   0.04,\n",
       "   0.03,\n",
       "   0.03,\n",
       "   0.03,\n",
       "   0.03,\n",
       "   0.03,\n",
       "   0.03,\n",
       "   0.03,\n",
       "   0.03,\n",
       "   0.03,\n",
       "   0.03,\n",
       "   0.03,\n",
       "   0.03,\n",
       "   0.03,\n",
       "   0.03,\n",
       "   0.03,\n",
       "   0.02,\n",
       "   0.03,\n",
       "   0.02,\n",
       "   0.02,\n",
       "   0.02,\n",
       "   0.02,\n",
       "   0.02,\n",
       "   0.02,\n",
       "   0.02,\n",
       "   0.02,\n",
       "   0.02,\n",
       "   0.02,\n",
       "   0.02,\n",
       "   0.02,\n",
       "   0.02,\n",
       "   0.02,\n",
       "   0.02,\n",
       "   0.02,\n",
       "   0.02,\n",
       "   0.02,\n",
       "   0.02,\n",
       "   0.01,\n",
       "   0.02,\n",
       "   0.02,\n",
       "   0.01,\n",
       "   0.01,\n",
       "   0.01,\n",
       "   0.01,\n",
       "   0.01,\n",
       "   0.01,\n",
       "   0.01,\n",
       "   0.01,\n",
       "   0.01,\n",
       "   0.01,\n",
       "   0.01,\n",
       "   0.01,\n",
       "   0.01,\n",
       "   0.01,\n",
       "   0.01,\n",
       "   0.01,\n",
       "   0.01,\n",
       "   0.01,\n",
       "   0.01,\n",
       "   0.01,\n",
       "   0.01,\n",
       "   0.01,\n",
       "   0.01,\n",
       "   0.01,\n",
       "   0.01,\n",
       "   0.01,\n",
       "   0.01,\n",
       "   0.01,\n",
       "   0.01,\n",
       "   0.01,\n",
       "   0.01,\n",
       "   0.01,\n",
       "   0.01,\n",
       "   0.01,\n",
       "   0.01,\n",
       "   0.01,\n",
       "   0.0,\n",
       "   0.01],\n",
       "  'mean_infected': [10001.0,\n",
       "   10430.0,\n",
       "   10897.0,\n",
       "   11382.0,\n",
       "   11899.0,\n",
       "   12396.0,\n",
       "   12943.0,\n",
       "   13483.0,\n",
       "   14047.0,\n",
       "   14627.0,\n",
       "   15222.0,\n",
       "   15818.0,\n",
       "   16449.0,\n",
       "   17076.0,\n",
       "   17773.0,\n",
       "   18473.0,\n",
       "   19194.0,\n",
       "   19857.0,\n",
       "   20574.0,\n",
       "   21291.0,\n",
       "   22052.0,\n",
       "   22818.0,\n",
       "   23639.0,\n",
       "   24450.0,\n",
       "   25285.0,\n",
       "   26086.0,\n",
       "   26860.0,\n",
       "   27737.0,\n",
       "   28610.0,\n",
       "   29484.0,\n",
       "   30383.0,\n",
       "   31292.0,\n",
       "   32193.0,\n",
       "   33101.0,\n",
       "   34046.0,\n",
       "   34991.0,\n",
       "   35930.0,\n",
       "   36866.0,\n",
       "   37754.0,\n",
       "   38727.0,\n",
       "   39668.0,\n",
       "   40650.0,\n",
       "   41623.0,\n",
       "   42658.0,\n",
       "   43637.0,\n",
       "   44584.0,\n",
       "   45522.0,\n",
       "   46525.0,\n",
       "   47504.0,\n",
       "   48507.0,\n",
       "   49457.0,\n",
       "   50464.0,\n",
       "   51422.0,\n",
       "   52376.0,\n",
       "   53347.0,\n",
       "   54278.0,\n",
       "   55153.0,\n",
       "   56097.0,\n",
       "   57001.0,\n",
       "   57852.0,\n",
       "   58794.0,\n",
       "   59678.0,\n",
       "   60552.0,\n",
       "   61454.0,\n",
       "   62326.0,\n",
       "   63111.0,\n",
       "   63940.0,\n",
       "   64765.0,\n",
       "   65589.0,\n",
       "   66415.0,\n",
       "   67200.0,\n",
       "   67951.0,\n",
       "   68670.0,\n",
       "   69388.0,\n",
       "   70093.0,\n",
       "   70791.0,\n",
       "   71506.0,\n",
       "   72169.0,\n",
       "   72878.0,\n",
       "   73549.0,\n",
       "   74184.0,\n",
       "   74815.0,\n",
       "   75455.0,\n",
       "   76006.0,\n",
       "   76666.0,\n",
       "   77259.0,\n",
       "   77787.0,\n",
       "   78360.0,\n",
       "   78896.0,\n",
       "   79444.0,\n",
       "   79951.0,\n",
       "   80462.0,\n",
       "   80930.0,\n",
       "   81380.0,\n",
       "   81826.0,\n",
       "   82278.0,\n",
       "   82732.0,\n",
       "   83223.0,\n",
       "   83629.0,\n",
       "   84054.0,\n",
       "   84435.0],\n",
       "  'std_infected': [0.0,\n",
       "   0.0,\n",
       "   0.0,\n",
       "   0.0,\n",
       "   0.0,\n",
       "   0.0,\n",
       "   0.0,\n",
       "   0.0,\n",
       "   0.0,\n",
       "   0.0,\n",
       "   0.0,\n",
       "   0.0,\n",
       "   0.0,\n",
       "   0.0,\n",
       "   0.0,\n",
       "   0.0,\n",
       "   0.0,\n",
       "   0.0,\n",
       "   0.0,\n",
       "   0.0,\n",
       "   0.0,\n",
       "   0.0,\n",
       "   0.0,\n",
       "   0.0,\n",
       "   0.0,\n",
       "   0.0,\n",
       "   0.0,\n",
       "   0.0,\n",
       "   0.0,\n",
       "   0.0,\n",
       "   0.0,\n",
       "   0.0,\n",
       "   0.0,\n",
       "   0.0,\n",
       "   0.0,\n",
       "   0.0,\n",
       "   0.0,\n",
       "   0.0,\n",
       "   0.0,\n",
       "   0.0,\n",
       "   0.0,\n",
       "   0.0,\n",
       "   0.0,\n",
       "   0.0,\n",
       "   0.0,\n",
       "   0.0,\n",
       "   0.0,\n",
       "   0.0,\n",
       "   0.0,\n",
       "   0.0,\n",
       "   0.0,\n",
       "   0.0,\n",
       "   0.0,\n",
       "   0.0,\n",
       "   0.0,\n",
       "   0.0,\n",
       "   0.0,\n",
       "   0.0,\n",
       "   0.0,\n",
       "   0.0,\n",
       "   0.0,\n",
       "   0.0,\n",
       "   0.0,\n",
       "   0.0,\n",
       "   0.0,\n",
       "   0.0,\n",
       "   0.0,\n",
       "   0.0,\n",
       "   0.0,\n",
       "   0.0,\n",
       "   0.0,\n",
       "   0.0,\n",
       "   0.0,\n",
       "   0.0,\n",
       "   0.0,\n",
       "   0.0,\n",
       "   0.0,\n",
       "   0.0,\n",
       "   0.0,\n",
       "   0.0,\n",
       "   0.0,\n",
       "   0.0,\n",
       "   0.0,\n",
       "   0.0,\n",
       "   0.0,\n",
       "   0.0,\n",
       "   0.0,\n",
       "   0.0,\n",
       "   0.0,\n",
       "   0.0,\n",
       "   0.0,\n",
       "   0.0,\n",
       "   0.0,\n",
       "   0.0,\n",
       "   0.0,\n",
       "   0.0,\n",
       "   0.0,\n",
       "   0.0,\n",
       "   0.0,\n",
       "   0.0,\n",
       "   0.0],\n",
       "  'confidence_interval': [0.0,\n",
       "   0.0,\n",
       "   0.0,\n",
       "   0.0,\n",
       "   0.0,\n",
       "   0.0,\n",
       "   0.0,\n",
       "   0.0,\n",
       "   0.0,\n",
       "   0.0,\n",
       "   0.0,\n",
       "   0.0,\n",
       "   0.0,\n",
       "   0.0,\n",
       "   0.0,\n",
       "   0.0,\n",
       "   0.0,\n",
       "   0.0,\n",
       "   0.0,\n",
       "   0.0,\n",
       "   0.0,\n",
       "   0.0,\n",
       "   0.0,\n",
       "   0.0,\n",
       "   0.0,\n",
       "   0.0,\n",
       "   0.0,\n",
       "   0.0,\n",
       "   0.0,\n",
       "   0.0,\n",
       "   0.0,\n",
       "   0.0,\n",
       "   0.0,\n",
       "   0.0,\n",
       "   0.0,\n",
       "   0.0,\n",
       "   0.0,\n",
       "   0.0,\n",
       "   0.0,\n",
       "   0.0,\n",
       "   0.0,\n",
       "   0.0,\n",
       "   0.0,\n",
       "   0.0,\n",
       "   0.0,\n",
       "   0.0,\n",
       "   0.0,\n",
       "   0.0,\n",
       "   0.0,\n",
       "   0.0,\n",
       "   0.0,\n",
       "   0.0,\n",
       "   0.0,\n",
       "   0.0,\n",
       "   0.0,\n",
       "   0.0,\n",
       "   0.0,\n",
       "   0.0,\n",
       "   0.0,\n",
       "   0.0,\n",
       "   0.0,\n",
       "   0.0,\n",
       "   0.0,\n",
       "   0.0,\n",
       "   0.0,\n",
       "   0.0,\n",
       "   0.0,\n",
       "   0.0,\n",
       "   0.0,\n",
       "   0.0,\n",
       "   0.0,\n",
       "   0.0,\n",
       "   0.0,\n",
       "   0.0,\n",
       "   0.0,\n",
       "   0.0,\n",
       "   0.0,\n",
       "   0.0,\n",
       "   0.0,\n",
       "   0.0,\n",
       "   0.0,\n",
       "   0.0,\n",
       "   0.0,\n",
       "   0.0,\n",
       "   0.0,\n",
       "   0.0,\n",
       "   0.0,\n",
       "   0.0,\n",
       "   0.0,\n",
       "   0.0,\n",
       "   0.0,\n",
       "   0.0,\n",
       "   0.0,\n",
       "   0.0,\n",
       "   0.0,\n",
       "   0.0,\n",
       "   0.0,\n",
       "   0.0,\n",
       "   0.0,\n",
       "   0.0,\n",
       "   0.0]},\n",
       " {'name': 'ii',\n",
       "  'N': 100000,\n",
       "  'i': 0.1,\n",
       "  'average_k': 0.8,\n",
       "  'infected_counts': [10001,\n",
       "   10758,\n",
       "   11475,\n",
       "   12151,\n",
       "   12852,\n",
       "   13489,\n",
       "   14092,\n",
       "   14646,\n",
       "   15253,\n",
       "   15832,\n",
       "   16357,\n",
       "   16874,\n",
       "   17342,\n",
       "   17818,\n",
       "   18257,\n",
       "   18691,\n",
       "   19088,\n",
       "   19483,\n",
       "   19868,\n",
       "   20235,\n",
       "   20579,\n",
       "   20882,\n",
       "   21202,\n",
       "   21487,\n",
       "   21756,\n",
       "   22016,\n",
       "   22285,\n",
       "   22531,\n",
       "   22763,\n",
       "   22993,\n",
       "   23223,\n",
       "   23439,\n",
       "   23632,\n",
       "   23810,\n",
       "   23993,\n",
       "   24187,\n",
       "   24347,\n",
       "   24513,\n",
       "   24680,\n",
       "   24816,\n",
       "   24972,\n",
       "   25107,\n",
       "   25235,\n",
       "   25355,\n",
       "   25478,\n",
       "   25601,\n",
       "   25701,\n",
       "   25792,\n",
       "   25906,\n",
       "   26003,\n",
       "   26088,\n",
       "   26177,\n",
       "   26260,\n",
       "   26354,\n",
       "   26428,\n",
       "   26495,\n",
       "   26570,\n",
       "   26622,\n",
       "   26689,\n",
       "   26748,\n",
       "   26814,\n",
       "   26874,\n",
       "   26920,\n",
       "   26961,\n",
       "   27017,\n",
       "   27073,\n",
       "   27123,\n",
       "   27166,\n",
       "   27216,\n",
       "   27261,\n",
       "   27305,\n",
       "   27344,\n",
       "   27381,\n",
       "   27414,\n",
       "   27440,\n",
       "   27468,\n",
       "   27499,\n",
       "   27528,\n",
       "   27550,\n",
       "   27575,\n",
       "   27597,\n",
       "   27621,\n",
       "   27644,\n",
       "   27660,\n",
       "   27680,\n",
       "   27703,\n",
       "   27718,\n",
       "   27733,\n",
       "   27752,\n",
       "   27765,\n",
       "   27786,\n",
       "   27800,\n",
       "   27815,\n",
       "   27829,\n",
       "   27845,\n",
       "   27850,\n",
       "   27870,\n",
       "   27888,\n",
       "   27905,\n",
       "   27916,\n",
       "   27929],\n",
       "  'susceptible_counts': [89999,\n",
       "   89242,\n",
       "   88525,\n",
       "   87849,\n",
       "   87148,\n",
       "   86511,\n",
       "   85908,\n",
       "   85354,\n",
       "   84747,\n",
       "   84168,\n",
       "   83643,\n",
       "   83126,\n",
       "   82658,\n",
       "   82182,\n",
       "   81743,\n",
       "   81309,\n",
       "   80912,\n",
       "   80517,\n",
       "   80132,\n",
       "   79765,\n",
       "   79421,\n",
       "   79118,\n",
       "   78798,\n",
       "   78513,\n",
       "   78244,\n",
       "   77984,\n",
       "   77715,\n",
       "   77469,\n",
       "   77237,\n",
       "   77007,\n",
       "   76777,\n",
       "   76561,\n",
       "   76368,\n",
       "   76190,\n",
       "   76007,\n",
       "   75813,\n",
       "   75653,\n",
       "   75487,\n",
       "   75320,\n",
       "   75184,\n",
       "   75028,\n",
       "   74893,\n",
       "   74765,\n",
       "   74645,\n",
       "   74522,\n",
       "   74399,\n",
       "   74299,\n",
       "   74208,\n",
       "   74094,\n",
       "   73997,\n",
       "   73912,\n",
       "   73823,\n",
       "   73740,\n",
       "   73646,\n",
       "   73572,\n",
       "   73505,\n",
       "   73430,\n",
       "   73378,\n",
       "   73311,\n",
       "   73252,\n",
       "   73186,\n",
       "   73126,\n",
       "   73080,\n",
       "   73039,\n",
       "   72983,\n",
       "   72927,\n",
       "   72877,\n",
       "   72834,\n",
       "   72784,\n",
       "   72739,\n",
       "   72695,\n",
       "   72656,\n",
       "   72619,\n",
       "   72586,\n",
       "   72560,\n",
       "   72532,\n",
       "   72501,\n",
       "   72472,\n",
       "   72450,\n",
       "   72425,\n",
       "   72403,\n",
       "   72379,\n",
       "   72356,\n",
       "   72340,\n",
       "   72320,\n",
       "   72297,\n",
       "   72282,\n",
       "   72267,\n",
       "   72248,\n",
       "   72235,\n",
       "   72214,\n",
       "   72200,\n",
       "   72185,\n",
       "   72171,\n",
       "   72155,\n",
       "   72150,\n",
       "   72130,\n",
       "   72112,\n",
       "   72095,\n",
       "   72084,\n",
       "   72071],\n",
       "  'infected_fractions': [0.1,\n",
       "   0.11,\n",
       "   0.11,\n",
       "   0.12,\n",
       "   0.13,\n",
       "   0.13,\n",
       "   0.14,\n",
       "   0.15,\n",
       "   0.15,\n",
       "   0.16,\n",
       "   0.16,\n",
       "   0.17,\n",
       "   0.17,\n",
       "   0.18,\n",
       "   0.18,\n",
       "   0.19,\n",
       "   0.19,\n",
       "   0.19,\n",
       "   0.2,\n",
       "   0.2,\n",
       "   0.21,\n",
       "   0.21,\n",
       "   0.21,\n",
       "   0.21,\n",
       "   0.22,\n",
       "   0.22,\n",
       "   0.22,\n",
       "   0.23,\n",
       "   0.23,\n",
       "   0.23,\n",
       "   0.23,\n",
       "   0.23,\n",
       "   0.24,\n",
       "   0.24,\n",
       "   0.24,\n",
       "   0.24,\n",
       "   0.24,\n",
       "   0.25,\n",
       "   0.25,\n",
       "   0.25,\n",
       "   0.25,\n",
       "   0.25,\n",
       "   0.25,\n",
       "   0.25,\n",
       "   0.25,\n",
       "   0.26,\n",
       "   0.26,\n",
       "   0.26,\n",
       "   0.26,\n",
       "   0.26,\n",
       "   0.26,\n",
       "   0.26,\n",
       "   0.26,\n",
       "   0.26,\n",
       "   0.26,\n",
       "   0.26,\n",
       "   0.27,\n",
       "   0.27,\n",
       "   0.27,\n",
       "   0.27,\n",
       "   0.27,\n",
       "   0.27,\n",
       "   0.27,\n",
       "   0.27,\n",
       "   0.27,\n",
       "   0.27,\n",
       "   0.27,\n",
       "   0.27,\n",
       "   0.27,\n",
       "   0.27,\n",
       "   0.27,\n",
       "   0.27,\n",
       "   0.27,\n",
       "   0.27,\n",
       "   0.27,\n",
       "   0.27,\n",
       "   0.27,\n",
       "   0.28,\n",
       "   0.28,\n",
       "   0.28,\n",
       "   0.28,\n",
       "   0.28,\n",
       "   0.28,\n",
       "   0.28,\n",
       "   0.28,\n",
       "   0.28,\n",
       "   0.28,\n",
       "   0.28,\n",
       "   0.28,\n",
       "   0.28,\n",
       "   0.28,\n",
       "   0.28,\n",
       "   0.28,\n",
       "   0.28,\n",
       "   0.28,\n",
       "   0.28,\n",
       "   0.28,\n",
       "   0.28,\n",
       "   0.28,\n",
       "   0.28,\n",
       "   0.28],\n",
       "  'susceptible_fractions': [0.9,\n",
       "   0.89,\n",
       "   0.89,\n",
       "   0.88,\n",
       "   0.87,\n",
       "   0.87,\n",
       "   0.86,\n",
       "   0.85,\n",
       "   0.85,\n",
       "   0.84,\n",
       "   0.84,\n",
       "   0.83,\n",
       "   0.83,\n",
       "   0.82,\n",
       "   0.82,\n",
       "   0.81,\n",
       "   0.81,\n",
       "   0.81,\n",
       "   0.8,\n",
       "   0.8,\n",
       "   0.79,\n",
       "   0.79,\n",
       "   0.79,\n",
       "   0.79,\n",
       "   0.78,\n",
       "   0.78,\n",
       "   0.78,\n",
       "   0.77,\n",
       "   0.77,\n",
       "   0.77,\n",
       "   0.77,\n",
       "   0.77,\n",
       "   0.76,\n",
       "   0.76,\n",
       "   0.76,\n",
       "   0.76,\n",
       "   0.76,\n",
       "   0.75,\n",
       "   0.75,\n",
       "   0.75,\n",
       "   0.75,\n",
       "   0.75,\n",
       "   0.75,\n",
       "   0.75,\n",
       "   0.75,\n",
       "   0.74,\n",
       "   0.74,\n",
       "   0.74,\n",
       "   0.74,\n",
       "   0.74,\n",
       "   0.74,\n",
       "   0.74,\n",
       "   0.74,\n",
       "   0.74,\n",
       "   0.74,\n",
       "   0.74,\n",
       "   0.73,\n",
       "   0.73,\n",
       "   0.73,\n",
       "   0.73,\n",
       "   0.73,\n",
       "   0.73,\n",
       "   0.73,\n",
       "   0.73,\n",
       "   0.73,\n",
       "   0.73,\n",
       "   0.73,\n",
       "   0.73,\n",
       "   0.73,\n",
       "   0.73,\n",
       "   0.73,\n",
       "   0.73,\n",
       "   0.73,\n",
       "   0.73,\n",
       "   0.73,\n",
       "   0.73,\n",
       "   0.73,\n",
       "   0.72,\n",
       "   0.72,\n",
       "   0.72,\n",
       "   0.72,\n",
       "   0.72,\n",
       "   0.72,\n",
       "   0.72,\n",
       "   0.72,\n",
       "   0.72,\n",
       "   0.72,\n",
       "   0.72,\n",
       "   0.72,\n",
       "   0.72,\n",
       "   0.72,\n",
       "   0.72,\n",
       "   0.72,\n",
       "   0.72,\n",
       "   0.72,\n",
       "   0.72,\n",
       "   0.72,\n",
       "   0.72,\n",
       "   0.72,\n",
       "   0.72,\n",
       "   0.72],\n",
       "  'R0': [0.07,\n",
       "   0.08,\n",
       "   0.07,\n",
       "   0.06,\n",
       "   0.06,\n",
       "   0.05,\n",
       "   0.04,\n",
       "   0.04,\n",
       "   0.04,\n",
       "   0.04,\n",
       "   0.03,\n",
       "   0.03,\n",
       "   0.03,\n",
       "   0.03,\n",
       "   0.02,\n",
       "   0.02,\n",
       "   0.02,\n",
       "   0.02,\n",
       "   0.02,\n",
       "   0.02,\n",
       "   0.02,\n",
       "   0.01,\n",
       "   0.02,\n",
       "   0.01,\n",
       "   0.01,\n",
       "   0.01,\n",
       "   0.01,\n",
       "   0.01,\n",
       "   0.01,\n",
       "   0.01,\n",
       "   0.01,\n",
       "   0.01,\n",
       "   0.01,\n",
       "   0.01,\n",
       "   0.01,\n",
       "   0.01,\n",
       "   0.01,\n",
       "   0.01,\n",
       "   0.01,\n",
       "   0.01,\n",
       "   0.01,\n",
       "   0.01,\n",
       "   0.01,\n",
       "   0.0,\n",
       "   0.0,\n",
       "   0.0,\n",
       "   0.0,\n",
       "   0.0,\n",
       "   0.0,\n",
       "   0.0,\n",
       "   0.0,\n",
       "   0.0,\n",
       "   0.0,\n",
       "   0.0,\n",
       "   0.0,\n",
       "   0.0,\n",
       "   0.0,\n",
       "   0.0,\n",
       "   0.0,\n",
       "   0.0,\n",
       "   0.0,\n",
       "   0.0,\n",
       "   0.0,\n",
       "   0.0,\n",
       "   0.0,\n",
       "   0.0,\n",
       "   0.0,\n",
       "   0.0,\n",
       "   0.0,\n",
       "   0.0,\n",
       "   0.0,\n",
       "   0.0,\n",
       "   0.0,\n",
       "   0.0,\n",
       "   0.0,\n",
       "   0.0,\n",
       "   0.0,\n",
       "   0.0,\n",
       "   0.0,\n",
       "   0.0,\n",
       "   0.0,\n",
       "   0.0,\n",
       "   0.0,\n",
       "   0.0,\n",
       "   0.0,\n",
       "   0.0,\n",
       "   0.0,\n",
       "   0.0,\n",
       "   0.0,\n",
       "   0.0,\n",
       "   0.0,\n",
       "   0.0,\n",
       "   0.0,\n",
       "   0.0,\n",
       "   0.0,\n",
       "   0.0,\n",
       "   0.0,\n",
       "   0.0,\n",
       "   0.0,\n",
       "   0.0],\n",
       "  'mean_infected': [10001.0,\n",
       "   10758.0,\n",
       "   11475.0,\n",
       "   12151.0,\n",
       "   12852.0,\n",
       "   13489.0,\n",
       "   14092.0,\n",
       "   14646.0,\n",
       "   15253.0,\n",
       "   15832.0,\n",
       "   16357.0,\n",
       "   16874.0,\n",
       "   17342.0,\n",
       "   17818.0,\n",
       "   18257.0,\n",
       "   18691.0,\n",
       "   19088.0,\n",
       "   19483.0,\n",
       "   19868.0,\n",
       "   20235.0,\n",
       "   20579.0,\n",
       "   20882.0,\n",
       "   21202.0,\n",
       "   21487.0,\n",
       "   21756.0,\n",
       "   22016.0,\n",
       "   22285.0,\n",
       "   22531.0,\n",
       "   22763.0,\n",
       "   22993.0,\n",
       "   23223.0,\n",
       "   23439.0,\n",
       "   23632.0,\n",
       "   23810.0,\n",
       "   23993.0,\n",
       "   24187.0,\n",
       "   24347.0,\n",
       "   24513.0,\n",
       "   24680.0,\n",
       "   24816.0,\n",
       "   24972.0,\n",
       "   25107.0,\n",
       "   25235.0,\n",
       "   25355.0,\n",
       "   25478.0,\n",
       "   25601.0,\n",
       "   25701.0,\n",
       "   25792.0,\n",
       "   25906.0,\n",
       "   26003.0,\n",
       "   26088.0,\n",
       "   26177.0,\n",
       "   26260.0,\n",
       "   26354.0,\n",
       "   26428.0,\n",
       "   26495.0,\n",
       "   26570.0,\n",
       "   26622.0,\n",
       "   26689.0,\n",
       "   26748.0,\n",
       "   26814.0,\n",
       "   26874.0,\n",
       "   26920.0,\n",
       "   26961.0,\n",
       "   27017.0,\n",
       "   27073.0,\n",
       "   27123.0,\n",
       "   27166.0,\n",
       "   27216.0,\n",
       "   27261.0,\n",
       "   27305.0,\n",
       "   27344.0,\n",
       "   27381.0,\n",
       "   27414.0,\n",
       "   27440.0,\n",
       "   27468.0,\n",
       "   27499.0,\n",
       "   27528.0,\n",
       "   27550.0,\n",
       "   27575.0,\n",
       "   27597.0,\n",
       "   27621.0,\n",
       "   27644.0,\n",
       "   27660.0,\n",
       "   27680.0,\n",
       "   27703.0,\n",
       "   27718.0,\n",
       "   27733.0,\n",
       "   27752.0,\n",
       "   27765.0,\n",
       "   27786.0,\n",
       "   27800.0,\n",
       "   27815.0,\n",
       "   27829.0,\n",
       "   27845.0,\n",
       "   27850.0,\n",
       "   27870.0,\n",
       "   27888.0,\n",
       "   27905.0,\n",
       "   27916.0,\n",
       "   27929.0],\n",
       "  'std_infected': [0.0,\n",
       "   0.0,\n",
       "   0.0,\n",
       "   0.0,\n",
       "   0.0,\n",
       "   0.0,\n",
       "   0.0,\n",
       "   0.0,\n",
       "   0.0,\n",
       "   0.0,\n",
       "   0.0,\n",
       "   0.0,\n",
       "   0.0,\n",
       "   0.0,\n",
       "   0.0,\n",
       "   0.0,\n",
       "   0.0,\n",
       "   0.0,\n",
       "   0.0,\n",
       "   0.0,\n",
       "   0.0,\n",
       "   0.0,\n",
       "   0.0,\n",
       "   0.0,\n",
       "   0.0,\n",
       "   0.0,\n",
       "   0.0,\n",
       "   0.0,\n",
       "   0.0,\n",
       "   0.0,\n",
       "   0.0,\n",
       "   0.0,\n",
       "   0.0,\n",
       "   0.0,\n",
       "   0.0,\n",
       "   0.0,\n",
       "   0.0,\n",
       "   0.0,\n",
       "   0.0,\n",
       "   0.0,\n",
       "   0.0,\n",
       "   0.0,\n",
       "   0.0,\n",
       "   0.0,\n",
       "   0.0,\n",
       "   0.0,\n",
       "   0.0,\n",
       "   0.0,\n",
       "   0.0,\n",
       "   0.0,\n",
       "   0.0,\n",
       "   0.0,\n",
       "   0.0,\n",
       "   0.0,\n",
       "   0.0,\n",
       "   0.0,\n",
       "   0.0,\n",
       "   0.0,\n",
       "   0.0,\n",
       "   0.0,\n",
       "   0.0,\n",
       "   0.0,\n",
       "   0.0,\n",
       "   0.0,\n",
       "   0.0,\n",
       "   0.0,\n",
       "   0.0,\n",
       "   0.0,\n",
       "   0.0,\n",
       "   0.0,\n",
       "   0.0,\n",
       "   0.0,\n",
       "   0.0,\n",
       "   0.0,\n",
       "   0.0,\n",
       "   0.0,\n",
       "   0.0,\n",
       "   0.0,\n",
       "   0.0,\n",
       "   0.0,\n",
       "   0.0,\n",
       "   0.0,\n",
       "   0.0,\n",
       "   0.0,\n",
       "   0.0,\n",
       "   0.0,\n",
       "   0.0,\n",
       "   0.0,\n",
       "   0.0,\n",
       "   0.0,\n",
       "   0.0,\n",
       "   0.0,\n",
       "   0.0,\n",
       "   0.0,\n",
       "   0.0,\n",
       "   0.0,\n",
       "   0.0,\n",
       "   0.0,\n",
       "   0.0,\n",
       "   0.0,\n",
       "   0.0],\n",
       "  'confidence_interval': [0.0,\n",
       "   0.0,\n",
       "   0.0,\n",
       "   0.0,\n",
       "   0.0,\n",
       "   0.0,\n",
       "   0.0,\n",
       "   0.0,\n",
       "   0.0,\n",
       "   0.0,\n",
       "   0.0,\n",
       "   0.0,\n",
       "   0.0,\n",
       "   0.0,\n",
       "   0.0,\n",
       "   0.0,\n",
       "   0.0,\n",
       "   0.0,\n",
       "   0.0,\n",
       "   0.0,\n",
       "   0.0,\n",
       "   0.0,\n",
       "   0.0,\n",
       "   0.0,\n",
       "   0.0,\n",
       "   0.0,\n",
       "   0.0,\n",
       "   0.0,\n",
       "   0.0,\n",
       "   0.0,\n",
       "   0.0,\n",
       "   0.0,\n",
       "   0.0,\n",
       "   0.0,\n",
       "   0.0,\n",
       "   0.0,\n",
       "   0.0,\n",
       "   0.0,\n",
       "   0.0,\n",
       "   0.0,\n",
       "   0.0,\n",
       "   0.0,\n",
       "   0.0,\n",
       "   0.0,\n",
       "   0.0,\n",
       "   0.0,\n",
       "   0.0,\n",
       "   0.0,\n",
       "   0.0,\n",
       "   0.0,\n",
       "   0.0,\n",
       "   0.0,\n",
       "   0.0,\n",
       "   0.0,\n",
       "   0.0,\n",
       "   0.0,\n",
       "   0.0,\n",
       "   0.0,\n",
       "   0.0,\n",
       "   0.0,\n",
       "   0.0,\n",
       "   0.0,\n",
       "   0.0,\n",
       "   0.0,\n",
       "   0.0,\n",
       "   0.0,\n",
       "   0.0,\n",
       "   0.0,\n",
       "   0.0,\n",
       "   0.0,\n",
       "   0.0,\n",
       "   0.0,\n",
       "   0.0,\n",
       "   0.0,\n",
       "   0.0,\n",
       "   0.0,\n",
       "   0.0,\n",
       "   0.0,\n",
       "   0.0,\n",
       "   0.0,\n",
       "   0.0,\n",
       "   0.0,\n",
       "   0.0,\n",
       "   0.0,\n",
       "   0.0,\n",
       "   0.0,\n",
       "   0.0,\n",
       "   0.0,\n",
       "   0.0,\n",
       "   0.0,\n",
       "   0.0,\n",
       "   0.0,\n",
       "   0.0,\n",
       "   0.0,\n",
       "   0.0,\n",
       "   0.0,\n",
       "   0.0,\n",
       "   0.0,\n",
       "   0.0,\n",
       "   0.0,\n",
       "   0.0]}]"
      ]
     },
     "execution_count": 20,
     "metadata": {},
     "output_type": "execute_result"
    }
   ],
   "source": [
    "%%time\n",
    "# This takes around 16 min to simulate each case\n",
    "run_evolution(cases, 30, T, infected_init)"
   ]
  },
  {
   "cell_type": "code",
   "execution_count": 11,
   "id": "87003f6f",
   "metadata": {},
   "outputs": [
    {
     "data": {
      "image/png": "[encoded data removed]",
      "text/plain": [
       "<Figure size 640x480 with 1 Axes>"
      ]
     },
     "metadata": {},
     "output_type": "display_data"
    }
   ],
   "source": [
    "plot_evolution(cases)"
   ]
  },
  {
   "cell_type": "code",
   "execution_count": 21,
   "id": "9b965a42",
   "metadata": {},
   "outputs": [
    {
     "data": {
      "application/vnd.plotly.v1+json": {
       "config": {
        "plotlyServerURL": "https://plot.ly"
       },
       "data": [
        {
         "line": {
          "width": 5
         },
         "mode": "lines",
         "name": "Infected",
         "type": "scatter",
         "x": [
          0,
          1,
          2,
          3,
          4,
          5,
          6,
          7,
          8,
          9,
          10,
          11,
          12,
          13,
          14,
          15,
          16,
          17,
          18,
          19,
          20,
          21,
          22,
          23,
          24,
          25,
          26,
          27,
          28,
          29,
          30,
          31,
          32,
          33,
          34,
          35,
          36,
          37,
          38,
          39,
          40,
          41,
          42,
          43,
          44,
          45,
          46,
          47,
          48,
          49,
          50,
          51,
          52,
          53,
          54,
          55,
          56,
          57,
          58,
          59,
          60,
          61,
          62,
          63,
          64,
          65,
          66,
          67,
          68,
          69,
          70,
          71,
          72,
          73,
          74,
          75,
          76,
          77,
          78,
          79,
          80,
          81,
          82,
          83,
          84,
          85,
          86,
          87,
          88,
          89,
          90,
          91,
          92,
          93,
          94,
          95,
          96,
          97,
          98,
          99,
          100
         ],
         "y": [
          10001,
          10430,
          10897,
          11382,
          11899,
          12396,
          12943,
          13483,
          14047,
          14627,
          15222,
          15818,
          16449,
          17076,
          17773,
          18473,
          19194,
          19857,
          20574,
          21291,
          22052,
          22818,
          23639,
          24450,
          25285,
          26086,
          26860,
          27737,
          28610,
          29484,
          30383,
          31292,
          32193,
          33101,
          34046,
          34991,
          35930,
          36866,
          37754,
          38727,
          39668,
          40650,
          41623,
          42658,
          43637,
          44584,
          45522,
          46525,
          47504,
          48507,
          49457,
          50464,
          51422,
          52376,
          53347,
          54278,
          55153,
          56097,
          57001,
          57852,
          58794,
          59678,
          60552,
          61454,
          62326,
          63111,
          63940,
          64765,
          65589,
          66415,
          67200,
          67951,
          68670,
          69388,
          70093,
          70791,
          71506,
          72169,
          72878,
          73549,
          74184,
          74815,
          75455,
          76006,
          76666,
          77259,
          77787,
          78360,
          78896,
          79444,
          79951,
          80462,
          80930,
          81380,
          81826,
          82278,
          82732,
          83223,
          83629,
          84054,
          84435
         ]
        },
        {
         "line": {
          "width": 5
         },
         "mode": "lines",
         "name": "Susceptible",
         "type": "scatter",
         "x": [
          0,
          1,
          2,
          3,
          4,
          5,
          6,
          7,
          8,
          9,
          10,
          11,
          12,
          13,
          14,
          15,
          16,
          17,
          18,
          19,
          20,
          21,
          22,
          23,
          24,
          25,
          26,
          27,
          28,
          29,
          30,
          31,
          32,
          33,
          34,
          35,
          36,
          37,
          38,
          39,
          40,
          41,
          42,
          43,
          44,
          45,
          46,
          47,
          48,
          49,
          50,
          51,
          52,
          53,
          54,
          55,
          56,
          57,
          58,
          59,
          60,
          61,
          62,
          63,
          64,
          65,
          66,
          67,
          68,
          69,
          70,
          71,
          72,
          73,
          74,
          75,
          76,
          77,
          78,
          79,
          80,
          81,
          82,
          83,
          84,
          85,
          86,
          87,
          88,
          89,
          90,
          91,
          92,
          93,
          94,
          95,
          96,
          97,
          98,
          99,
          100
         ],
         "y": [
          89999,
          89570,
          89103,
          88618,
          88101,
          87604,
          87057,
          86517,
          85953,
          85373,
          84778,
          84182,
          83551,
          82924,
          82227,
          81527,
          80806,
          80143,
          79426,
          78709,
          77948,
          77182,
          76361,
          75550,
          74715,
          73914,
          73140,
          72263,
          71390,
          70516,
          69617,
          68708,
          67807,
          66899,
          65954,
          65009,
          64070,
          63134,
          62246,
          61273,
          60332,
          59350,
          58377,
          57342,
          56363,
          55416,
          54478,
          53475,
          52496,
          51493,
          50543,
          49536,
          48578,
          47624,
          46653,
          45722,
          44847,
          43903,
          42999,
          42148,
          41206,
          40322,
          39448,
          38546,
          37674,
          36889,
          36060,
          35235,
          34411,
          33585,
          32800,
          32049,
          31330,
          30612,
          29907,
          29209,
          28494,
          27831,
          27122,
          26451,
          25816,
          25185,
          24545,
          23994,
          23334,
          22741,
          22213,
          21640,
          21104,
          20556,
          20049,
          19538,
          19070,
          18620,
          18174,
          17722,
          17268,
          16777,
          16371,
          15946,
          15565
         ]
        }
       ],
       "layout": {
        "legend": {
         "font": {
          "size": 18
         },
         "title": {
          "text": "Category"
         }
        },
        "template": {
         "data": {
          "bar": [
           {
            "error_x": {
             "color": "#2a3f5f"
            },
            "error_y": {
             "color": "#2a3f5f"
            },
            "marker": {
             "line": {
              "color": "#E5ECF6",
              "width": 0.5
             },
             "pattern": {
              "fillmode": "overlay",
              "size": 10,
              "solidity": 0.2
             }
            },
            "type": "bar"
           }
          ],
          "barpolar": [
           {
            "marker": {
             "line": {
              "color": "#E5ECF6",
              "width": 0.5
             },
             "pattern": {
              "fillmode": "overlay",
              "size": 10,
              "solidity": 0.2
             }
            },
            "type": "barpolar"
           }
          ],
          "carpet": [
           {
            "aaxis": {
             "endlinecolor": "#2a3f5f",
             "gridcolor": "white",
             "linecolor": "white",
             "minorgridcolor": "white",
             "startlinecolor": "#2a3f5f"
            },
            "baxis": {
             "endlinecolor": "#2a3f5f",
             "gridcolor": "white",
             "linecolor": "white",
             "minorgridcolor": "white",
             "startlinecolor": "#2a3f5f"
            },
            "type": "carpet"
           }
          ],
          "choropleth": [
           {
            "colorbar": {
             "outlinewidth": 0,
             "ticks": ""
            },
            "type": "choropleth"
           }
          ],
          "contour": [
           {
            "colorbar": {
             "outlinewidth": 0,
             "ticks": ""
            },
            "colorscale": [
             [
              0,
              "#0d0887"
             ],
             [
              0.1111111111111111,
              "#46039f"
             ],
             [
              0.2222222222222222,
              "#7201a8"
             ],
             [
              0.3333333333333333,
              "#9c179e"
             ],
             [
              0.4444444444444444,
              "#bd3786"
             ],
             [
              0.5555555555555556,
              "#d8576b"
             ],
             [
              0.6666666666666666,
              "#ed7953"
             ],
             [
              0.7777777777777778,
              "#fb9f3a"
             ],
             [
              0.8888888888888888,
              "#fdca26"
             ],
             [
              1,
              "#f0f921"
             ]
            ],
            "type": "contour"
           }
          ],
          "contourcarpet": [
           {
            "colorbar": {
             "outlinewidth": 0,
             "ticks": ""
            },
            "type": "contourcarpet"
           }
          ],
          "heatmap": [
           {
            "colorbar": {
             "outlinewidth": 0,
             "ticks": ""
            },
            "colorscale": [
             [
              0,
              "#0d0887"
             ],
             [
              0.1111111111111111,
              "#46039f"
             ],
             [
              0.2222222222222222,
              "#7201a8"
             ],
             [
              0.3333333333333333,
              "#9c179e"
             ],
             [
              0.4444444444444444,
              "#bd3786"
             ],
             [
              0.5555555555555556,
              "#d8576b"
             ],
             [
              0.6666666666666666,
              "#ed7953"
             ],
             [
              0.7777777777777778,
              "#fb9f3a"
             ],
             [
              0.8888888888888888,
              "#fdca26"
             ],
             [
              1,
              "#f0f921"
             ]
            ],
            "type": "heatmap"
           }
          ],
          "heatmapgl": [
           {
            "colorbar": {
             "outlinewidth": 0,
             "ticks": ""
            },
            "colorscale": [
             [
              0,
              "#0d0887"
             ],
             [
              0.1111111111111111,
              "#46039f"
             ],
             [
              0.2222222222222222,
              "#7201a8"
             ],
             [
              0.3333333333333333,
              "#9c179e"
             ],
             [
              0.4444444444444444,
              "#bd3786"
             ],
             [
              0.5555555555555556,
              "#d8576b"
             ],
             [
              0.6666666666666666,
              "#ed7953"
             ],
             [
              0.7777777777777778,
              "#fb9f3a"
             ],
             [
              0.8888888888888888,
              "#fdca26"
             ],
             [
              1,
              "#f0f921"
             ]
            ],
            "type": "heatmapgl"
           }
          ],
          "histogram": [
           {
            "marker": {
             "pattern": {
              "fillmode": "overlay",
              "size": 10,
              "solidity": 0.2
             }
            },
            "type": "histogram"
           }
          ],
          "histogram2d": [
           {
            "colorbar": {
             "outlinewidth": 0,
             "ticks": ""
            },
            "colorscale": [
             [
              0,
              "#0d0887"
             ],
             [
              0.1111111111111111,
              "#46039f"
             ],
             [
              0.2222222222222222,
              "#7201a8"
             ],
             [
              0.3333333333333333,
              "#9c179e"
             ],
             [
              0.4444444444444444,
              "#bd3786"
             ],
             [
              0.5555555555555556,
              "#d8576b"
             ],
             [
              0.6666666666666666,
              "#ed7953"
             ],
             [
              0.7777777777777778,
              "#fb9f3a"
             ],
             [
              0.8888888888888888,
              "#fdca26"
             ],
             [
              1,
              "#f0f921"
             ]
            ],
            "type": "histogram2d"
           }
          ],
          "histogram2dcontour": [
           {
            "colorbar": {
             "outlinewidth": 0,
             "ticks": ""
            },
            "colorscale": [
             [
              0,
              "#0d0887"
             ],
             [
              0.1111111111111111,
              "#46039f"
             ],
             [
              0.2222222222222222,
              "#7201a8"
             ],
             [
              0.3333333333333333,
              "#9c179e"
             ],
             [
              0.4444444444444444,
              "#bd3786"
             ],
             [
              0.5555555555555556,
              "#d8576b"
             ],
             [
              0.6666666666666666,
              "#ed7953"
             ],
             [
              0.7777777777777778,
              "#fb9f3a"
             ],
             [
              0.8888888888888888,
              "#fdca26"
             ],
             [
              1,
              "#f0f921"
             ]
            ],
            "type": "histogram2dcontour"
           }
          ],
          "mesh3d": [
           {
            "colorbar": {
             "outlinewidth": 0,
             "ticks": ""
            },
            "type": "mesh3d"
           }
          ],
          "parcoords": [
           {
            "line": {
             "colorbar": {
              "outlinewidth": 0,
              "ticks": ""
             }
            },
            "type": "parcoords"
           }
          ],
          "pie": [
           {
            "automargin": true,
            "type": "pie"
           }
          ],
          "scatter": [
           {
            "fillpattern": {
             "fillmode": "overlay",
             "size": 10,
             "solidity": 0.2
            },
            "type": "scatter"
           }
          ],
          "scatter3d": [
           {
            "line": {
             "colorbar": {
              "outlinewidth": 0,
              "ticks": ""
             }
            },
            "marker": {
             "colorbar": {
              "outlinewidth": 0,
              "ticks": ""
             }
            },
            "type": "scatter3d"
           }
          ],
          "scattercarpet": [
           {
            "marker": {
             "colorbar": {
              "outlinewidth": 0,
              "ticks": ""
             }
            },
            "type": "scattercarpet"
           }
          ],
          "scattergeo": [
           {
            "marker": {
             "colorbar": {
              "outlinewidth": 0,
              "ticks": ""
             }
            },
            "type": "scattergeo"
           }
          ],
          "scattergl": [
           {
            "marker": {
             "colorbar": {
              "outlinewidth": 0,
              "ticks": ""
             }
            },
            "type": "scattergl"
           }
          ],
          "scattermapbox": [
           {
            "marker": {
             "colorbar": {
              "outlinewidth": 0,
              "ticks": ""
             }
            },
            "type": "scattermapbox"
           }
          ],
          "scatterpolar": [
           {
            "marker": {
             "colorbar": {
              "outlinewidth": 0,
              "ticks": ""
             }
            },
            "type": "scatterpolar"
           }
          ],
          "scatterpolargl": [
           {
            "marker": {
             "colorbar": {
              "outlinewidth": 0,
              "ticks": ""
             }
            },
            "type": "scatterpolargl"
           }
          ],
          "scatterternary": [
           {
            "marker": {
             "colorbar": {
              "outlinewidth": 0,
              "ticks": ""
             }
            },
            "type": "scatterternary"
           }
          ],
          "surface": [
           {
            "colorbar": {
             "outlinewidth": 0,
             "ticks": ""
            },
            "colorscale": [
             [
              0,
              "#0d0887"
             ],
             [
              0.1111111111111111,
              "#46039f"
             ],
             [
              0.2222222222222222,
              "#7201a8"
             ],
             [
              0.3333333333333333,
              "#9c179e"
             ],
             [
              0.4444444444444444,
              "#bd3786"
             ],
             [
              0.5555555555555556,
              "#d8576b"
             ],
             [
              0.6666666666666666,
              "#ed7953"
             ],
             [
              0.7777777777777778,
              "#fb9f3a"
             ],
             [
              0.8888888888888888,
              "#fdca26"
             ],
             [
              1,
              "#f0f921"
             ]
            ],
            "type": "surface"
           }
          ],
          "table": [
           {
            "cells": {
             "fill": {
              "color": "#EBF0F8"
             },
             "line": {
              "color": "white"
             }
            },
            "header": {
             "fill": {
              "color": "#C8D4E3"
             },
             "line": {
              "color": "white"
             }
            },
            "type": "table"
           }
          ]
         },
         "layout": {
          "annotationdefaults": {
           "arrowcolor": "#2a3f5f",
           "arrowhead": 0,
           "arrowwidth": 1
          },
          "autotypenumbers": "strict",
          "coloraxis": {
           "colorbar": {
            "outlinewidth": 0,
            "ticks": ""
           }
          },
          "colorscale": {
           "diverging": [
            [
             0,
             "#8e0152"
            ],
            [
             0.1,
             "#c51b7d"
            ],
            [
             0.2,
             "#de77ae"
            ],
            [
             0.3,
             "#f1b6da"
            ],
            [
             0.4,
             "#fde0ef"
            ],
            [
             0.5,
             "#f7f7f7"
            ],
            [
             0.6,
             "#e6f5d0"
            ],
            [
             0.7,
             "#b8e186"
            ],
            [
             0.8,
             "#7fbc41"
            ],
            [
             0.9,
             "#4d9221"
            ],
            [
             1,
             "#276419"
            ]
           ],
           "sequential": [
            [
             0,
             "#0d0887"
            ],
            [
             0.1111111111111111,
             "#46039f"
            ],
            [
             0.2222222222222222,
             "#7201a8"
            ],
            [
             0.3333333333333333,
             "#9c179e"
            ],
            [
             0.4444444444444444,
             "#bd3786"
            ],
            [
             0.5555555555555556,
             "#d8576b"
            ],
            [
             0.6666666666666666,
             "#ed7953"
            ],
            [
             0.7777777777777778,
             "#fb9f3a"
            ],
            [
             0.8888888888888888,
             "#fdca26"
            ],
            [
             1,
             "#f0f921"
            ]
           ],
           "sequentialminus": [
            [
             0,
             "#0d0887"
            ],
            [
             0.1111111111111111,
             "#46039f"
            ],
            [
             0.2222222222222222,
             "#7201a8"
            ],
            [
             0.3333333333333333,
             "#9c179e"
            ],
            [
             0.4444444444444444,
             "#bd3786"
            ],
            [
             0.5555555555555556,
             "#d8576b"
            ],
            [
             0.6666666666666666,
             "#ed7953"
            ],
            [
             0.7777777777777778,
             "#fb9f3a"
            ],
            [
             0.8888888888888888,
             "#fdca26"
            ],
            [
             1,
             "#f0f921"
            ]
           ]
          },
          "colorway": [
           "#636efa",
           "#EF553B",
           "#00cc96",
           "#ab63fa",
           "#FFA15A",
           "#19d3f3",
           "#FF6692",
           "#B6E880",
           "#FF97FF",
           "#FECB52"
          ],
          "font": {
           "color": "#2a3f5f"
          },
          "geo": {
           "bgcolor": "white",
           "lakecolor": "white",
           "landcolor": "#E5ECF6",
           "showlakes": true,
           "showland": true,
           "subunitcolor": "white"
          },
          "hoverlabel": {
           "align": "left"
          },
          "hovermode": "closest",
          "mapbox": {
           "style": "light"
          },
          "paper_bgcolor": "white",
          "plot_bgcolor": "#E5ECF6",
          "polar": {
           "angularaxis": {
            "gridcolor": "white",
            "linecolor": "white",
            "ticks": ""
           },
           "bgcolor": "#E5ECF6",
           "radialaxis": {
            "gridcolor": "white",
            "linecolor": "white",
            "ticks": ""
           }
          },
          "scene": {
           "xaxis": {
            "backgroundcolor": "#E5ECF6",
            "gridcolor": "white",
            "gridwidth": 2,
            "linecolor": "white",
            "showbackground": true,
            "ticks": "",
            "zerolinecolor": "white"
           },
           "yaxis": {
            "backgroundcolor": "#E5ECF6",
            "gridcolor": "white",
            "gridwidth": 2,
            "linecolor": "white",
            "showbackground": true,
            "ticks": "",
            "zerolinecolor": "white"
           },
           "zaxis": {
            "backgroundcolor": "#E5ECF6",
            "gridcolor": "white",
            "gridwidth": 2,
            "linecolor": "white",
            "showbackground": true,
            "ticks": "",
            "zerolinecolor": "white"
           }
          },
          "shapedefaults": {
           "line": {
            "color": "#2a3f5f"
           }
          },
          "ternary": {
           "aaxis": {
            "gridcolor": "white",
            "linecolor": "white",
            "ticks": ""
           },
           "baxis": {
            "gridcolor": "white",
            "linecolor": "white",
            "ticks": ""
           },
           "bgcolor": "#E5ECF6",
           "caxis": {
            "gridcolor": "white",
            "linecolor": "white",
            "ticks": ""
           }
          },
          "title": {
           "x": 0.05
          },
          "xaxis": {
           "automargin": true,
           "gridcolor": "white",
           "linecolor": "white",
           "ticks": "",
           "title": {
            "standoff": 15
           },
           "zerolinecolor": "white",
           "zerolinewidth": 2
          },
          "yaxis": {
           "automargin": true,
           "gridcolor": "white",
           "linecolor": "white",
           "ticks": "",
           "title": {
            "standoff": 15
           },
           "zerolinecolor": "white",
           "zerolinewidth": 2
          }
         }
        },
        "title": {
         "font": {
          "size": 22
         },
         "text": "i:0.01, average k:5.0"
        },
        "xaxis": {
         "tickfont": {
          "size": 16
         },
         "title": {
          "font": {
           "size": 20
          },
          "text": "Time Step"
         }
        },
        "yaxis": {
         "tickfont": {
          "size": 16
         },
         "title": {
          "font": {
           "size": 20
          },
          "text": "Amount of People"
         }
        }
       }
      }
     },
     "metadata": {},
     "output_type": "display_data"
    },
    {
     "data": {
      "application/vnd.plotly.v1+json": {
       "config": {
        "plotlyServerURL": "https://plot.ly"
       },
       "data": [
        {
         "line": {
          "width": 5
         },
         "mode": "lines",
         "name": "Infected",
         "type": "scatter",
         "x": [
          0,
          1,
          2,
          3,
          4,
          5,
          6,
          7,
          8,
          9,
          10,
          11,
          12,
          13,
          14,
          15,
          16,
          17,
          18,
          19,
          20,
          21,
          22,
          23,
          24,
          25,
          26,
          27,
          28,
          29,
          30,
          31,
          32,
          33,
          34,
          35,
          36,
          37,
          38,
          39,
          40,
          41,
          42,
          43,
          44,
          45,
          46,
          47,
          48,
          49,
          50,
          51,
          52,
          53,
          54,
          55,
          56,
          57,
          58,
          59,
          60,
          61,
          62,
          63,
          64,
          65,
          66,
          67,
          68,
          69,
          70,
          71,
          72,
          73,
          74,
          75,
          76,
          77,
          78,
          79,
          80,
          81,
          82,
          83,
          84,
          85,
          86,
          87,
          88,
          89,
          90,
          91,
          92,
          93,
          94,
          95,
          96,
          97,
          98,
          99,
          100
         ],
         "y": [
          10001,
          10758,
          11475,
          12151,
          12852,
          13489,
          14092,
          14646,
          15253,
          15832,
          16357,
          16874,
          17342,
          17818,
          18257,
          18691,
          19088,
          19483,
          19868,
          20235,
          20579,
          20882,
          21202,
          21487,
          21756,
          22016,
          22285,
          22531,
          22763,
          22993,
          23223,
          23439,
          23632,
          23810,
          23993,
          24187,
          24347,
          24513,
          24680,
          24816,
          24972,
          25107,
          25235,
          25355,
          25478,
          25601,
          25701,
          25792,
          25906,
          26003,
          26088,
          26177,
          26260,
          26354,
          26428,
          26495,
          26570,
          26622,
          26689,
          26748,
          26814,
          26874,
          26920,
          26961,
          27017,
          27073,
          27123,
          27166,
          27216,
          27261,
          27305,
          27344,
          27381,
          27414,
          27440,
          27468,
          27499,
          27528,
          27550,
          27575,
          27597,
          27621,
          27644,
          27660,
          27680,
          27703,
          27718,
          27733,
          27752,
          27765,
          27786,
          27800,
          27815,
          27829,
          27845,
          27850,
          27870,
          27888,
          27905,
          27916,
          27929
         ]
        },
        {
         "line": {
          "width": 5
         },
         "mode": "lines",
         "name": "Susceptible",
         "type": "scatter",
         "x": [
          0,
          1,
          2,
          3,
          4,
          5,
          6,
          7,
          8,
          9,
          10,
          11,
          12,
          13,
          14,
          15,
          16,
          17,
          18,
          19,
          20,
          21,
          22,
          23,
          24,
          25,
          26,
          27,
          28,
          29,
          30,
          31,
          32,
          33,
          34,
          35,
          36,
          37,
          38,
          39,
          40,
          41,
          42,
          43,
          44,
          45,
          46,
          47,
          48,
          49,
          50,
          51,
          52,
          53,
          54,
          55,
          56,
          57,
          58,
          59,
          60,
          61,
          62,
          63,
          64,
          65,
          66,
          67,
          68,
          69,
          70,
          71,
          72,
          73,
          74,
          75,
          76,
          77,
          78,
          79,
          80,
          81,
          82,
          83,
          84,
          85,
          86,
          87,
          88,
          89,
          90,
          91,
          92,
          93,
          94,
          95,
          96,
          97,
          98,
          99,
          100
         ],
         "y": [
          89999,
          89242,
          88525,
          87849,
          87148,
          86511,
          85908,
          85354,
          84747,
          84168,
          83643,
          83126,
          82658,
          82182,
          81743,
          81309,
          80912,
          80517,
          80132,
          79765,
          79421,
          79118,
          78798,
          78513,
          78244,
          77984,
          77715,
          77469,
          77237,
          77007,
          76777,
          76561,
          76368,
          76190,
          76007,
          75813,
          75653,
          75487,
          75320,
          75184,
          75028,
          74893,
          74765,
          74645,
          74522,
          74399,
          74299,
          74208,
          74094,
          73997,
          73912,
          73823,
          73740,
          73646,
          73572,
          73505,
          73430,
          73378,
          73311,
          73252,
          73186,
          73126,
          73080,
          73039,
          72983,
          72927,
          72877,
          72834,
          72784,
          72739,
          72695,
          72656,
          72619,
          72586,
          72560,
          72532,
          72501,
          72472,
          72450,
          72425,
          72403,
          72379,
          72356,
          72340,
          72320,
          72297,
          72282,
          72267,
          72248,
          72235,
          72214,
          72200,
          72185,
          72171,
          72155,
          72150,
          72130,
          72112,
          72095,
          72084,
          72071
         ]
        }
       ],
       "layout": {
        "legend": {
         "font": {
          "size": 18
         },
         "title": {
          "text": "Category"
         }
        },
        "template": {
         "data": {
          "bar": [
           {
            "error_x": {
             "color": "#2a3f5f"
            },
            "error_y": {
             "color": "#2a3f5f"
            },
            "marker": {
             "line": {
              "color": "#E5ECF6",
              "width": 0.5
             },
             "pattern": {
              "fillmode": "overlay",
              "size": 10,
              "solidity": 0.2
             }
            },
            "type": "bar"
           }
          ],
          "barpolar": [
           {
            "marker": {
             "line": {
              "color": "#E5ECF6",
              "width": 0.5
             },
             "pattern": {
              "fillmode": "overlay",
              "size": 10,
              "solidity": 0.2
             }
            },
            "type": "barpolar"
           }
          ],
          "carpet": [
           {
            "aaxis": {
             "endlinecolor": "#2a3f5f",
             "gridcolor": "white",
             "linecolor": "white",
             "minorgridcolor": "white",
             "startlinecolor": "#2a3f5f"
            },
            "baxis": {
             "endlinecolor": "#2a3f5f",
             "gridcolor": "white",
             "linecolor": "white",
             "minorgridcolor": "white",
             "startlinecolor": "#2a3f5f"
            },
            "type": "carpet"
           }
          ],
          "choropleth": [
           {
            "colorbar": {
             "outlinewidth": 0,
             "ticks": ""
            },
            "type": "choropleth"
           }
          ],
          "contour": [
           {
            "colorbar": {
             "outlinewidth": 0,
             "ticks": ""
            },
            "colorscale": [
             [
              0,
              "#0d0887"
             ],
             [
              0.1111111111111111,
              "#46039f"
             ],
             [
              0.2222222222222222,
              "#7201a8"
             ],
             [
              0.3333333333333333,
              "#9c179e"
             ],
             [
              0.4444444444444444,
              "#bd3786"
             ],
             [
              0.5555555555555556,
              "#d8576b"
             ],
             [
              0.6666666666666666,
              "#ed7953"
             ],
             [
              0.7777777777777778,
              "#fb9f3a"
             ],
             [
              0.8888888888888888,
              "#fdca26"
             ],
             [
              1,
              "#f0f921"
             ]
            ],
            "type": "contour"
           }
          ],
          "contourcarpet": [
           {
            "colorbar": {
             "outlinewidth": 0,
             "ticks": ""
            },
            "type": "contourcarpet"
           }
          ],
          "heatmap": [
           {
            "colorbar": {
             "outlinewidth": 0,
             "ticks": ""
            },
            "colorscale": [
             [
              0,
              "#0d0887"
             ],
             [
              0.1111111111111111,
              "#46039f"
             ],
             [
              0.2222222222222222,
              "#7201a8"
             ],
             [
              0.3333333333333333,
              "#9c179e"
             ],
             [
              0.4444444444444444,
              "#bd3786"
             ],
             [
              0.5555555555555556,
              "#d8576b"
             ],
             [
              0.6666666666666666,
              "#ed7953"
             ],
             [
              0.7777777777777778,
              "#fb9f3a"
             ],
             [
              0.8888888888888888,
              "#fdca26"
             ],
             [
              1,
              "#f0f921"
             ]
            ],
            "type": "heatmap"
           }
          ],
          "heatmapgl": [
           {
            "colorbar": {
             "outlinewidth": 0,
             "ticks": ""
            },
            "colorscale": [
             [
              0,
              "#0d0887"
             ],
             [
              0.1111111111111111,
              "#46039f"
             ],
             [
              0.2222222222222222,
              "#7201a8"
             ],
             [
              0.3333333333333333,
              "#9c179e"
             ],
             [
              0.4444444444444444,
              "#bd3786"
             ],
             [
              0.5555555555555556,
              "#d8576b"
             ],
             [
              0.6666666666666666,
              "#ed7953"
             ],
             [
              0.7777777777777778,
              "#fb9f3a"
             ],
             [
              0.8888888888888888,
              "#fdca26"
             ],
             [
              1,
              "#f0f921"
             ]
            ],
            "type": "heatmapgl"
           }
          ],
          "histogram": [
           {
            "marker": {
             "pattern": {
              "fillmode": "overlay",
              "size": 10,
              "solidity": 0.2
             }
            },
            "type": "histogram"
           }
          ],
          "histogram2d": [
           {
            "colorbar": {
             "outlinewidth": 0,
             "ticks": ""
            },
            "colorscale": [
             [
              0,
              "#0d0887"
             ],
             [
              0.1111111111111111,
              "#46039f"
             ],
             [
              0.2222222222222222,
              "#7201a8"
             ],
             [
              0.3333333333333333,
              "#9c179e"
             ],
             [
              0.4444444444444444,
              "#bd3786"
             ],
             [
              0.5555555555555556,
              "#d8576b"
             ],
             [
              0.6666666666666666,
              "#ed7953"
             ],
             [
              0.7777777777777778,
              "#fb9f3a"
             ],
             [
              0.8888888888888888,
              "#fdca26"
             ],
             [
              1,
              "#f0f921"
             ]
            ],
            "type": "histogram2d"
           }
          ],
          "histogram2dcontour": [
           {
            "colorbar": {
             "outlinewidth": 0,
             "ticks": ""
            },
            "colorscale": [
             [
              0,
              "#0d0887"
             ],
             [
              0.1111111111111111,
              "#46039f"
             ],
             [
              0.2222222222222222,
              "#7201a8"
             ],
             [
              0.3333333333333333,
              "#9c179e"
             ],
             [
              0.4444444444444444,
              "#bd3786"
             ],
             [
              0.5555555555555556,
              "#d8576b"
             ],
             [
              0.6666666666666666,
              "#ed7953"
             ],
             [
              0.7777777777777778,
              "#fb9f3a"
             ],
             [
              0.8888888888888888,
              "#fdca26"
             ],
             [
              1,
              "#f0f921"
             ]
            ],
            "type": "histogram2dcontour"
           }
          ],
          "mesh3d": [
           {
            "colorbar": {
             "outlinewidth": 0,
             "ticks": ""
            },
            "type": "mesh3d"
           }
          ],
          "parcoords": [
           {
            "line": {
             "colorbar": {
              "outlinewidth": 0,
              "ticks": ""
             }
            },
            "type": "parcoords"
           }
          ],
          "pie": [
           {
            "automargin": true,
            "type": "pie"
           }
          ],
          "scatter": [
           {
            "fillpattern": {
             "fillmode": "overlay",
             "size": 10,
             "solidity": 0.2
            },
            "type": "scatter"
           }
          ],
          "scatter3d": [
           {
            "line": {
             "colorbar": {
              "outlinewidth": 0,
              "ticks": ""
             }
            },
            "marker": {
             "colorbar": {
              "outlinewidth": 0,
              "ticks": ""
             }
            },
            "type": "scatter3d"
           }
          ],
          "scattercarpet": [
           {
            "marker": {
             "colorbar": {
              "outlinewidth": 0,
              "ticks": ""
             }
            },
            "type": "scattercarpet"
           }
          ],
          "scattergeo": [
           {
            "marker": {
             "colorbar": {
              "outlinewidth": 0,
              "ticks": ""
             }
            },
            "type": "scattergeo"
           }
          ],
          "scattergl": [
           {
            "marker": {
             "colorbar": {
              "outlinewidth": 0,
              "ticks": ""
             }
            },
            "type": "scattergl"
           }
          ],
          "scattermapbox": [
           {
            "marker": {
             "colorbar": {
              "outlinewidth": 0,
              "ticks": ""
             }
            },
            "type": "scattermapbox"
           }
          ],
          "scatterpolar": [
           {
            "marker": {
             "colorbar": {
              "outlinewidth": 0,
              "ticks": ""
             }
            },
            "type": "scatterpolar"
           }
          ],
          "scatterpolargl": [
           {
            "marker": {
             "colorbar": {
              "outlinewidth": 0,
              "ticks": ""
             }
            },
            "type": "scatterpolargl"
           }
          ],
          "scatterternary": [
           {
            "marker": {
             "colorbar": {
              "outlinewidth": 0,
              "ticks": ""
             }
            },
            "type": "scatterternary"
           }
          ],
          "surface": [
           {
            "colorbar": {
             "outlinewidth": 0,
             "ticks": ""
            },
            "colorscale": [
             [
              0,
              "#0d0887"
             ],
             [
              0.1111111111111111,
              "#46039f"
             ],
             [
              0.2222222222222222,
              "#7201a8"
             ],
             [
              0.3333333333333333,
              "#9c179e"
             ],
             [
              0.4444444444444444,
              "#bd3786"
             ],
             [
              0.5555555555555556,
              "#d8576b"
             ],
             [
              0.6666666666666666,
              "#ed7953"
             ],
             [
              0.7777777777777778,
              "#fb9f3a"
             ],
             [
              0.8888888888888888,
              "#fdca26"
             ],
             [
              1,
              "#f0f921"
             ]
            ],
            "type": "surface"
           }
          ],
          "table": [
           {
            "cells": {
             "fill": {
              "color": "#EBF0F8"
             },
             "line": {
              "color": "white"
             }
            },
            "header": {
             "fill": {
              "color": "#C8D4E3"
             },
             "line": {
              "color": "white"
             }
            },
            "type": "table"
           }
          ]
         },
         "layout": {
          "annotationdefaults": {
           "arrowcolor": "#2a3f5f",
           "arrowhead": 0,
           "arrowwidth": 1
          },
          "autotypenumbers": "strict",
          "coloraxis": {
           "colorbar": {
            "outlinewidth": 0,
            "ticks": ""
           }
          },
          "colorscale": {
           "diverging": [
            [
             0,
             "#8e0152"
            ],
            [
             0.1,
             "#c51b7d"
            ],
            [
             0.2,
             "#de77ae"
            ],
            [
             0.3,
             "#f1b6da"
            ],
            [
             0.4,
             "#fde0ef"
            ],
            [
             0.5,
             "#f7f7f7"
            ],
            [
             0.6,
             "#e6f5d0"
            ],
            [
             0.7,
             "#b8e186"
            ],
            [
             0.8,
             "#7fbc41"
            ],
            [
             0.9,
             "#4d9221"
            ],
            [
             1,
             "#276419"
            ]
           ],
           "sequential": [
            [
             0,
             "#0d0887"
            ],
            [
             0.1111111111111111,
             "#46039f"
            ],
            [
             0.2222222222222222,
             "#7201a8"
            ],
            [
             0.3333333333333333,
             "#9c179e"
            ],
            [
             0.4444444444444444,
             "#bd3786"
            ],
            [
             0.5555555555555556,
             "#d8576b"
            ],
            [
             0.6666666666666666,
             "#ed7953"
            ],
            [
             0.7777777777777778,
             "#fb9f3a"
            ],
            [
             0.8888888888888888,
             "#fdca26"
            ],
            [
             1,
             "#f0f921"
            ]
           ],
           "sequentialminus": [
            [
             0,
             "#0d0887"
            ],
            [
             0.1111111111111111,
             "#46039f"
            ],
            [
             0.2222222222222222,
             "#7201a8"
            ],
            [
             0.3333333333333333,
             "#9c179e"
            ],
            [
             0.4444444444444444,
             "#bd3786"
            ],
            [
             0.5555555555555556,
             "#d8576b"
            ],
            [
             0.6666666666666666,
             "#ed7953"
            ],
            [
             0.7777777777777778,
             "#fb9f3a"
            ],
            [
             0.8888888888888888,
             "#fdca26"
            ],
            [
             1,
             "#f0f921"
            ]
           ]
          },
          "colorway": [
           "#636efa",
           "#EF553B",
           "#00cc96",
           "#ab63fa",
           "#FFA15A",
           "#19d3f3",
           "#FF6692",
           "#B6E880",
           "#FF97FF",
           "#FECB52"
          ],
          "font": {
           "color": "#2a3f5f"
          },
          "geo": {
           "bgcolor": "white",
           "lakecolor": "white",
           "landcolor": "#E5ECF6",
           "showlakes": true,
           "showland": true,
           "subunitcolor": "white"
          },
          "hoverlabel": {
           "align": "left"
          },
          "hovermode": "closest",
          "mapbox": {
           "style": "light"
          },
          "paper_bgcolor": "white",
          "plot_bgcolor": "#E5ECF6",
          "polar": {
           "angularaxis": {
            "gridcolor": "white",
            "linecolor": "white",
            "ticks": ""
           },
           "bgcolor": "#E5ECF6",
           "radialaxis": {
            "gridcolor": "white",
            "linecolor": "white",
            "ticks": ""
           }
          },
          "scene": {
           "xaxis": {
            "backgroundcolor": "#E5ECF6",
            "gridcolor": "white",
            "gridwidth": 2,
            "linecolor": "white",
            "showbackground": true,
            "ticks": "",
            "zerolinecolor": "white"
           },
           "yaxis": {
            "backgroundcolor": "#E5ECF6",
            "gridcolor": "white",
            "gridwidth": 2,
            "linecolor": "white",
            "showbackground": true,
            "ticks": "",
            "zerolinecolor": "white"
           },
           "zaxis": {
            "backgroundcolor": "#E5ECF6",
            "gridcolor": "white",
            "gridwidth": 2,
            "linecolor": "white",
            "showbackground": true,
            "ticks": "",
            "zerolinecolor": "white"
           }
          },
          "shapedefaults": {
           "line": {
            "color": "#2a3f5f"
           }
          },
          "ternary": {
           "aaxis": {
            "gridcolor": "white",
            "linecolor": "white",
            "ticks": ""
           },
           "baxis": {
            "gridcolor": "white",
            "linecolor": "white",
            "ticks": ""
           },
           "bgcolor": "#E5ECF6",
           "caxis": {
            "gridcolor": "white",
            "linecolor": "white",
            "ticks": ""
           }
          },
          "title": {
           "x": 0.05
          },
          "xaxis": {
           "automargin": true,
           "gridcolor": "white",
           "linecolor": "white",
           "ticks": "",
           "title": {
            "standoff": 15
           },
           "zerolinecolor": "white",
           "zerolinewidth": 2
          },
          "yaxis": {
           "automargin": true,
           "gridcolor": "white",
           "linecolor": "white",
           "ticks": "",
           "title": {
            "standoff": 15
           },
           "zerolinecolor": "white",
           "zerolinewidth": 2
          }
         }
        },
        "title": {
         "font": {
          "size": 22
         },
         "text": "i:0.1, average k:0.8"
        },
        "xaxis": {
         "tickfont": {
          "size": 16
         },
         "title": {
          "font": {
           "size": 20
          },
          "text": "Time Step"
         }
        },
        "yaxis": {
         "tickfont": {
          "size": 16
         },
         "title": {
          "font": {
           "size": 20
          },
          "text": "Amount of People"
         }
        }
       }
      }
     },
     "metadata": {},
     "output_type": "display_data"
    }
   ],
   "source": [
    "titles = [f\"i:{case['i']}, average k:{case['average_k']}\" for case in cases]\n",
    "plot_cases_amount(cases, titles)"
   ]
  },
  {
   "cell_type": "code",
   "execution_count": 22,
   "id": "cea9af39",
   "metadata": {},
   "outputs": [
    {
     "data": {
      "application/vnd.plotly.v1+json": {
       "config": {
        "plotlyServerURL": "https://plot.ly"
       },
       "data": [
        {
         "name": "i:0.01, average k:5.0",
         "type": "bar",
         "width": 0.5,
         "x": [
          0,
          1,
          2,
          3,
          4,
          5,
          6,
          7,
          8,
          9,
          10,
          11,
          12,
          13,
          14,
          15,
          16,
          17,
          18,
          19,
          20,
          21,
          22,
          23,
          24,
          25,
          26,
          27,
          28,
          29,
          30,
          31,
          32,
          33,
          34,
          35,
          36,
          37,
          38,
          39,
          40,
          41,
          42,
          43,
          44,
          45,
          46,
          47,
          48,
          49,
          50,
          51,
          52,
          53,
          54,
          55,
          56,
          57,
          58,
          59,
          60,
          61,
          62,
          63,
          64,
          65,
          66,
          67,
          68,
          69,
          70,
          71,
          72,
          73,
          74,
          75,
          76,
          77,
          78,
          79,
          80,
          81,
          82,
          83,
          84,
          85,
          86,
          87,
          88,
          89,
          90,
          91,
          92,
          93,
          94,
          95,
          96,
          97,
          98,
          99,
          100
         ],
         "y": [
          0.1,
          0.1,
          0.11,
          0.11,
          0.12,
          0.12,
          0.13,
          0.13,
          0.14,
          0.15,
          0.15,
          0.16,
          0.16,
          0.17,
          0.18,
          0.18,
          0.19,
          0.2,
          0.21,
          0.21,
          0.22,
          0.23,
          0.24,
          0.24,
          0.25,
          0.26,
          0.27,
          0.28,
          0.29,
          0.29,
          0.3,
          0.31,
          0.32,
          0.33,
          0.34,
          0.35,
          0.36,
          0.37,
          0.38,
          0.39,
          0.4,
          0.41,
          0.42,
          0.43,
          0.44,
          0.45,
          0.46,
          0.47,
          0.48,
          0.49,
          0.49,
          0.5,
          0.51,
          0.52,
          0.53,
          0.54,
          0.55,
          0.56,
          0.57,
          0.58,
          0.59,
          0.6,
          0.61,
          0.61,
          0.62,
          0.63,
          0.64,
          0.65,
          0.66,
          0.66,
          0.67,
          0.68,
          0.69,
          0.69,
          0.7,
          0.71,
          0.72,
          0.72,
          0.73,
          0.74,
          0.74,
          0.75,
          0.75,
          0.76,
          0.77,
          0.77,
          0.78,
          0.78,
          0.79,
          0.79,
          0.8,
          0.8,
          0.81,
          0.81,
          0.82,
          0.82,
          0.83,
          0.83,
          0.84,
          0.84,
          0.84
         ]
        },
        {
         "name": "i:0.1, average k:0.8",
         "type": "bar",
         "width": 0.5,
         "x": [
          0,
          1,
          2,
          3,
          4,
          5,
          6,
          7,
          8,
          9,
          10,
          11,
          12,
          13,
          14,
          15,
          16,
          17,
          18,
          19,
          20,
          21,
          22,
          23,
          24,
          25,
          26,
          27,
          28,
          29,
          30,
          31,
          32,
          33,
          34,
          35,
          36,
          37,
          38,
          39,
          40,
          41,
          42,
          43,
          44,
          45,
          46,
          47,
          48,
          49,
          50,
          51,
          52,
          53,
          54,
          55,
          56,
          57,
          58,
          59,
          60,
          61,
          62,
          63,
          64,
          65,
          66,
          67,
          68,
          69,
          70,
          71,
          72,
          73,
          74,
          75,
          76,
          77,
          78,
          79,
          80,
          81,
          82,
          83,
          84,
          85,
          86,
          87,
          88,
          89,
          90,
          91,
          92,
          93,
          94,
          95,
          96,
          97,
          98,
          99,
          100
         ],
         "y": [
          0.1,
          0.11,
          0.11,
          0.12,
          0.13,
          0.13,
          0.14,
          0.15,
          0.15,
          0.16,
          0.16,
          0.17,
          0.17,
          0.18,
          0.18,
          0.19,
          0.19,
          0.19,
          0.2,
          0.2,
          0.21,
          0.21,
          0.21,
          0.21,
          0.22,
          0.22,
          0.22,
          0.23,
          0.23,
          0.23,
          0.23,
          0.23,
          0.24,
          0.24,
          0.24,
          0.24,
          0.24,
          0.25,
          0.25,
          0.25,
          0.25,
          0.25,
          0.25,
          0.25,
          0.25,
          0.26,
          0.26,
          0.26,
          0.26,
          0.26,
          0.26,
          0.26,
          0.26,
          0.26,
          0.26,
          0.26,
          0.27,
          0.27,
          0.27,
          0.27,
          0.27,
          0.27,
          0.27,
          0.27,
          0.27,
          0.27,
          0.27,
          0.27,
          0.27,
          0.27,
          0.27,
          0.27,
          0.27,
          0.27,
          0.27,
          0.27,
          0.27,
          0.28,
          0.28,
          0.28,
          0.28,
          0.28,
          0.28,
          0.28,
          0.28,
          0.28,
          0.28,
          0.28,
          0.28,
          0.28,
          0.28,
          0.28,
          0.28,
          0.28,
          0.28,
          0.28,
          0.28,
          0.28,
          0.28,
          0.28,
          0.28
         ]
        }
       ],
       "layout": {
        "legend": {
         "font": {
          "size": 18
         },
         "title": {
          "text": "Category"
         }
        },
        "template": {
         "data": {
          "bar": [
           {
            "error_x": {
             "color": "#2a3f5f"
            },
            "error_y": {
             "color": "#2a3f5f"
            },
            "marker": {
             "line": {
              "color": "#E5ECF6",
              "width": 0.5
             },
             "pattern": {
              "fillmode": "overlay",
              "size": 10,
              "solidity": 0.2
             }
            },
            "type": "bar"
           }
          ],
          "barpolar": [
           {
            "marker": {
             "line": {
              "color": "#E5ECF6",
              "width": 0.5
             },
             "pattern": {
              "fillmode": "overlay",
              "size": 10,
              "solidity": 0.2
             }
            },
            "type": "barpolar"
           }
          ],
          "carpet": [
           {
            "aaxis": {
             "endlinecolor": "#2a3f5f",
             "gridcolor": "white",
             "linecolor": "white",
             "minorgridcolor": "white",
             "startlinecolor": "#2a3f5f"
            },
            "baxis": {
             "endlinecolor": "#2a3f5f",
             "gridcolor": "white",
             "linecolor": "white",
             "minorgridcolor": "white",
             "startlinecolor": "#2a3f5f"
            },
            "type": "carpet"
           }
          ],
          "choropleth": [
           {
            "colorbar": {
             "outlinewidth": 0,
             "ticks": ""
            },
            "type": "choropleth"
           }
          ],
          "contour": [
           {
            "colorbar": {
             "outlinewidth": 0,
             "ticks": ""
            },
            "colorscale": [
             [
              0,
              "#0d0887"
             ],
             [
              0.1111111111111111,
              "#46039f"
             ],
             [
              0.2222222222222222,
              "#7201a8"
             ],
             [
              0.3333333333333333,
              "#9c179e"
             ],
             [
              0.4444444444444444,
              "#bd3786"
             ],
             [
              0.5555555555555556,
              "#d8576b"
             ],
             [
              0.6666666666666666,
              "#ed7953"
             ],
             [
              0.7777777777777778,
              "#fb9f3a"
             ],
             [
              0.8888888888888888,
              "#fdca26"
             ],
             [
              1,
              "#f0f921"
             ]
            ],
            "type": "contour"
           }
          ],
          "contourcarpet": [
           {
            "colorbar": {
             "outlinewidth": 0,
             "ticks": ""
            },
            "type": "contourcarpet"
           }
          ],
          "heatmap": [
           {
            "colorbar": {
             "outlinewidth": 0,
             "ticks": ""
            },
            "colorscale": [
             [
              0,
              "#0d0887"
             ],
             [
              0.1111111111111111,
              "#46039f"
             ],
             [
              0.2222222222222222,
              "#7201a8"
             ],
             [
              0.3333333333333333,
              "#9c179e"
             ],
             [
              0.4444444444444444,
              "#bd3786"
             ],
             [
              0.5555555555555556,
              "#d8576b"
             ],
             [
              0.6666666666666666,
              "#ed7953"
             ],
             [
              0.7777777777777778,
              "#fb9f3a"
             ],
             [
              0.8888888888888888,
              "#fdca26"
             ],
             [
              1,
              "#f0f921"
             ]
            ],
            "type": "heatmap"
           }
          ],
          "heatmapgl": [
           {
            "colorbar": {
             "outlinewidth": 0,
             "ticks": ""
            },
            "colorscale": [
             [
              0,
              "#0d0887"
             ],
             [
              0.1111111111111111,
              "#46039f"
             ],
             [
              0.2222222222222222,
              "#7201a8"
             ],
             [
              0.3333333333333333,
              "#9c179e"
             ],
             [
              0.4444444444444444,
              "#bd3786"
             ],
             [
              0.5555555555555556,
              "#d8576b"
             ],
             [
              0.6666666666666666,
              "#ed7953"
             ],
             [
              0.7777777777777778,
              "#fb9f3a"
             ],
             [
              0.8888888888888888,
              "#fdca26"
             ],
             [
              1,
              "#f0f921"
             ]
            ],
            "type": "heatmapgl"
           }
          ],
          "histogram": [
           {
            "marker": {
             "pattern": {
              "fillmode": "overlay",
              "size": 10,
              "solidity": 0.2
             }
            },
            "type": "histogram"
           }
          ],
          "histogram2d": [
           {
            "colorbar": {
             "outlinewidth": 0,
             "ticks": ""
            },
            "colorscale": [
             [
              0,
              "#0d0887"
             ],
             [
              0.1111111111111111,
              "#46039f"
             ],
             [
              0.2222222222222222,
              "#7201a8"
             ],
             [
              0.3333333333333333,
              "#9c179e"
             ],
             [
              0.4444444444444444,
              "#bd3786"
             ],
             [
              0.5555555555555556,
              "#d8576b"
             ],
             [
              0.6666666666666666,
              "#ed7953"
             ],
             [
              0.7777777777777778,
              "#fb9f3a"
             ],
             [
              0.8888888888888888,
              "#fdca26"
             ],
             [
              1,
              "#f0f921"
             ]
            ],
            "type": "histogram2d"
           }
          ],
          "histogram2dcontour": [
           {
            "colorbar": {
             "outlinewidth": 0,
             "ticks": ""
            },
            "colorscale": [
             [
              0,
              "#0d0887"
             ],
             [
              0.1111111111111111,
              "#46039f"
             ],
             [
              0.2222222222222222,
              "#7201a8"
             ],
             [
              0.3333333333333333,
              "#9c179e"
             ],
             [
              0.4444444444444444,
              "#bd3786"
             ],
             [
              0.5555555555555556,
              "#d8576b"
             ],
             [
              0.6666666666666666,
              "#ed7953"
             ],
             [
              0.7777777777777778,
              "#fb9f3a"
             ],
             [
              0.8888888888888888,
              "#fdca26"
             ],
             [
              1,
              "#f0f921"
             ]
            ],
            "type": "histogram2dcontour"
           }
          ],
          "mesh3d": [
           {
            "colorbar": {
             "outlinewidth": 0,
             "ticks": ""
            },
            "type": "mesh3d"
           }
          ],
          "parcoords": [
           {
            "line": {
             "colorbar": {
              "outlinewidth": 0,
              "ticks": ""
             }
            },
            "type": "parcoords"
           }
          ],
          "pie": [
           {
            "automargin": true,
            "type": "pie"
           }
          ],
          "scatter": [
           {
            "fillpattern": {
             "fillmode": "overlay",
             "size": 10,
             "solidity": 0.2
            },
            "type": "scatter"
           }
          ],
          "scatter3d": [
           {
            "line": {
             "colorbar": {
              "outlinewidth": 0,
              "ticks": ""
             }
            },
            "marker": {
             "colorbar": {
              "outlinewidth": 0,
              "ticks": ""
             }
            },
            "type": "scatter3d"
           }
          ],
          "scattercarpet": [
           {
            "marker": {
             "colorbar": {
              "outlinewidth": 0,
              "ticks": ""
             }
            },
            "type": "scattercarpet"
           }
          ],
          "scattergeo": [
           {
            "marker": {
             "colorbar": {
              "outlinewidth": 0,
              "ticks": ""
             }
            },
            "type": "scattergeo"
           }
          ],
          "scattergl": [
           {
            "marker": {
             "colorbar": {
              "outlinewidth": 0,
              "ticks": ""
             }
            },
            "type": "scattergl"
           }
          ],
          "scattermapbox": [
           {
            "marker": {
             "colorbar": {
              "outlinewidth": 0,
              "ticks": ""
             }
            },
            "type": "scattermapbox"
           }
          ],
          "scatterpolar": [
           {
            "marker": {
             "colorbar": {
              "outlinewidth": 0,
              "ticks": ""
             }
            },
            "type": "scatterpolar"
           }
          ],
          "scatterpolargl": [
           {
            "marker": {
             "colorbar": {
              "outlinewidth": 0,
              "ticks": ""
             }
            },
            "type": "scatterpolargl"
           }
          ],
          "scatterternary": [
           {
            "marker": {
             "colorbar": {
              "outlinewidth": 0,
              "ticks": ""
             }
            },
            "type": "scatterternary"
           }
          ],
          "surface": [
           {
            "colorbar": {
             "outlinewidth": 0,
             "ticks": ""
            },
            "colorscale": [
             [
              0,
              "#0d0887"
             ],
             [
              0.1111111111111111,
              "#46039f"
             ],
             [
              0.2222222222222222,
              "#7201a8"
             ],
             [
              0.3333333333333333,
              "#9c179e"
             ],
             [
              0.4444444444444444,
              "#bd3786"
             ],
             [
              0.5555555555555556,
              "#d8576b"
             ],
             [
              0.6666666666666666,
              "#ed7953"
             ],
             [
              0.7777777777777778,
              "#fb9f3a"
             ],
             [
              0.8888888888888888,
              "#fdca26"
             ],
             [
              1,
              "#f0f921"
             ]
            ],
            "type": "surface"
           }
          ],
          "table": [
           {
            "cells": {
             "fill": {
              "color": "#EBF0F8"
             },
             "line": {
              "color": "white"
             }
            },
            "header": {
             "fill": {
              "color": "#C8D4E3"
             },
             "line": {
              "color": "white"
             }
            },
            "type": "table"
           }
          ]
         },
         "layout": {
          "annotationdefaults": {
           "arrowcolor": "#2a3f5f",
           "arrowhead": 0,
           "arrowwidth": 1
          },
          "autotypenumbers": "strict",
          "coloraxis": {
           "colorbar": {
            "outlinewidth": 0,
            "ticks": ""
           }
          },
          "colorscale": {
           "diverging": [
            [
             0,
             "#8e0152"
            ],
            [
             0.1,
             "#c51b7d"
            ],
            [
             0.2,
             "#de77ae"
            ],
            [
             0.3,
             "#f1b6da"
            ],
            [
             0.4,
             "#fde0ef"
            ],
            [
             0.5,
             "#f7f7f7"
            ],
            [
             0.6,
             "#e6f5d0"
            ],
            [
             0.7,
             "#b8e186"
            ],
            [
             0.8,
             "#7fbc41"
            ],
            [
             0.9,
             "#4d9221"
            ],
            [
             1,
             "#276419"
            ]
           ],
           "sequential": [
            [
             0,
             "#0d0887"
            ],
            [
             0.1111111111111111,
             "#46039f"
            ],
            [
             0.2222222222222222,
             "#7201a8"
            ],
            [
             0.3333333333333333,
             "#9c179e"
            ],
            [
             0.4444444444444444,
             "#bd3786"
            ],
            [
             0.5555555555555556,
             "#d8576b"
            ],
            [
             0.6666666666666666,
             "#ed7953"
            ],
            [
             0.7777777777777778,
             "#fb9f3a"
            ],
            [
             0.8888888888888888,
             "#fdca26"
            ],
            [
             1,
             "#f0f921"
            ]
           ],
           "sequentialminus": [
            [
             0,
             "#0d0887"
            ],
            [
             0.1111111111111111,
             "#46039f"
            ],
            [
             0.2222222222222222,
             "#7201a8"
            ],
            [
             0.3333333333333333,
             "#9c179e"
            ],
            [
             0.4444444444444444,
             "#bd3786"
            ],
            [
             0.5555555555555556,
             "#d8576b"
            ],
            [
             0.6666666666666666,
             "#ed7953"
            ],
            [
             0.7777777777777778,
             "#fb9f3a"
            ],
            [
             0.8888888888888888,
             "#fdca26"
            ],
            [
             1,
             "#f0f921"
            ]
           ]
          },
          "colorway": [
           "#636efa",
           "#EF553B",
           "#00cc96",
           "#ab63fa",
           "#FFA15A",
           "#19d3f3",
           "#FF6692",
           "#B6E880",
           "#FF97FF",
           "#FECB52"
          ],
          "font": {
           "color": "#2a3f5f"
          },
          "geo": {
           "bgcolor": "white",
           "lakecolor": "white",
           "landcolor": "#E5ECF6",
           "showlakes": true,
           "showland": true,
           "subunitcolor": "white"
          },
          "hoverlabel": {
           "align": "left"
          },
          "hovermode": "closest",
          "mapbox": {
           "style": "light"
          },
          "paper_bgcolor": "white",
          "plot_bgcolor": "#E5ECF6",
          "polar": {
           "angularaxis": {
            "gridcolor": "white",
            "linecolor": "white",
            "ticks": ""
           },
           "bgcolor": "#E5ECF6",
           "radialaxis": {
            "gridcolor": "white",
            "linecolor": "white",
            "ticks": ""
           }
          },
          "scene": {
           "xaxis": {
            "backgroundcolor": "#E5ECF6",
            "gridcolor": "white",
            "gridwidth": 2,
            "linecolor": "white",
            "showbackground": true,
            "ticks": "",
            "zerolinecolor": "white"
           },
           "yaxis": {
            "backgroundcolor": "#E5ECF6",
            "gridcolor": "white",
            "gridwidth": 2,
            "linecolor": "white",
            "showbackground": true,
            "ticks": "",
            "zerolinecolor": "white"
           },
           "zaxis": {
            "backgroundcolor": "#E5ECF6",
            "gridcolor": "white",
            "gridwidth": 2,
            "linecolor": "white",
            "showbackground": true,
            "ticks": "",
            "zerolinecolor": "white"
           }
          },
          "shapedefaults": {
           "line": {
            "color": "#2a3f5f"
           }
          },
          "ternary": {
           "aaxis": {
            "gridcolor": "white",
            "linecolor": "white",
            "ticks": ""
           },
           "baxis": {
            "gridcolor": "white",
            "linecolor": "white",
            "ticks": ""
           },
           "bgcolor": "#E5ECF6",
           "caxis": {
            "gridcolor": "white",
            "linecolor": "white",
            "ticks": ""
           }
          },
          "title": {
           "x": 0.05
          },
          "xaxis": {
           "automargin": true,
           "gridcolor": "white",
           "linecolor": "white",
           "ticks": "",
           "title": {
            "standoff": 15
           },
           "zerolinecolor": "white",
           "zerolinewidth": 2
          },
          "yaxis": {
           "automargin": true,
           "gridcolor": "white",
           "linecolor": "white",
           "ticks": "",
           "title": {
            "standoff": 15
           },
           "zerolinecolor": "white",
           "zerolinewidth": 2
          }
         }
        },
        "title": {
         "font": {
          "size": 22
         },
         "text": "Fraction of Infected Nodes over Time"
        },
        "xaxis": {
         "tickfont": {
          "size": 16
         },
         "title": {
          "font": {
           "size": 20
          },
          "text": "Time Step"
         }
        },
        "yaxis": {
         "tickfont": {
          "size": 16
         },
         "title": {
          "font": {
           "size": 20
          },
          "text": "Fraction of Infected Nodes (I/N)"
         }
        }
       }
      }
     },
     "metadata": {},
     "output_type": "display_data"
    }
   ],
   "source": [
    "titles = {\n",
    "    'case_value': [f\"i:{case['i']}, average k:{case['average_k']}\" for case in cases],\n",
    "    'fig_title': \"Fraction of Infected Nodes over Time\",\n",
    "    'x': \"Time Step\",\n",
    "    'y': \"Fraction of Infected Nodes (I/N)\"\n",
    "}\n",
    "plot_array(cases, titles, base='infected_fractions')"
   ]
  },
  {
   "cell_type": "code",
   "execution_count": 23,
   "id": "e051bcc3",
   "metadata": {},
   "outputs": [
    {
     "data": {
      "application/vnd.plotly.v1+json": {
       "config": {
        "plotlyServerURL": "https://plot.ly"
       },
       "data": [
        {
         "name": "i:0.01, average k:5.0",
         "type": "bar",
         "width": 0.5,
         "x": [
          0,
          1,
          2,
          3,
          4,
          5,
          6,
          7,
          8,
          9,
          10,
          11,
          12,
          13,
          14,
          15,
          16,
          17,
          18,
          19,
          20,
          21,
          22,
          23,
          24,
          25,
          26,
          27,
          28,
          29,
          30,
          31,
          32,
          33,
          34,
          35,
          36,
          37,
          38,
          39,
          40,
          41,
          42,
          43,
          44,
          45,
          46,
          47,
          48,
          49,
          50,
          51,
          52,
          53,
          54,
          55,
          56,
          57,
          58,
          59,
          60,
          61,
          62,
          63,
          64,
          65,
          66,
          67,
          68,
          69,
          70,
          71,
          72,
          73,
          74,
          75,
          76,
          77,
          78,
          79,
          80,
          81,
          82,
          83,
          84,
          85,
          86,
          87,
          88,
          89,
          90,
          91,
          92,
          93,
          94,
          95,
          96,
          97,
          98,
          99
         ],
         "y": [
          0.04,
          0.04,
          0.04,
          0.04,
          0.05,
          0.04,
          0.04,
          0.04,
          0.04,
          0.04,
          0.04,
          0.04,
          0.04,
          0.04,
          0.04,
          0.04,
          0.04,
          0.03,
          0.04,
          0.03,
          0.04,
          0.03,
          0.04,
          0.03,
          0.03,
          0.03,
          0.03,
          0.03,
          0.03,
          0.03,
          0.03,
          0.03,
          0.03,
          0.03,
          0.03,
          0.03,
          0.03,
          0.03,
          0.02,
          0.03,
          0.02,
          0.02,
          0.02,
          0.02,
          0.02,
          0.02,
          0.02,
          0.02,
          0.02,
          0.02,
          0.02,
          0.02,
          0.02,
          0.02,
          0.02,
          0.02,
          0.02,
          0.02,
          0.02,
          0.01,
          0.02,
          0.02,
          0.01,
          0.01,
          0.01,
          0.01,
          0.01,
          0.01,
          0.01,
          0.01,
          0.01,
          0.01,
          0.01,
          0.01,
          0.01,
          0.01,
          0.01,
          0.01,
          0.01,
          0.01,
          0.01,
          0.01,
          0.01,
          0.01,
          0.01,
          0.01,
          0.01,
          0.01,
          0.01,
          0.01,
          0.01,
          0.01,
          0.01,
          0.01,
          0.01,
          0.01,
          0.01,
          0.01,
          0,
          0.01
         ]
        },
        {
         "name": "i:0.1, average k:0.8",
         "type": "bar",
         "width": 0.5,
         "x": [
          0,
          1,
          2,
          3,
          4,
          5,
          6,
          7,
          8,
          9,
          10,
          11,
          12,
          13,
          14,
          15,
          16,
          17,
          18,
          19,
          20,
          21,
          22,
          23,
          24,
          25,
          26,
          27,
          28,
          29,
          30,
          31,
          32,
          33,
          34,
          35,
          36,
          37,
          38,
          39,
          40,
          41,
          42,
          43,
          44,
          45,
          46,
          47,
          48,
          49,
          50,
          51,
          52,
          53,
          54,
          55,
          56,
          57,
          58,
          59,
          60,
          61,
          62,
          63,
          64,
          65,
          66,
          67,
          68,
          69,
          70,
          71,
          72,
          73,
          74,
          75,
          76,
          77,
          78,
          79,
          80,
          81,
          82,
          83,
          84,
          85,
          86,
          87,
          88,
          89,
          90,
          91,
          92,
          93,
          94,
          95,
          96,
          97,
          98,
          99
         ],
         "y": [
          0.07,
          0.08,
          0.07,
          0.06,
          0.06,
          0.05,
          0.04,
          0.04,
          0.04,
          0.04,
          0.03,
          0.03,
          0.03,
          0.03,
          0.02,
          0.02,
          0.02,
          0.02,
          0.02,
          0.02,
          0.02,
          0.01,
          0.02,
          0.01,
          0.01,
          0.01,
          0.01,
          0.01,
          0.01,
          0.01,
          0.01,
          0.01,
          0.01,
          0.01,
          0.01,
          0.01,
          0.01,
          0.01,
          0.01,
          0.01,
          0.01,
          0.01,
          0.01,
          0,
          0,
          0,
          0,
          0,
          0,
          0,
          0,
          0,
          0,
          0,
          0,
          0,
          0,
          0,
          0,
          0,
          0,
          0,
          0,
          0,
          0,
          0,
          0,
          0,
          0,
          0,
          0,
          0,
          0,
          0,
          0,
          0,
          0,
          0,
          0,
          0,
          0,
          0,
          0,
          0,
          0,
          0,
          0,
          0,
          0,
          0,
          0,
          0,
          0,
          0,
          0,
          0,
          0,
          0,
          0,
          0
         ]
        }
       ],
       "layout": {
        "legend": {
         "font": {
          "size": 18
         },
         "title": {
          "text": "Category"
         }
        },
        "template": {
         "data": {
          "bar": [
           {
            "error_x": {
             "color": "#2a3f5f"
            },
            "error_y": {
             "color": "#2a3f5f"
            },
            "marker": {
             "line": {
              "color": "#E5ECF6",
              "width": 0.5
             },
             "pattern": {
              "fillmode": "overlay",
              "size": 10,
              "solidity": 0.2
             }
            },
            "type": "bar"
           }
          ],
          "barpolar": [
           {
            "marker": {
             "line": {
              "color": "#E5ECF6",
              "width": 0.5
             },
             "pattern": {
              "fillmode": "overlay",
              "size": 10,
              "solidity": 0.2
             }
            },
            "type": "barpolar"
           }
          ],
          "carpet": [
           {
            "aaxis": {
             "endlinecolor": "#2a3f5f",
             "gridcolor": "white",
             "linecolor": "white",
             "minorgridcolor": "white",
             "startlinecolor": "#2a3f5f"
            },
            "baxis": {
             "endlinecolor": "#2a3f5f",
             "gridcolor": "white",
             "linecolor": "white",
             "minorgridcolor": "white",
             "startlinecolor": "#2a3f5f"
            },
            "type": "carpet"
           }
          ],
          "choropleth": [
           {
            "colorbar": {
             "outlinewidth": 0,
             "ticks": ""
            },
            "type": "choropleth"
           }
          ],
          "contour": [
           {
            "colorbar": {
             "outlinewidth": 0,
             "ticks": ""
            },
            "colorscale": [
             [
              0,
              "#0d0887"
             ],
             [
              0.1111111111111111,
              "#46039f"
             ],
             [
              0.2222222222222222,
              "#7201a8"
             ],
             [
              0.3333333333333333,
              "#9c179e"
             ],
             [
              0.4444444444444444,
              "#bd3786"
             ],
             [
              0.5555555555555556,
              "#d8576b"
             ],
             [
              0.6666666666666666,
              "#ed7953"
             ],
             [
              0.7777777777777778,
              "#fb9f3a"
             ],
             [
              0.8888888888888888,
              "#fdca26"
             ],
             [
              1,
              "#f0f921"
             ]
            ],
            "type": "contour"
           }
          ],
          "contourcarpet": [
           {
            "colorbar": {
             "outlinewidth": 0,
             "ticks": ""
            },
            "type": "contourcarpet"
           }
          ],
          "heatmap": [
           {
            "colorbar": {
             "outlinewidth": 0,
             "ticks": ""
            },
            "colorscale": [
             [
              0,
              "#0d0887"
             ],
             [
              0.1111111111111111,
              "#46039f"
             ],
             [
              0.2222222222222222,
              "#7201a8"
             ],
             [
              0.3333333333333333,
              "#9c179e"
             ],
             [
              0.4444444444444444,
              "#bd3786"
             ],
             [
              0.5555555555555556,
              "#d8576b"
             ],
             [
              0.6666666666666666,
              "#ed7953"
             ],
             [
              0.7777777777777778,
              "#fb9f3a"
             ],
             [
              0.8888888888888888,
              "#fdca26"
             ],
             [
              1,
              "#f0f921"
             ]
            ],
            "type": "heatmap"
           }
          ],
          "heatmapgl": [
           {
            "colorbar": {
             "outlinewidth": 0,
             "ticks": ""
            },
            "colorscale": [
             [
              0,
              "#0d0887"
             ],
             [
              0.1111111111111111,
              "#46039f"
             ],
             [
              0.2222222222222222,
              "#7201a8"
             ],
             [
              0.3333333333333333,
              "#9c179e"
             ],
             [
              0.4444444444444444,
              "#bd3786"
             ],
             [
              0.5555555555555556,
              "#d8576b"
             ],
             [
              0.6666666666666666,
              "#ed7953"
             ],
             [
              0.7777777777777778,
              "#fb9f3a"
             ],
             [
              0.8888888888888888,
              "#fdca26"
             ],
             [
              1,
              "#f0f921"
             ]
            ],
            "type": "heatmapgl"
           }
          ],
          "histogram": [
           {
            "marker": {
             "pattern": {
              "fillmode": "overlay",
              "size": 10,
              "solidity": 0.2
             }
            },
            "type": "histogram"
           }
          ],
          "histogram2d": [
           {
            "colorbar": {
             "outlinewidth": 0,
             "ticks": ""
            },
            "colorscale": [
             [
              0,
              "#0d0887"
             ],
             [
              0.1111111111111111,
              "#46039f"
             ],
             [
              0.2222222222222222,
              "#7201a8"
             ],
             [
              0.3333333333333333,
              "#9c179e"
             ],
             [
              0.4444444444444444,
              "#bd3786"
             ],
             [
              0.5555555555555556,
              "#d8576b"
             ],
             [
              0.6666666666666666,
              "#ed7953"
             ],
             [
              0.7777777777777778,
              "#fb9f3a"
             ],
             [
              0.8888888888888888,
              "#fdca26"
             ],
             [
              1,
              "#f0f921"
             ]
            ],
            "type": "histogram2d"
           }
          ],
          "histogram2dcontour": [
           {
            "colorbar": {
             "outlinewidth": 0,
             "ticks": ""
            },
            "colorscale": [
             [
              0,
              "#0d0887"
             ],
             [
              0.1111111111111111,
              "#46039f"
             ],
             [
              0.2222222222222222,
              "#7201a8"
             ],
             [
              0.3333333333333333,
              "#9c179e"
             ],
             [
              0.4444444444444444,
              "#bd3786"
             ],
             [
              0.5555555555555556,
              "#d8576b"
             ],
             [
              0.6666666666666666,
              "#ed7953"
             ],
             [
              0.7777777777777778,
              "#fb9f3a"
             ],
             [
              0.8888888888888888,
              "#fdca26"
             ],
             [
              1,
              "#f0f921"
             ]
            ],
            "type": "histogram2dcontour"
           }
          ],
          "mesh3d": [
           {
            "colorbar": {
             "outlinewidth": 0,
             "ticks": ""
            },
            "type": "mesh3d"
           }
          ],
          "parcoords": [
           {
            "line": {
             "colorbar": {
              "outlinewidth": 0,
              "ticks": ""
             }
            },
            "type": "parcoords"
           }
          ],
          "pie": [
           {
            "automargin": true,
            "type": "pie"
           }
          ],
          "scatter": [
           {
            "fillpattern": {
             "fillmode": "overlay",
             "size": 10,
             "solidity": 0.2
            },
            "type": "scatter"
           }
          ],
          "scatter3d": [
           {
            "line": {
             "colorbar": {
              "outlinewidth": 0,
              "ticks": ""
             }
            },
            "marker": {
             "colorbar": {
              "outlinewidth": 0,
              "ticks": ""
             }
            },
            "type": "scatter3d"
           }
          ],
          "scattercarpet": [
           {
            "marker": {
             "colorbar": {
              "outlinewidth": 0,
              "ticks": ""
             }
            },
            "type": "scattercarpet"
           }
          ],
          "scattergeo": [
           {
            "marker": {
             "colorbar": {
              "outlinewidth": 0,
              "ticks": ""
             }
            },
            "type": "scattergeo"
           }
          ],
          "scattergl": [
           {
            "marker": {
             "colorbar": {
              "outlinewidth": 0,
              "ticks": ""
             }
            },
            "type": "scattergl"
           }
          ],
          "scattermapbox": [
           {
            "marker": {
             "colorbar": {
              "outlinewidth": 0,
              "ticks": ""
             }
            },
            "type": "scattermapbox"
           }
          ],
          "scatterpolar": [
           {
            "marker": {
             "colorbar": {
              "outlinewidth": 0,
              "ticks": ""
             }
            },
            "type": "scatterpolar"
           }
          ],
          "scatterpolargl": [
           {
            "marker": {
             "colorbar": {
              "outlinewidth": 0,
              "ticks": ""
             }
            },
            "type": "scatterpolargl"
           }
          ],
          "scatterternary": [
           {
            "marker": {
             "colorbar": {
              "outlinewidth": 0,
              "ticks": ""
             }
            },
            "type": "scatterternary"
           }
          ],
          "surface": [
           {
            "colorbar": {
             "outlinewidth": 0,
             "ticks": ""
            },
            "colorscale": [
             [
              0,
              "#0d0887"
             ],
             [
              0.1111111111111111,
              "#46039f"
             ],
             [
              0.2222222222222222,
              "#7201a8"
             ],
             [
              0.3333333333333333,
              "#9c179e"
             ],
             [
              0.4444444444444444,
              "#bd3786"
             ],
             [
              0.5555555555555556,
              "#d8576b"
             ],
             [
              0.6666666666666666,
              "#ed7953"
             ],
             [
              0.7777777777777778,
              "#fb9f3a"
             ],
             [
              0.8888888888888888,
              "#fdca26"
             ],
             [
              1,
              "#f0f921"
             ]
            ],
            "type": "surface"
           }
          ],
          "table": [
           {
            "cells": {
             "fill": {
              "color": "#EBF0F8"
             },
             "line": {
              "color": "white"
             }
            },
            "header": {
             "fill": {
              "color": "#C8D4E3"
             },
             "line": {
              "color": "white"
             }
            },
            "type": "table"
           }
          ]
         },
         "layout": {
          "annotationdefaults": {
           "arrowcolor": "#2a3f5f",
           "arrowhead": 0,
           "arrowwidth": 1
          },
          "autotypenumbers": "strict",
          "coloraxis": {
           "colorbar": {
            "outlinewidth": 0,
            "ticks": ""
           }
          },
          "colorscale": {
           "diverging": [
            [
             0,
             "#8e0152"
            ],
            [
             0.1,
             "#c51b7d"
            ],
            [
             0.2,
             "#de77ae"
            ],
            [
             0.3,
             "#f1b6da"
            ],
            [
             0.4,
             "#fde0ef"
            ],
            [
             0.5,
             "#f7f7f7"
            ],
            [
             0.6,
             "#e6f5d0"
            ],
            [
             0.7,
             "#b8e186"
            ],
            [
             0.8,
             "#7fbc41"
            ],
            [
             0.9,
             "#4d9221"
            ],
            [
             1,
             "#276419"
            ]
           ],
           "sequential": [
            [
             0,
             "#0d0887"
            ],
            [
             0.1111111111111111,
             "#46039f"
            ],
            [
             0.2222222222222222,
             "#7201a8"
            ],
            [
             0.3333333333333333,
             "#9c179e"
            ],
            [
             0.4444444444444444,
             "#bd3786"
            ],
            [
             0.5555555555555556,
             "#d8576b"
            ],
            [
             0.6666666666666666,
             "#ed7953"
            ],
            [
             0.7777777777777778,
             "#fb9f3a"
            ],
            [
             0.8888888888888888,
             "#fdca26"
            ],
            [
             1,
             "#f0f921"
            ]
           ],
           "sequentialminus": [
            [
             0,
             "#0d0887"
            ],
            [
             0.1111111111111111,
             "#46039f"
            ],
            [
             0.2222222222222222,
             "#7201a8"
            ],
            [
             0.3333333333333333,
             "#9c179e"
            ],
            [
             0.4444444444444444,
             "#bd3786"
            ],
            [
             0.5555555555555556,
             "#d8576b"
            ],
            [
             0.6666666666666666,
             "#ed7953"
            ],
            [
             0.7777777777777778,
             "#fb9f3a"
            ],
            [
             0.8888888888888888,
             "#fdca26"
            ],
            [
             1,
             "#f0f921"
            ]
           ]
          },
          "colorway": [
           "#636efa",
           "#EF553B",
           "#00cc96",
           "#ab63fa",
           "#FFA15A",
           "#19d3f3",
           "#FF6692",
           "#B6E880",
           "#FF97FF",
           "#FECB52"
          ],
          "font": {
           "color": "#2a3f5f"
          },
          "geo": {
           "bgcolor": "white",
           "lakecolor": "white",
           "landcolor": "#E5ECF6",
           "showlakes": true,
           "showland": true,
           "subunitcolor": "white"
          },
          "hoverlabel": {
           "align": "left"
          },
          "hovermode": "closest",
          "mapbox": {
           "style": "light"
          },
          "paper_bgcolor": "white",
          "plot_bgcolor": "#E5ECF6",
          "polar": {
           "angularaxis": {
            "gridcolor": "white",
            "linecolor": "white",
            "ticks": ""
           },
           "bgcolor": "#E5ECF6",
           "radialaxis": {
            "gridcolor": "white",
            "linecolor": "white",
            "ticks": ""
           }
          },
          "scene": {
           "xaxis": {
            "backgroundcolor": "#E5ECF6",
            "gridcolor": "white",
            "gridwidth": 2,
            "linecolor": "white",
            "showbackground": true,
            "ticks": "",
            "zerolinecolor": "white"
           },
           "yaxis": {
            "backgroundcolor": "#E5ECF6",
            "gridcolor": "white",
            "gridwidth": 2,
            "linecolor": "white",
            "showbackground": true,
            "ticks": "",
            "zerolinecolor": "white"
           },
           "zaxis": {
            "backgroundcolor": "#E5ECF6",
            "gridcolor": "white",
            "gridwidth": 2,
            "linecolor": "white",
            "showbackground": true,
            "ticks": "",
            "zerolinecolor": "white"
           }
          },
          "shapedefaults": {
           "line": {
            "color": "#2a3f5f"
           }
          },
          "ternary": {
           "aaxis": {
            "gridcolor": "white",
            "linecolor": "white",
            "ticks": ""
           },
           "baxis": {
            "gridcolor": "white",
            "linecolor": "white",
            "ticks": ""
           },
           "bgcolor": "#E5ECF6",
           "caxis": {
            "gridcolor": "white",
            "linecolor": "white",
            "ticks": ""
           }
          },
          "title": {
           "x": 0.05
          },
          "xaxis": {
           "automargin": true,
           "gridcolor": "white",
           "linecolor": "white",
           "ticks": "",
           "title": {
            "standoff": 15
           },
           "zerolinecolor": "white",
           "zerolinewidth": 2
          },
          "yaxis": {
           "automargin": true,
           "gridcolor": "white",
           "linecolor": "white",
           "ticks": "",
           "title": {
            "standoff": 15
           },
           "zerolinecolor": "white",
           "zerolinewidth": 2
          }
         }
        },
        "title": {
         "font": {
          "size": 22
         },
         "text": "Derivative for the expected number of infections"
        },
        "xaxis": {
         "tickfont": {
          "size": 16
         },
         "title": {
          "font": {
           "size": 20
          },
          "text": "Time Step"
         }
        },
        "yaxis": {
         "tickfont": {
          "size": 16
         },
         "title": {
          "font": {
           "size": 20
          },
          "text": "Reproduction number (R0)"
         }
        }
       }
      }
     },
     "metadata": {},
     "output_type": "display_data"
    }
   ],
   "source": [
    "titles = {\n",
    "    'case_value': [f\"i:{case['i']}, average k:{case['average_k']}\" for case in cases],\n",
    "    'fig_title': \"Derivative for the expected number of infections\",\n",
    "    'x': \"Time Step\",\n",
    "    'y': \"Reproduction number (R0)\"\n",
    "}\n",
    "plot_array(cases, titles, base='R0')"
   ]
  },
  {
   "cell_type": "markdown",
   "id": "3c2971a2",
   "metadata": {},
   "source": [
    "# Epidemics, question 3\n",
    "## A"
   ]
  },
  {
   "cell_type": "code",
   "execution_count": null,
   "id": "a784def9",
   "metadata": {},
   "outputs": [],
   "source": [
    "N = 100000\n",
    "\n",
    "cases = [\n",
    "    {\"name\": \"i\", \"N\": N, \"i\": 0.01, \"average_k\": 5},\n",
    "    {\"name\": \"ii\", \"N\": N, \"i\": 0.1, \"average_k\": 0.8}\n",
    "]\n",
    "\n",
    "\n",
    "DECIMAL_ROUND = 2\n",
    "COFIDENCE_INTERVAL = 1.98\n",
    "\n",
    "T=100\n",
    "\n",
    "infected_init=0.1\n",
    "\n",
    "results_Q1 = run_evolution(cases, 30, T, infected_init)"
   ]
  },
  {
   "cell_type": "code",
   "execution_count": null,
   "id": "68cfe7f3",
   "metadata": {},
   "outputs": [],
   "source": [
    "def coupled_odes(I, S, b):\n",
    "    dI_dt = (1 - (1 - b)**I) * S \n",
    "    dS_dt = - (1 - (1 - b)**I) * S\n",
    "    \n",
    "    return dI_dt, dS_dt\n",
    "\n",
    "def euler_algo(function, t, b, x0):\n",
    "    I = np.zeros(len(t))\n",
    "    S = np.zeros(len(t))\n",
    "    I[0], S[0] = x0\n",
    "\n",
    "    for i, (first, second) in enumerate(zip(t, t[1:])):\n",
    "        dt = second - first\n",
    "        dI_dt, dS_dt = function(I[i], S[i], b)\n",
    "        I[i+1] = I[i] + dI_dt * dt\n",
    "        S[i+1] = S[i] + dS_dt * dt\n",
    "\n",
    "    return I\n",
    "\n",
    "plot_data = []\n",
    "\n",
    "t = np.linspace(0, 10, T+1) \n",
    "b_values = [0.1, 0.01]\n",
    "inital_value = N*b_values[0], N*(1-b_values[0])\n",
    "\n",
    "for b in b_values:\n",
    "    numerical = euler_algo(coupled_odes, t, b, inital_value)\n",
    "    trace = go.Scatter(x=t, y=numerical, mode='markers', name=f'Coupled ODE for b: {b}')\n",
    "    plot_data.append(trace)\n",
    "\n",
    "trace_ODE_1 = go.Scatter(x=t, y=results_Q1[0]['infected_counts'], mode='markers', name=f'NR, i: 0.01 and k:5.0')\n",
    "trace_ODE_2 = go.Scatter(x=t, y=results_Q1[1]['infected_counts'], mode='markers', name=f'NR, i: 0.1 and k:0.8')\n",
    "plot_data.append(trace_ODE_1)\n",
    "plot_data.append(trace_ODE_2)\n",
    "\n",
    "layout = go.Layout(\n",
    "    title='Numerical Solutions of Coupled ODEs vs network results (NR)',\n",
    "    xaxis=dict(title='Time'),\n",
    "    yaxis=dict(title='Amount of people'),\n",
    "    legend=dict(x=1, y=1)\n",
    ")\n",
    "\n",
    "\n",
    "fig = go.Figure(data=plot_data, layout=layout)\n",
    "\n",
    "fig.show()\n"
   ]
  },
  {
   "cell_type": "markdown",
   "id": "809e8cb4",
   "metadata": {},
   "source": [
    "# Epidemics, question 4\n",
    "## A\n",
    "\n"
   ]
  },
  {
   "cell_type": "markdown",
   "id": "03ade06b",
   "metadata": {},
   "source": []
  }
 ],
 "metadata": {
  "hide_input": false,
  "kernelspec": {
   "display_name": "Python 3 (ipykernel)",
   "language": "python",
   "name": "python3"
  },
  "language_info": {
   "codemirror_mode": {
    "name": "ipython",
    "version": 3
   },
   "file_extension": ".py",
   "mimetype": "text/x-python",
   "name": "python",
   "nbconvert_exporter": "python",
   "pygments_lexer": "ipython3",
   "version": "3.8.8"
  }
 },
 "nbformat": 4,
 "nbformat_minor": 5
}
