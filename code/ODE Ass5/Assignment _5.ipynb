{
 "cells": [
  {
   "cell_type": "markdown",
   "metadata": {},
   "source": [
    "# Question 3"
   ]
  },
  {
   "cell_type": "code",
   "execution_count": null,
   "metadata": {},
   "outputs": [],
   "source": [
    "import numpy as np\n",
    "import plotly.graph_objects as go\n",
    "\n",
    "\n",
    "def f1(x, t):\n",
    "    return 1\n",
    "\n",
    "def f2(x, t): \n",
    "    return 2*t\n",
    "\n",
    "def f3(x, t):\n",
    "    return -x\n",
    "\n",
    "\n",
    "def f1_sol(x, t):\n",
    "    return t\n",
    "\n",
    "def f2_sol(x, t):\n",
    "    return -2 * t**2 - 4\n",
    "\n",
    "def f3_sol(x, t):\n",
    "    return 4 * np.exp(-t)"
   ]
  },
  {
   "cell_type": "code",
   "execution_count": null,
   "metadata": {},
   "outputs": [],
   "source": [
    "def euler_algo(function, x0, t):\n",
    "    x = np.zeros(len(t))\n",
    "    x[0] = x0\n",
    "\n",
    "    for i, (first, second) in enumerate(zip(t, t[1:])):\n",
    "        dt = second - first\n",
    "        x[i+1] = x[i] + function(x[i], first) * dt\n",
    "        \n",
    "    return x\n",
    "\n",
    "\n",
    "def runge_kutta(function, x0, t):\n",
    "    x = np.zeros(len(t))\n",
    "    x[0] = x0\n",
    "    for i, (first, second) in enumerate(zip(t, t[1:])):\n",
    "        h = second - first\n",
    "        k_1 = h * function(x[i], first)\n",
    "        k_2 = h * function(x[i] + 0.5 * k_1, first + 0.5 * h)\n",
    "        k_3 = h * function(x[i] + 0.5 * k_2, first + 0.5 * h)\n",
    "        k_4 = h * function(x[i] + k_3, second)\n",
    "        x[i+1] = x[i] + (k_1 + 2 * k_2 + 2 * k_3 + k_4) / 6\n",
    "\n",
    "    return x"
   ]
  },
  {
   "cell_type": "code",
   "execution_count": null,
   "metadata": {},
   "outputs": [],
   "source": [
    "dt_vals = [0.01, 0.1, 1.0]\n",
    "\n",
    "\n",
    "for index, function in enumerate([f1,f2,f3,f1_sol, f2_sol, f3_sol]):\n",
    "    fig = go.Figure()\n",
    "\n",
    "    for dt in dt_vals:\n",
    "        t_steps = np.arange(0, 3 + dt, dt)\n",
    "        \n",
    "        if function == f1_sol or function == f1:\n",
    "            solution = euler_algo(function, 0, t_steps)\n",
    "        elif function == f2_sol or function == f2:\n",
    "            solution = euler_algo(function, -4, t_steps)\n",
    "        elif function == f3_sol or function == f3:\n",
    "            solution = euler_algo(function, 4, t_steps)\n",
    "\n",
    "        fig.add_trace(go.Scatter(x=t_steps, y=solution, mode='markers', name=f'{function.__name__} (dt={dt})'))\n",
    "\n",
    "\n",
    "    \n",
    "    fig.update_layout(\n",
    "        xaxis_title='Time (seconds)',\n",
    "        yaxis_title='Solution',\n",
    "        title_font=dict(size=22),  \n",
    "        xaxis=dict(title_font=dict(size=20), tickfont=dict(size=16)),  \n",
    "        yaxis=dict(title_font=dict(size=20), tickfont=dict(size=16)),  \n",
    "        legend=dict(font=dict(size=18))  \n",
    "    )\n",
    "    fig.update_traces(marker=dict(size=10))\n",
    "    fig.show()\n",
    "\n",
    "\n",
    "\n"
   ]
  },
  {
   "cell_type": "code",
   "execution_count": null,
   "metadata": {},
   "outputs": [],
   "source": [
    "for index, function in enumerate([f1,f2,f3,f1_sol, f2_sol, f3_sol]):\n",
    "    fig = go.Figure()\n",
    "\n",
    "    for dt in dt_vals:\n",
    "        t_steps = np.arange(0, 3 + dt, dt)\n",
    "        \n",
    "        if function == f1_sol or function == f1:\n",
    "            solution = runge_kutta(function, 0, t_steps)\n",
    "        elif function == f2_sol or function == f2:\n",
    "            solution = runge_kutta(function, -4, t_steps)\n",
    "        elif function == f3_sol or function == f3:\n",
    "            solution = runge_kutta(function, 4, t_steps)\n",
    "\n",
    "        fig.add_trace(go.Scatter(x=t_steps, y=solution, mode='markers', name=f'{function.__name__} (dt={dt})'))\n",
    "\n",
    "\n",
    "    fig.update_layout(\n",
    "        xaxis_title='Time (seconds)',\n",
    "        yaxis_title='Solution',\n",
    "        #         title=f'Runge Kutta Algorithm Results for Different ODEs and Time Steps f{index+1}',\n",
    "        title_font=dict(size=22),  \n",
    "        xaxis=dict(title_font=dict(size=20), tickfont=dict(size=16)), \n",
    "        yaxis=dict(title_font=dict(size=20), tickfont=dict(size=16)),\n",
    "        legend=dict(font=dict(size=18))  \n",
    "    )\n",
    "    fig.update_traces(marker=dict(size=10))\n",
    "    fig.show()"
   ]
  },
  {
   "cell_type": "markdown",
   "metadata": {},
   "source": [
    "# Question 4"
   ]
  },
  {
   "cell_type": "code",
   "execution_count": null,
   "metadata": {},
   "outputs": [],
   "source": []
  },
  {
   "cell_type": "markdown",
   "metadata": {},
   "source": [
    "# Question 5"
   ]
  },
  {
   "cell_type": "markdown",
   "metadata": {},
   "source": []
  },
  {
   "cell_type": "markdown",
   "metadata": {},
   "source": [
    "## Q5i"
   ]
  },
  {
   "cell_type": "code",
   "execution_count": null,
   "metadata": {},
   "outputs": [],
   "source": [
    "def Q5_v1(x, t):\n",
    "    x_max = 10\n",
    "    return x * (1 - (x/x_max))\n",
    "\n",
    "def Q5_v2(x, t):\n",
    "    x_max = 1000\n",
    "    return x * (1 - x/x_max)"
   ]
  },
  {
   "cell_type": "code",
   "execution_count": null,
   "metadata": {},
   "outputs": [],
   "source": [
    "for function in [Q5_v1, Q5_v2]:\n",
    "    for initial_contidition in [2, 20]:\n",
    "        fig = go.Figure()\n",
    "\n",
    "        for dt in dt_vals:\n",
    "            t_steps = np.arange(0, 10 + dt, dt)\n",
    "            solution = runge_kutta(function, initial_contidition, t_steps)\n",
    "            fig.add_trace(go.Scatter(x=t_steps, y=solution, mode='markers', name=f'{function.__name__} (dt={dt})'))\n",
    "\n",
    "\n",
    "        fig.update_layout(\n",
    "            xaxis_title='Time',\n",
    "            yaxis_title='Bunnies',\n",
    "            #         title=f'Runge Kutta Algorithm Results for Different ODEs and Time Steps f{index+1}',\n",
    "            title_font=dict(size=22),  \n",
    "            xaxis=dict(title_font=dict(size=20), tickfont=dict(size=16)), \n",
    "            yaxis=dict(title_font=dict(size=20), tickfont=dict(size=16)),\n",
    "            legend=dict(font=dict(size=18))  \n",
    "        )\n",
    "        fig.update_traces(marker=dict(size=8))\n",
    "        fig.show()\n"
   ]
  },
  {
   "cell_type": "markdown",
   "metadata": {},
   "source": [
    "## Q5L"
   ]
  },
  {
   "cell_type": "code",
   "execution_count": null,
   "metadata": {},
   "outputs": [],
   "source": [
    "xmax = 10\n",
    "\n",
    "x_values = np.linspace(-1, 10 + 1, 1000)\n",
    "\n",
    "\n",
    "dx_dt_values = Q5_v1(x_values, 0)\n",
    "\n",
    "\n",
    "fig = go.Figure()\n",
    "\n",
    "\n",
    "fig.add_trace(go.Scatter(x=x_values, y=dx_dt_values, mode='lines', name=f'Formula Q5L'))\n",
    "fig.add_trace(go.Scatter(x=[-1, xmax + 1], y=[0, 0], mode='lines', name='Zero Line', line=dict(dash='dash')))\n",
    "fig.add_trace(go.Scatter(x=[0, xmax], y=[0, 0], mode='markers', marker=dict(color='Green', size=10), name='Fixed Points'))\n",
    "\n",
    "\n",
    "fig.update_layout(\n",
    "    xaxis_title='x',\n",
    "    yaxis_title='dx/dt',\n",
    "#     title='ODE Stability Analysis',\n",
    "    title_font=dict(size=22),\n",
    "    xaxis=dict(title_font=dict(size=20), tickfont=dict(size=16)),\n",
    "    yaxis=dict(title_font=dict(size=20), tickfont=dict(size=16)),\n",
    "    legend=dict(font=dict(size=18))\n",
    ")\n",
    "\n",
    "\n",
    "fig.show()"
   ]
  },
  {
   "cell_type": "markdown",
   "metadata": {},
   "source": [
    "## Q5M"
   ]
  },
  {
   "cell_type": "code",
   "execution_count": null,
   "metadata": {},
   "outputs": [],
   "source": [
    "# Formula\n",
    "def Q5_with_r(x, t, x_max=1000, r = 10):\n",
    "    return x * (1 - (x/x_max)) - r\n",
    "\n",
    "initial_contidition = 20\n",
    "\n",
    "fig = go.Figure()\n",
    "\n",
    "for dt in dt_vals:\n",
    "    t_steps = np.arange(0, 10 + dt, dt)\n",
    "    solution = runge_kutta(Q5_with_r, initial_contidition, t_steps)\n",
    "    fig.add_trace(go.Scatter(x=t_steps, y=solution, mode='markers', name=f'{Q5_with_r.__name__} (dt={dt})'))\n",
    "\n",
    "\n",
    "fig.update_layout(\n",
    "    xaxis_title='Time',\n",
    "    yaxis_title='Bunnies',\n",
    "    title_font=dict(size=22),  \n",
    "    xaxis=dict(title_font=dict(size=20), tickfont=dict(size=16)), \n",
    "    yaxis=dict(title_font=dict(size=20), tickfont=dict(size=16)),\n",
    "    legend=dict(font=dict(size=18))  \n",
    ")\n",
    "fig.update_traces(marker=dict(size=8))\n",
    "fig.show()"
   ]
  },
  {
   "cell_type": "markdown",
   "metadata": {},
   "source": [
    "## Q5N"
   ]
  },
  {
   "cell_type": "code",
   "execution_count": null,
   "metadata": {},
   "outputs": [],
   "source": [
    "# Formula\n",
    "def Q5_with_r(x, t, x_max=10, r = 1):\n",
    "    return x * (1 - (x/x_max)) - r\n",
    "\n",
    "x_values = np.linspace(-1, 10 + 1, 1000)\n",
    "\n",
    "\n",
    "dx_dt_values = Q5_with_r(x_values, 0)\n",
    "\n",
    "\n",
    "fig = go.Figure()\n",
    "\n",
    "\n",
    "fig.add_trace(go.Scatter(x=x_values, y=dx_dt_values, mode='lines', name=f'Formula Q5_with_r'))\n",
    "fig.add_trace(go.Scatter(x=[-1, xmax + 1], y=[0, 0], mode='lines', name='Zero Line', line=dict(dash='dash')))\n",
    "\n",
    "\n",
    "fig.update_layout(\n",
    "    xaxis_title='x',\n",
    "    yaxis_title='dx/dt',\n",
    "    title_font=dict(size=22),\n",
    "    xaxis=dict(title_font=dict(size=20), tickfont=dict(size=16)),\n",
    "    yaxis=dict(title_font=dict(size=20), tickfont=dict(size=16)),\n",
    "    legend=dict(font=dict(size=18))\n",
    ")\n",
    "\n",
    "\n",
    "fig.show()"
   ]
  },
  {
   "cell_type": "code",
   "execution_count": null,
   "metadata": {},
   "outputs": [],
   "source": [
    "# Formula\n",
    "def Q5_with_r(x, t, x_max=100, r = 40):\n",
    "    return x * (1 - (x/x_max)) - r\n",
    "\n",
    "initial_contidition = 20\n",
    "\n",
    "fig = go.Figure()\n",
    "\n",
    "\n",
    "t_steps = np.arange(0, 10 + 1, 1)\n",
    "solution = runge_kutta(Q5_with_r, initial_contidition, t_steps)\n",
    "fig.add_trace(go.Scatter(x=t_steps, y=solution, mode='markers', name=f'{Q5_with_r.__name__} (dt={dt})'))\n",
    "\n",
    "\n",
    "fig.update_layout(\n",
    "    xaxis_title='Time',\n",
    "    yaxis_title='Bunnies',\n",
    "    title_font=dict(size=22),  \n",
    "    xaxis=dict(title_font=dict(size=20), tickfont=dict(size=16)), \n",
    "    yaxis=dict(title_font=dict(size=20), tickfont=dict(size=16)),\n",
    "    legend=dict(font=dict(size=18))  \n",
    ")\n",
    "fig.update_traces(marker=dict(size=8))\n",
    "fig.show()"
   ]
  },
  {
   "cell_type": "markdown",
   "metadata": {},
   "source": [
    "## Q5O"
   ]
  },
  {
   "cell_type": "code",
   "execution_count": null,
   "metadata": {},
   "outputs": [],
   "source": [
    "# Formula\n",
    "def Q5_with_r(x, t, x_max=100, r = 40):\n",
    "    return x * (1 - (x/x_max)) - r\n",
    "\n",
    "initial_contidition = 20\n",
    "\n",
    "fig = go.Figure()\n",
    "\n",
    "\n",
    "t_steps = np.arange(0, 10 + 1, 1)\n",
    "solution = runge_kutta(Q5_with_r, initial_contidition, t_steps)\n",
    "fig.add_trace(go.Scatter(x=t_steps, y=solution, mode='markers', name=f'{Q5_with_r.__name__} (dt={dt})'))\n",
    "\n",
    "\n",
    "fig.update_layout(\n",
    "    xaxis_title='Time',\n",
    "    yaxis_title='Bunnies',\n",
    "    title_font=dict(size=22),  \n",
    "    xaxis=dict(title_font=dict(size=20), tickfont=dict(size=16)), \n",
    "    yaxis=dict(title_font=dict(size=20), tickfont=dict(size=16)),\n",
    "    legend=dict(font=dict(size=18))  \n",
    ")\n",
    "fig.update_traces(marker=dict(size=8))\n",
    "fig.show()"
   ]
  }
 ],
 "metadata": {
  "language_info": {
   "name": "python"
  }
 },
 "nbformat": 4,
 "nbformat_minor": 2
}
