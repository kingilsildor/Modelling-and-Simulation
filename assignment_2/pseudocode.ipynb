{
 "cells": [
  {
   "cell_type": "markdown",
   "metadata": {},
   "source": [
    "1. Pick an arbitrary state $s \\in \\sum$, and call it the quiescent state $s_q$\n",
    "2. Count the number of rules in $\\Delta$ that produce this particular quiescent state, and call it $n$\n",
    "3. The other $k^{N}-n$ transitions must produce the non-quiescent states of $\\sum - s_q$, but may otherwise be\n",
    "chosen at random.\n",
    "$$ \\lambda(\\Delta) = \\frac{k^N - n}{k^N}$$"
   ]
  },
  {
   "cell_type": "markdown",
   "metadata": {},
   "source": [
    "Define $\\lambda(\\Delta)$ as the fraction of entries in $\\Delta$ that\n",
    "map to a non-zero value, i.e., $s_q = 0$ \n",
    "\n",
    "$N_0(\\Delta)$ = number neighbour configurations = 0\n",
    "\n",
    "$$ \\lambda(\\Delta) = 1 - \\frac{N_0(\\Delta)}{k^N}$$"
   ]
  },
  {
   "cell_type": "markdown",
   "metadata": {},
   "source": [
    "If $n = k^N$, all rules lead to $s_q,\\lambda = 0 $\n",
    "\n",
    "If $n = 0$, no rules lead to $s_q, \\lambda = 0 $\n",
    "$$ \\lambda(\\Delta) = \\frac{k^N - n}{k^N}$$\n",
    "\n",
    "All states represented equally: \n",
    "$$ n = \\frac{k^N}{k}, \\lambda = 1 - \\frac{1}{k} $$"
   ]
  },
  {
   "cell_type": "markdown",
   "metadata": {},
   "source": [
    "Two methods to build rule table for a particular value of $\\lambda$\n",
    "- Random table: $\\lambda$ is a bias on the random selection of states from $\\sum$.\n",
    "- Table walkthrough: start wih table entirely set to $s_q$ and change some to random according to $\\lambda$"
   ]
  },
  {
   "cell_type": "markdown",
   "metadata": {},
   "source": [
    "all possible rules = $ k^N $"
   ]
  }
 ],
 "metadata": {
  "language_info": {
   "name": "python"
  }
 },
 "nbformat": 4,
 "nbformat_minor": 2
}
